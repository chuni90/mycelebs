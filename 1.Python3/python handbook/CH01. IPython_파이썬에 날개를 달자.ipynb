{
 "cells": [
  {
   "cell_type": "code",
   "execution_count": null,
   "metadata": {},
   "outputs": [],
   "source": [
    "help(len)"
   ]
  },
  {
   "cell_type": "code",
   "execution_count": null,
   "metadata": {},
   "outputs": [],
   "source": [
    "len?"
   ]
  },
  {
   "cell_type": "code",
   "execution_count": null,
   "metadata": {},
   "outputs": [],
   "source": [
    "L = [1, 2, 3]\n",
    "help(L.insert)"
   ]
  },
  {
   "cell_type": "code",
   "execution_count": null,
   "metadata": {},
   "outputs": [],
   "source": [
    "L?\n",
    "L.insert(1,'33')\n",
    "print(L)"
   ]
  },
  {
   "cell_type": "code",
   "execution_count": null,
   "metadata": {},
   "outputs": [],
   "source": [
    "def sq(a):\n",
    "    \"\"\"a의 제곱을 반환\"\"\"\n",
    "    return a**2\n",
    "len??\n"
   ]
  },
  {
   "cell_type": "code",
   "execution_count": null,
   "metadata": {},
   "outputs": [],
   "source": [
    "L._"
   ]
  },
  {
   "cell_type": "code",
   "execution_count": null,
   "metadata": {},
   "outputs": [],
   "source": [
    "str.*find?\n"
   ]
  },
  {
   "cell_type": "code",
   "execution_count": null,
   "metadata": {},
   "outputs": [],
   "source": [
    "import math"
   ]
  },
  {
   "cell_type": "code",
   "execution_count": null,
   "metadata": {},
   "outputs": [],
   "source": [
    "math.sin(2)"
   ]
  },
  {
   "cell_type": "code",
   "execution_count": null,
   "metadata": {},
   "outputs": [],
   "source": [
    "math.cos(2)"
   ]
  },
  {
   "cell_type": "code",
   "execution_count": null,
   "metadata": {},
   "outputs": [],
   "source": [
    "print(In)  # In 프롬프트에 들어간 것이 list 형태로 반환됨"
   ]
  },
  {
   "cell_type": "code",
   "execution_count": null,
   "metadata": {},
   "outputs": [],
   "source": [
    "# Out 프롬프트에 저장된 값에서 [] 리스트 인덱싱을 통해 값을 가져오는 코드\n",
    "\n",
    "Out[72] +Out[73]"
   ]
  },
  {
   "cell_type": "code",
   "execution_count": null,
   "metadata": {},
   "outputs": [],
   "source": [
    "# print() 안에 _(UnderScore) 개수에 따라 최근의 Out 값을 출력 \n",
    "print(_)  # 최근 1번째 값\n",
    "print(__) # 2번째\n",
    "_73       # Out[X] 를 축약해서 _X로 사용할 수 있음, 73번째를 적용한 코드"
   ]
  },
  {
   "cell_type": "code",
   "execution_count": null,
   "metadata": {},
   "outputs": [],
   "source": [
    "# ;(세미콜론)을 붙임으로써 결과값out을 안 보기에 할 수 있음\n",
    "\n",
    "math.sin(2) + math.cos(1);"
   ]
  },
  {
   "cell_type": "code",
   "execution_count": null,
   "metadata": {},
   "outputs": [],
   "source": [
    "85 in Out  # 위에처럼 세미콜론을 사용한 경우, Out 리스트에 저장되지 않음"
   ]
  },
  {
   "cell_type": "code",
   "execution_count": null,
   "metadata": {},
   "outputs": [],
   "source": [
    "# masic % 을 이용해 터미널에서 실행되는 shell 명령어를 사용 가능함.\n",
    "\n",
    "%ls"
   ]
  },
  {
   "cell_type": "code",
   "execution_count": null,
   "metadata": {},
   "outputs": [],
   "source": [
    "%pwd"
   ]
  },
  {
   "cell_type": "markdown",
   "metadata": {},
   "source": [
    "- 그런데 이렇게 자주 사용하는 shell 명령어는 이미 파이썬에서 자동으로 %가 붙게끔 해놨다.   \n",
    "(shell 명령어 안에 # 주석처리가 안 먹힘) "
   ]
  },
  {
   "cell_type": "code",
   "execution_count": null,
   "metadata": {},
   "outputs": [],
   "source": [
    "pwd"
   ]
  },
  {
   "cell_type": "markdown",
   "metadata": {},
   "source": [
    "#### xmode \n",
    "- 에러원인을 보여주는 구문의 형태를 지정\n",
    "- Plain (심플), Context(기본값), Verbose(자세)"
   ]
  },
  {
   "cell_type": "code",
   "execution_count": null,
   "metadata": {},
   "outputs": [],
   "source": [
    "%xmode Plain"
   ]
  },
  {
   "cell_type": "code",
   "execution_count": null,
   "metadata": {},
   "outputs": [],
   "source": [
    "def myfuc(x):\n",
    "    return x+x\n",
    "myfuc(a)"
   ]
  },
  {
   "cell_type": "markdown",
   "metadata": {},
   "source": [
    "#### %debug\n",
    "- 대화형 디버깅 명령어\n",
    "- 내가 입력하는 값에 따라 오류를 추적해줌\n",
    "- 자주 쓸지는 모르겠네"
   ]
  },
  {
   "cell_type": "code",
   "execution_count": null,
   "metadata": {},
   "outputs": [],
   "source": [
    "%debug"
   ]
  },
  {
   "cell_type": "markdown",
   "metadata": {},
   "source": [
    "#### %time\n",
    "- %은 매직함수를 의미하며, %1개는 한 줄에만, %% 2개는 셀 전체에 적용됨\n",
    "- %time : 단일 코드의 실행 시간 측정\n",
    "- %timeit : 단일 코드를 반복 실행해서 정확한 시간 측정\n",
    "- 일반적으로 %time과 %timeit의 소요시간(result값)은 코드에 따라 차이가 크다"
   ]
  },
  {
   "cell_type": "code",
   "execution_count": null,
   "metadata": {},
   "outputs": [],
   "source": [
    "%time -c L = [n**2 for n in range(100)]"
   ]
  },
  {
   "cell_type": "code",
   "execution_count": null,
   "metadata": {},
   "outputs": [],
   "source": [
    "%timeit -c L = [n**2 for n in range(100)]"
   ]
  },
  {
   "cell_type": "code",
   "execution_count": null,
   "metadata": {},
   "outputs": [],
   "source": [
    "%%timeit -t\n",
    "L = []\n",
    "for n in range(100):\n",
    "    L.append(n**2)"
   ]
  },
  {
   "cell_type": "code",
   "execution_count": null,
   "metadata": {},
   "outputs": [],
   "source": [
    "%timeit?\n",
    "\n",
    "# Options:\n",
    "# -n<N>: execute the given statement <N> times in a loop. If <N> is not\n",
    "# provided, <N> is determined so as to get sufficient accuracy.\n",
    "\n",
    "# -r<R>: number of repeats <R>, each consisting of <N> loops, and take the\n",
    "# best result.\n",
    "# Default: 7\n",
    "\n",
    "# -t: use time.time to measure the time, which is the default on Unix.\n",
    "# This function measures wall time.\n",
    "\n",
    "# -c: use time.clock to measure the time, which is the default on\n",
    "# Windows and measures wall time. On Unix, resource.getrusage is used\n",
    "# instead and returns the CPU user time.\n",
    "\n",
    "# -p<P>: use a precision of <P> digits to display the timing result.\n",
    "# Default: 3\n",
    "\n",
    "# -q: Quiet, do not print result.\n",
    "\n",
    "# -o: return a TimeitResult that can be stored in a variable to inspect\n",
    "#     the result in more details."
   ]
  },
  {
   "cell_type": "code",
   "execution_count": null,
   "metadata": {
    "scrolled": true
   },
   "outputs": [],
   "source": [
    "import time\n",
    "%timeit -n1 time.sleep(2)"
   ]
  },
  {
   "cell_type": "code",
   "execution_count": null,
   "metadata": {},
   "outputs": [],
   "source": []
  }
 ],
 "metadata": {
  "kernelspec": {
   "display_name": "Python 3",
   "language": "python",
   "name": "python3"
  },
  "language_info": {
   "codemirror_mode": {
    "name": "ipython",
    "version": 3
   },
   "file_extension": ".py",
   "mimetype": "text/x-python",
   "name": "python",
   "nbconvert_exporter": "python",
   "pygments_lexer": "ipython3",
   "version": "3.7.3"
  }
 },
 "nbformat": 4,
 "nbformat_minor": 2
}
