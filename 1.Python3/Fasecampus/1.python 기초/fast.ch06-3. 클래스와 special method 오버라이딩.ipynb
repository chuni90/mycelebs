{
 "cells": [
  {
   "cell_type": "markdown",
   "metadata": {},
   "source": [
    "### special method 사용해보기\n",
    " - 아래는 스페셜 메소드의 사용 및 용어 참고 문서\n",
    "https://docs.python.org/3/reference/datamodel.html#object.__add__"
   ]
  },
  {
   "cell_type": "code",
   "execution_count": 1,
   "metadata": {},
   "outputs": [],
   "source": [
    "class Point :\n",
    "    def __init__(self, x, y) :\n",
    "        self.x = x\n",
    "        self.y = y\n",
    "        \n",
    "    def print_po(self) :\n",
    "        print('x: {}, y: {}'.format(self.x, self.y))"
   ]
  },
  {
   "cell_type": "code",
   "execution_count": 2,
   "metadata": {},
   "outputs": [
    {
     "name": "stdout",
     "output_type": "stream",
     "text": [
      "x: 1, y: 2\n",
      "x: 4, y: 5\n"
     ]
    }
   ],
   "source": [
    "p1 = Point(1, 2)\n",
    "p2 = Point(4, 5)\n",
    "\n",
    "p1.print_po()\n",
    "p2.print_po()"
   ]
  },
  {
   "cell_type": "markdown",
   "metadata": {},
   "source": [
    "* add라는 것을 사용하여 더하기를 구현"
   ]
  },
  {
   "cell_type": "code",
   "execution_count": 3,
   "metadata": {},
   "outputs": [],
   "source": [
    "class Point :\n",
    "    def __init__(self, x, y) :\n",
    "        self.x = x\n",
    "        self.y = y\n",
    "        \n",
    "    def print_po(self) :\n",
    "        print('x: {}, y: {}'.format(self.x, self.y))\n",
    "        \n",
    "    def add(self, pt) :\n",
    "        print('add', pt.x, pt.y)\n",
    "        return Point(self.x + pt.x, self.y + pt.y)"
   ]
  },
  {
   "cell_type": "code",
   "execution_count": 4,
   "metadata": {},
   "outputs": [
    {
     "name": "stdout",
     "output_type": "stream",
     "text": [
      "add 4 5\n",
      "x: 5, y: 7\n"
     ]
    }
   ],
   "source": [
    "p1 = Point(1, 2)\n",
    "p2 = Point(4, 5)\n",
    "\n",
    "p3 = p1.add(p2)\n",
    "p3.print_po()"
   ]
  },
  {
   "cell_type": "markdown",
   "metadata": {},
   "source": [
    "* 그러나 더하기를 기호를 사용하면 안 됨, 그래서 **스페셜 메소드를 구현(오버라이딩)**하고자 함"
   ]
  },
  {
   "cell_type": "code",
   "execution_count": 5,
   "metadata": {},
   "outputs": [
    {
     "ename": "TypeError",
     "evalue": "unsupported operand type(s) for +: 'Point' and 'Point'",
     "output_type": "error",
     "traceback": [
      "\u001b[1;31m---------------------------------------------------------------------------\u001b[0m",
      "\u001b[1;31mTypeError\u001b[0m                                 Traceback (most recent call last)",
      "\u001b[1;32m<ipython-input-5-3478c0be5e46>\u001b[0m in \u001b[0;36m<module>\u001b[1;34m\u001b[0m\n\u001b[1;32m----> 1\u001b[1;33m \u001b[0mp4\u001b[0m \u001b[1;33m=\u001b[0m \u001b[0mp1\u001b[0m \u001b[1;33m+\u001b[0m \u001b[0mp2\u001b[0m\u001b[1;33m\u001b[0m\u001b[1;33m\u001b[0m\u001b[0m\n\u001b[0m",
      "\u001b[1;31mTypeError\u001b[0m: unsupported operand type(s) for +: 'Point' and 'Point'"
     ]
    }
   ],
   "source": [
    "p4 = p1 + p2"
   ]
  },
  {
   "cell_type": "markdown",
   "metadata": {},
   "source": [
    "* 기존의 add에 앞뒤로 underscore를 2개씩 붙여줌으로써 구현함  \n",
    "  _ _ add _ _ = +  \n",
    "  \n",
    "  _ _ sub _ _ = -"
   ]
  },
  {
   "cell_type": "markdown",
   "metadata": {},
   "source": [
    "* 아래에서 **구현된 스페셜 메소드는 +, -, print**"
   ]
  },
  {
   "cell_type": "code",
   "execution_count": 6,
   "metadata": {},
   "outputs": [],
   "source": [
    "class Point :\n",
    "    def __init__(self, x, y) :\n",
    "        self.x = x\n",
    "        self.y = y\n",
    "        \n",
    "    def print_po(self) :\n",
    "        print('x: {}, y: {}'.format(self.x, self.y))\n",
    "        \n",
    "# + 스페셜 메소드\n",
    "    def __add__(self, pt) :\n",
    "        return Point(self.x + pt.x, self.y + pt.y)\n",
    "    \n",
    "# - 스페셜 메소드\n",
    "    def __sub__(self, pt) :\n",
    "        return Point(self.x - pt.x, self.y - pt.y)\n",
    "\n",
    "# print 스페셜 메소드\n",
    "    def __str__(self) :\n",
    "        return 'x: {}, y: {}'.format(self.x, self.y)\n"
   ]
  },
  {
   "cell_type": "code",
   "execution_count": 7,
   "metadata": {},
   "outputs": [
    {
     "name": "stdout",
     "output_type": "stream",
     "text": [
      "x: 5, y: 7\n",
      "x: -3, y: -3\n"
     ]
    }
   ],
   "source": [
    "p1 = Point(1, 2)\n",
    "p2 = Point(4, 5)\n",
    "\n",
    "p4 = p1 + p2\n",
    "p4.print_po()\n",
    "\n",
    "p5 = p1 - p2\n",
    "p5.print_po()"
   ]
  },
  {
   "cell_type": "code",
   "execution_count": 8,
   "metadata": {},
   "outputs": [
    {
     "name": "stdout",
     "output_type": "stream",
     "text": [
      "__str__로 산출 x: -3, y: -3\n"
     ]
    }
   ],
   "source": [
    "print('__str__로 산출', p5)"
   ]
  }
 ],
 "metadata": {
  "kernelspec": {
   "display_name": "Python 3",
   "language": "python",
   "name": "python3"
  },
  "language_info": {
   "codemirror_mode": {
    "name": "ipython",
    "version": 3
   },
   "file_extension": ".py",
   "mimetype": "text/x-python",
   "name": "python",
   "nbconvert_exporter": "python",
   "pygments_lexer": "ipython3",
   "version": "3.7.3"
  }
 },
 "nbformat": 4,
 "nbformat_minor": 2
}
