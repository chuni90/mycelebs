{
 "cells": [
  {
   "cell_type": "markdown",
   "metadata": {},
   "source": [
    "### 클래스 상속\n",
    " 1. 기존의 부모(상위)클래스에 정의 된 기능을 그대로 사용하고자 할 때\n",
    " \n",
    " 1. 기존 클래스에 기능을 추가하거나,  \n",
    " 기능을 재정의하여(override)하여 코드의 재사용을 가능케 함\n",
    " \n",
    " 1. 논리적으로 is 관계가 있을 때 사용하는 게 덜 헷갈림  \n",
    " 부모 클래스의 개념 아래에 자식 클래스가 있어야 한다는 의미\n",
    " ex) 학생(자식클래스)은 사람(부모클래스)이다"
   ]
  },
  {
   "cell_type": "markdown",
   "metadata": {},
   "source": [
    "* 부모 클래스의 메소드를 자식 클래스에서 끌어와 사용 가능함\n",
    "\n",
    "\n",
    "* 반대로 자식클래스의 메소드는 부모클래스에선 사용이 불가능함\n",
    "\n",
    "\n",
    "* 자식클래스에선 부모클래스의 메소드를 재정의(override)하여 사용 가능함  \n",
    "ex) 부모클래스의 A 메소드는 +1 인데, 자식클래스에서 A 메소드를 재정의하여 -1로 변경 가능  \n",
    "→ 재정의할 때는 똑같은 메소드명을 사용해야만 함\n",
    "\n",
    "\n",
    "* 자식클래스에서 부모클래스의 메소드를 호출할 때는 똑같은 메소드명을 사용하거나  \n",
    "super() 를 사용함  \n",
    "ex) super().메소드명(파라미터)"
   ]
  },
  {
   "cell_type": "code",
   "execution_count": 7,
   "metadata": {},
   "outputs": [],
   "source": [
    "class Person :\n",
    "    def __init__(self, name) :\n",
    "        self.name = name\n",
    "        \n",
    "    def sleep(self, time) :\n",
    "        print('(부모클래스)','{}은 {}시간동안 잠을 잤습니다.'.format(self.name, time))"
   ]
  },
  {
   "cell_type": "code",
   "execution_count": 8,
   "metadata": {},
   "outputs": [
    {
     "name": "stdout",
     "output_type": "stream",
     "text": [
      "(부모클래스) Bob은 10시간동안 잠을 잤습니다.\n"
     ]
    }
   ],
   "source": [
    "bob = Person('Bob')\n",
    "bob.sleep(10)"
   ]
  },
  {
   "cell_type": "markdown",
   "metadata": {},
   "source": [
    "- Person 클래스의 자식 클래스로 student 생성\n",
    "- 생성 시, 클래스 파라미터로 부모 클래스 명칭을 넣음  \n",
    "class 자식클래스(부모클래스)"
   ]
  },
  {
   "cell_type": "code",
   "execution_count": 12,
   "metadata": {},
   "outputs": [],
   "source": [
    "class student(Person):\n",
    "    def __init__(self, name):\n",
    "        self.name = name\n",
    "        \n",
    "    def study(self, time):\n",
    "        print('(자식)','{}은/는 {}시간동안 공부를 했습니다.'.format(self.name, time))\n",
    "        \n",
    "#     def sleep(self, time):\n",
    "#         print('{}은/는 {}시간동안 잠을 열심히 잤습니다.'.format(self.name, time))\n",
    "        "
   ]
  },
  {
   "cell_type": "code",
   "execution_count": 13,
   "metadata": {},
   "outputs": [],
   "source": [
    "alice = student('Alice')"
   ]
  },
  {
   "cell_type": "code",
   "execution_count": 14,
   "metadata": {},
   "outputs": [
    {
     "name": "stdout",
     "output_type": "stream",
     "text": [
      "(자식) Alice은/는 3시간동안 공부를 했습니다.\n"
     ]
    }
   ],
   "source": [
    "alice.study(3)"
   ]
  },
  {
   "cell_type": "code",
   "execution_count": 15,
   "metadata": {},
   "outputs": [
    {
     "name": "stdout",
     "output_type": "stream",
     "text": [
      "(부모클래스) Alice은 3시간동안 잠을 잤습니다.\n"
     ]
    }
   ],
   "source": [
    "# sleep 메소드는 부모클래스의 기능이지만 자식클래스므로 사용가능함\n",
    "alice.sleep(3)"
   ]
  },
  {
   "cell_type": "code",
   "execution_count": 15,
   "metadata": {},
   "outputs": [
    {
     "ename": "AttributeError",
     "evalue": "'student' object has no attribute 'work'",
     "output_type": "error",
     "traceback": [
      "\u001b[1;31m---------------------------------------------------------------------------\u001b[0m",
      "\u001b[1;31mAttributeError\u001b[0m                            Traceback (most recent call last)",
      "\u001b[1;32m<ipython-input-15-6ec19bedcf5d>\u001b[0m in \u001b[0;36m<module>\u001b[1;34m\u001b[0m\n\u001b[0;32m      1\u001b[0m \u001b[1;31m# 현재 alice는 student 클래스에 속해 있는데, work라는 메소드는 없음\u001b[0m\u001b[1;33m\u001b[0m\u001b[1;33m\u001b[0m\u001b[1;33m\u001b[0m\u001b[0m\n\u001b[0;32m      2\u001b[0m \u001b[1;33m\u001b[0m\u001b[0m\n\u001b[1;32m----> 3\u001b[1;33m \u001b[0malice\u001b[0m\u001b[1;33m.\u001b[0m\u001b[0mwork\u001b[0m\u001b[1;33m(\u001b[0m\u001b[1;33m)\u001b[0m\u001b[1;33m\u001b[0m\u001b[1;33m\u001b[0m\u001b[0m\n\u001b[0m",
      "\u001b[1;31mAttributeError\u001b[0m: 'student' object has no attribute 'work'"
     ]
    }
   ],
   "source": [
    "# 현재 alice는 student 클래스에 속해 있는데, work라는 메소드는 없음\n",
    "\n",
    "alice.work()"
   ]
  },
  {
   "cell_type": "markdown",
   "metadata": {},
   "source": [
    "* 부모 클래스의 메소드 불러오기"
   ]
  },
  {
   "cell_type": "code",
   "execution_count": 16,
   "metadata": {},
   "outputs": [],
   "source": [
    "class student(Person):\n",
    "    def __init__(self, name):\n",
    "        self.name = name\n",
    "        \n",
    "    def study(self, time):\n",
    "        print('(자식)','{}은/는 {}시간동안 공부를 했습니다.'.format(self.name, time))\n",
    "        self.sleep(time)   # ← 자식클래스 내에서 sleep이라는 부모클래스의 메소드를 호출할 수 있음"
   ]
  },
  {
   "cell_type": "code",
   "execution_count": 17,
   "metadata": {},
   "outputs": [
    {
     "name": "stdout",
     "output_type": "stream",
     "text": [
      "(자식) Alice은/는 6시간동안 공부를 했습니다.\n",
      "(부모클래스) Alice은 6시간동안 잠을 잤습니다.\n"
     ]
    }
   ],
   "source": [
    "alice = student('Alice')\n",
    "alice.study(6)  \n",
    "\n",
    "# 결과를 보면 부모클래스(Person)의 sleep 메소드가 적용된 것을 확인 가능"
   ]
  },
  {
   "cell_type": "markdown",
   "metadata": {},
   "source": [
    "* 그러나 부모클래스의 객체인 bob은 **자식클래스의 study 메소드를 사용할 수 없음**"
   ]
  },
  {
   "cell_type": "code",
   "execution_count": 27,
   "metadata": {},
   "outputs": [
    {
     "ename": "AttributeError",
     "evalue": "'Person' object has no attribute 'study'",
     "output_type": "error",
     "traceback": [
      "\u001b[1;31m---------------------------------------------------------------------------\u001b[0m",
      "\u001b[1;31mAttributeError\u001b[0m                            Traceback (most recent call last)",
      "\u001b[1;32m<ipython-input-27-6395ba6e2182>\u001b[0m in \u001b[0;36m<module>\u001b[1;34m\u001b[0m\n\u001b[1;32m----> 1\u001b[1;33m \u001b[0mbob\u001b[0m\u001b[1;33m.\u001b[0m\u001b[0mstudy\u001b[0m\u001b[1;33m(\u001b[0m\u001b[1;36m3\u001b[0m\u001b[1;33m)\u001b[0m\u001b[1;33m\u001b[0m\u001b[1;33m\u001b[0m\u001b[0m\n\u001b[0m\u001b[0;32m      2\u001b[0m \u001b[1;33m\u001b[0m\u001b[0m\n\u001b[0;32m      3\u001b[0m \u001b[1;31m# 그러나 부모클래스의 객체인 bob은 자식클래스의 study 메소드를 사용할 수 없음\u001b[0m\u001b[1;33m\u001b[0m\u001b[1;33m\u001b[0m\u001b[1;33m\u001b[0m\u001b[0m\n",
      "\u001b[1;31mAttributeError\u001b[0m: 'Person' object has no attribute 'study'"
     ]
    }
   ],
   "source": [
    "bob.study(3)"
   ]
  },
  {
   "cell_type": "markdown",
   "metadata": {},
   "source": [
    "- 부모 클래스의 메소드를 자식 클래스에서 재정의"
   ]
  },
  {
   "cell_type": "code",
   "execution_count": 18,
   "metadata": {},
   "outputs": [],
   "source": [
    "class student(Person):\n",
    "    def __init__(self, name):\n",
    "        self.name = name\n",
    "        \n",
    "    def study(self, time):\n",
    "        print('(자식)','{}은/는 {}시간동안 공부를 했습니다.'.format(self.name, time))\n",
    "        \n",
    "    def sleep(self, time):\n",
    "        print('(자식에서 재정의)','{}은/는 {}시간동안 잤습니다.'.format(self.name, time))"
   ]
  },
  {
   "cell_type": "code",
   "execution_count": 19,
   "metadata": {},
   "outputs": [
    {
     "name": "stdout",
     "output_type": "stream",
     "text": [
      "(자식에서 재정의) Alice은/는 2.5시간동안 잤습니다.\n"
     ]
    }
   ],
   "source": [
    "alice = student('Alice')\n",
    "alice.sleep(2.5)"
   ]
  },
  {
   "cell_type": "markdown",
   "metadata": {},
   "source": [
    "- 부모 클래스 메소드 호출  \n",
    " → 자식 클래스의 study 메소드 내 super함수로 부모 클래스의 sleep 메소드를 호출한 모습 "
   ]
  },
  {
   "cell_type": "code",
   "execution_count": 23,
   "metadata": {},
   "outputs": [],
   "source": [
    "class student(Person):\n",
    "    def __init__(self, name):\n",
    "        self.name = name\n",
    "        \n",
    "    def study(self, time):\n",
    "        super().sleep(time)   # super()\n",
    "        print('{}은/는 {}시간동안 공부를 했습니다.'.format(self.name, time))\n",
    "        \n",
    "    def sleep(self, time):\n",
    "        print('자식클래스에서 재정의>>\\n ','{}은/는 {}시간동안 잤습니다.'.format(self.name, time))"
   ]
  },
  {
   "cell_type": "code",
   "execution_count": 24,
   "metadata": {},
   "outputs": [
    {
     "name": "stdout",
     "output_type": "stream",
     "text": [
      "(부모클래스) Alice은 55시간동안 잠을 잤습니다.\n",
      "Alice은/는 55시간동안 공부를 했습니다.\n",
      "자식클래스에서 재정의>>\n",
      "  Alice은/는 32시간동안 잤습니다.\n"
     ]
    }
   ],
   "source": [
    "alice = student('Alice')\n",
    "alice.study(55)\n",
    "alice.sleep(32)"
   ]
  },
  {
   "cell_type": "code",
   "execution_count": null,
   "metadata": {},
   "outputs": [],
   "source": []
  }
 ],
 "metadata": {
  "kernelspec": {
   "display_name": "Python 3",
   "language": "python",
   "name": "python3"
  },
  "language_info": {
   "codemirror_mode": {
    "name": "ipython",
    "version": 3
   },
   "file_extension": ".py",
   "mimetype": "text/x-python",
   "name": "python",
   "nbconvert_exporter": "python",
   "pygments_lexer": "ipython3",
   "version": "3.7.3"
  }
 },
 "nbformat": 4,
 "nbformat_minor": 2
}
