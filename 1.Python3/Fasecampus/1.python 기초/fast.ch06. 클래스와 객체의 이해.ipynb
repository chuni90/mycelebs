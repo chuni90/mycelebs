{
 "cells": [
  {
   "cell_type": "markdown",
   "metadata": {},
   "source": [
    "### 클래스란? class\n",
    " * 모델링되어 속성(attribute)과 동작(method)를 갖는 타입  \n",
    " 예를 들어, List라는 개념을 모델링 한다면 리스트를 표현할 데이터와  \n",
    " 그 데이터를 행하는 액션에 대한 정의가 가능함"
   ]
  },
  {
   "cell_type": "markdown",
   "metadata": {},
   "source": [
    "### 객체란? instance\n",
    " * 해당 클래스의 타입으로 선언되어 메모리에 존재하는 상태(=구체화된 존재가 객체)\n",
    " \n",
    " * lst = list() // lst 객체\n",
    " * lst2 = list() // lst2 객체\n",
    " \n",
    " * lst.append(1) // lst 객체에 메시지 전달(append라는 method 호출) "
   ]
  },
  {
   "cell_type": "code",
   "execution_count": 3,
   "metadata": {},
   "outputs": [
    {
     "name": "stdout",
     "output_type": "stream",
     "text": [
      "[1]\n"
     ]
    }
   ],
   "source": [
    "a = list()  # 리스트 클래스 타입으로 선언된 객체 a\n",
    "a.append(1) # a객체에 1을 추가하라는 동작을 지시함\n",
    "print(a)"
   ]
  },
  {
   "cell_type": "markdown",
   "metadata": {},
   "source": [
    "### pass\n",
    "* pass 라는 것은 함수/클래스를 그냥 넘어가도록 함\n",
    "* 미완성시 사용하기 편리함"
   ]
  },
  {
   "cell_type": "code",
   "execution_count": 5,
   "metadata": {},
   "outputs": [],
   "source": [
    "def is_prime_number():\n",
    "    pass"
   ]
  },
  {
   "cell_type": "code",
   "execution_count": 6,
   "metadata": {},
   "outputs": [],
   "source": [
    "class person :\n",
    "    pass"
   ]
  },
  {
   "cell_type": "markdown",
   "metadata": {},
   "source": [
    "### 클래스와 객체 생성해보기\n",
    " - 유저가 만든 함수와 메소드의 파라미터는 항상 self"
   ]
  },
  {
   "cell_type": "code",
   "execution_count": 7,
   "metadata": {},
   "outputs": [],
   "source": [
    "alice = person()\n",
    "bob = person()"
   ]
  },
  {
   "cell_type": "code",
   "execution_count": 8,
   "metadata": {},
   "outputs": [
    {
     "name": "stdout",
     "output_type": "stream",
     "text": [
      "<class '__main__.person'>\n",
      "<class '__main__.person'>\n"
     ]
    }
   ],
   "source": [
    "print(type(alice))\n",
    "print(type(bob))"
   ]
  },
  {
   "cell_type": "code",
   "execution_count": 19,
   "metadata": {},
   "outputs": [],
   "source": [
    "class person1 :\n",
    "    def __init__(self, name) :\n",
    "        print('객체가 생성되고 있습니다.')\n",
    "        self.name = name"
   ]
  },
  {
   "cell_type": "markdown",
   "metadata": {},
   "source": [
    " - '_ _ init _ _'은 class가 호출되면 바로 실행되는 것을 의미함\n",
    " - 여기서 2개의 파라미터 중 self는 그 객체를 객체 그대로 받는 것을 의미함"
   ]
  },
  {
   "cell_type": "code",
   "execution_count": 26,
   "metadata": {},
   "outputs": [
    {
     "name": "stdout",
     "output_type": "stream",
     "text": [
      "객체가 생성되고 있습니다.\n"
     ]
    }
   ],
   "source": [
    "alice = person1('Alice')\n",
    "#  위의 코드는 아래 코드와 같은 거임\n",
    "#     alice = person(alice,'Alice')"
   ]
  },
  {
   "cell_type": "code",
   "execution_count": 27,
   "metadata": {},
   "outputs": [],
   "source": [
    "class person :\n",
    "    def __init__(self, name, height, weight) :\n",
    "        print('객체가 생성되고 있습니다.')\n",
    "        self.name = name\n",
    "        self.height = height\n",
    "        self.weight = weight"
   ]
  },
  {
   "cell_type": "code",
   "execution_count": 28,
   "metadata": {},
   "outputs": [
    {
     "name": "stdout",
     "output_type": "stream",
     "text": [
      "객체가 생성되고 있습니다.\n"
     ]
    }
   ],
   "source": [
    "chun = person('Chuni', 173, 63)"
   ]
  },
  {
   "cell_type": "markdown",
   "metadata": {},
   "source": [
    "### method의 정의\n",
    " * 위에서도 말했지만, 사용자가 정의한 메소드의 파라미터는 항상 self"
   ]
  },
  {
   "cell_type": "code",
   "execution_count": 30,
   "metadata": {},
   "outputs": [],
   "source": [
    "class person :\n",
    "    def __init__(self, name, height, weight) :\n",
    "        print('객체가 생성되고 있습니다.')\n",
    "        self.name = name\n",
    "        self.height = height\n",
    "        self.weight = weight\n",
    "    \n",
    "    def print_person_data(self) :\n",
    "        message = '이름: {}, 키: {}, 몸무게: {}'.format(self.name, self.height, self.weight)\n",
    "        print(message)"
   ]
  },
  {
   "cell_type": "code",
   "execution_count": 32,
   "metadata": {},
   "outputs": [
    {
     "name": "stdout",
     "output_type": "stream",
     "text": [
      "객체가 생성되고 있습니다.\n",
      "이름: chuni, 키: 173.2, 몸무게: 62.5\n"
     ]
    }
   ],
   "source": [
    "chun = person('chuni', 173.2, 62.5)\n",
    "chun.print_person_data()"
   ]
  },
  {
   "cell_type": "code",
   "execution_count": 33,
   "metadata": {},
   "outputs": [
    {
     "name": "stdout",
     "output_type": "stream",
     "text": [
      "객체가 생성되고 있습니다.\n",
      "이름: BOb, 키: 180, 몸무게: 90.2\n"
     ]
    }
   ],
   "source": [
    "bob = person('BOb', 180, 90.2)\n",
    "bob.print_person_data()"
   ]
  },
  {
   "cell_type": "markdown",
   "metadata": {},
   "source": [
    "### 만들어본 계정 검색기"
   ]
  },
  {
   "cell_type": "code",
   "execution_count": 14,
   "metadata": {},
   "outputs": [
    {
     "name": "stdout",
     "output_type": "stream",
     "text": [
      "Welcome to op.cc\n",
      "저장하려는 계정명과 티어, 챔피언을 순서대로 입력해주시면 됩니다\n",
      "계정 >> dori22\n",
      "티어 >> 실2\n",
      "챔피언 >> 아리\n",
      "dori22 실2 아리 이렇게 저장되었습니다.\n",
      "검색하실 계정명을 입력해주세요. >> dori22\n",
      "해당 계정을 검색중입니다\n",
      "티어: 실2 || 챔피언: 아리\n"
     ]
    }
   ],
   "source": [
    "class LOL :\n",
    "    def __init__(self, acc, tier, champ) :\n",
    "        print('해당 계정을 검색중입니다')\n",
    "        self.tier = tier\n",
    "        self.champ = champ\n",
    "        \n",
    "    def print_account(self) :\n",
    "        msg = '티어: {} || 챔피언: {}'.format(tier, champ)\n",
    "        print(msg)\n",
    "\n",
    "print('Welcome to op.cc')\n",
    "print('저장하려는 계정명과 티어, 챔피언을 순서대로 입력해주시면 됩니다')\n",
    "acc = input('계정 >> ')\n",
    "tier = input('티어 >> ')\n",
    "champ = input('챔피언 >> ')\n",
    "print(acc, tier, champ,'이렇게 저장되었습니다.')\n",
    "\n",
    "find_acc = input('검색하실 계정명을 입력해주세요. >> ')\n",
    "acc1 = find_acc\n",
    "\n",
    "acc1 = LOL(acc, tier, champ)\n",
    "acc1.print_account()\n"
   ]
  }
 ],
 "metadata": {
  "kernelspec": {
   "display_name": "Python 3",
   "language": "python",
   "name": "python3"
  },
  "language_info": {
   "codemirror_mode": {
    "name": "ipython",
    "version": 3
   },
   "file_extension": ".py",
   "mimetype": "text/x-python",
   "name": "python",
   "nbconvert_exporter": "python",
   "pygments_lexer": "ipython3",
   "version": "3.7.3"
  }
 },
 "nbformat": 4,
 "nbformat_minor": 2
}
