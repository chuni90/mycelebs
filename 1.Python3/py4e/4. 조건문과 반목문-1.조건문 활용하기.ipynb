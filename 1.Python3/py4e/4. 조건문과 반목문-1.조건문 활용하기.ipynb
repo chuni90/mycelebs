{
 "cells": [
  {
   "cell_type": "markdown",
   "metadata": {},
   "source": [
    "## 조건문(condition)"
   ]
  },
  {
   "cell_type": "code",
   "execution_count": 6,
   "metadata": {},
   "outputs": [
    {
     "name": "stdout",
     "output_type": "stream",
     "text": [
      "wow\n"
     ]
    }
   ],
   "source": [
    "a = 1\n",
    "if a > 2 :\n",
    "    print('5는 2보다 크다')\n",
    "else  :\n",
    "    print('wow')"
   ]
  },
  {
   "cell_type": "markdown",
   "metadata": {},
   "source": [
    "### if문의 중첩"
   ]
  },
  {
   "cell_type": "code",
   "execution_count": 15,
   "metadata": {},
   "outputs": [
    {
     "name": "stdout",
     "output_type": "stream",
     "text": [
      "다음 기회에\n",
      "다른 코드\n"
     ]
    }
   ],
   "source": [
    "a  = 99\n",
    "if a % 11 == 0 :\n",
    "    if a % 9== 1:\n",
    "        print('당첨')\n",
    "    else:\n",
    "        print('아쉽네요')\n",
    "else :\n",
    "    print('다음 기회에')\n",
    "    \n",
    "print('다른 코드')"
   ]
  },
  {
   "cell_type": "markdown",
   "metadata": {},
   "source": [
    "### and / or / not 사용하기"
   ]
  },
  {
   "cell_type": "code",
   "execution_count": 21,
   "metadata": {},
   "outputs": [
    {
     "name": "stdout",
     "output_type": "stream",
     "text": [
      "조건 맞음\n"
     ]
    }
   ],
   "source": [
    "a = 10\n",
    "b= 40\n",
    "\n",
    "x = 20\n",
    "y = 7\n",
    "\n",
    "if a > b and x > y or a == 10:\n",
    "    print('조건 맞음')\n",
    "else :\n",
    "    print('조건이 틀립')"
   ]
  },
  {
   "cell_type": "code",
   "execution_count": 22,
   "metadata": {},
   "outputs": [
    {
     "name": "stdout",
     "output_type": "stream",
     "text": [
      "맞음\n"
     ]
    }
   ],
   "source": [
    "if not (a > b) :  \n",
    "    print('맞음')\n",
    "else :\n",
    "    print('틀림')"
   ]
  },
  {
   "cell_type": "markdown",
   "metadata": {},
   "source": [
    "### not > and > or 순으로 우선순위가 높음"
   ]
  },
  {
   "cell_type": "code",
   "execution_count": 2,
   "metadata": {},
   "outputs": [
    {
     "name": "stdout",
     "output_type": "stream",
     "text": [
      "haha\n"
     ]
    }
   ],
   "source": [
    "a = 10\n",
    "b= 40\n",
    "\n",
    "x = 20\n",
    "y = 7\n",
    "\n",
    "if a > 10 and b > 40 or not x != 20 :   # not이 우선순위가 높아서 not x != 20 부터 실행이되고 그 다음 and를 확인함\n",
    "    print('haha')\n",
    "else :\n",
    "    print('no')"
   ]
  },
  {
   "cell_type": "markdown",
   "metadata": {},
   "source": [
    "### if, elif, else 다중 조건 사용"
   ]
  },
  {
   "cell_type": "code",
   "execution_count": 37,
   "metadata": {},
   "outputs": [
    {
     "ename": "SyntaxError",
     "evalue": "invalid syntax (<ipython-input-37-06222a033709>, line 5)",
     "output_type": "error",
     "traceback": [
      "\u001b[1;36m  File \u001b[1;32m\"<ipython-input-37-06222a033709>\"\u001b[1;36m, line \u001b[1;32m5\u001b[0m\n\u001b[1;33m    elif a % 4 == 2 :\u001b[0m\n\u001b[1;37m       ^\u001b[0m\n\u001b[1;31mSyntaxError\u001b[0m\u001b[1;31m:\u001b[0m invalid syntax\n"
     ]
    }
   ],
   "source": [
    "a = 102\n",
    "if a % 4 == 1:\n",
    "    print('1')\n",
    "elif a % 4 == 2 :\n",
    "    print('2')\n",
    "elif a % 4 == 3:\n",
    "    print('3')\n",
    "else :\n",
    "    print('4')\n",
    "    \n",
    "print('코드의 끝')"
   ]
  },
  {
   "cell_type": "code",
   "execution_count": 38,
   "metadata": {},
   "outputs": [
    {
     "name": "stdout",
     "output_type": "stream",
     "text": [
      "True\n"
     ]
    }
   ],
   "source": [
    "print(4%4 == 0)"
   ]
  },
  {
   "cell_type": "code",
   "execution_count": 40,
   "metadata": {},
   "outputs": [
    {
     "name": "stdout",
     "output_type": "stream",
     "text": [
      "1\n",
      "4\n",
      "코드의 끝\n"
     ]
    }
   ],
   "source": [
    "a = 97\n",
    "if a % 4 == 1:      # if가 여러번 쓰였을 때, 마지막 else가 붙은 if문을 제외하고는 독립적으로 실행됨\n",
    "    print('1')\n",
    "if a % 4 == 2 :\n",
    "    print('2')\n",
    "if a % 4 == 3:\n",
    "    print('3')\n",
    "else :\n",
    "    print('4')\n",
    "    \n",
    "print('코드의 끝')"
   ]
  },
  {
   "cell_type": "markdown",
   "metadata": {},
   "source": [
    "### 한줄 조건문"
   ]
  },
  {
   "cell_type": "code",
   "execution_count": 47,
   "metadata": {},
   "outputs": [
    {
     "name": "stdout",
     "output_type": "stream",
     "text": [
      "크다\n"
     ]
    }
   ],
   "source": [
    "value = None\n",
    "abc = 1000\n",
    "\n",
    "if abc > 10 :\n",
    "    value = '크다'\n",
    "else : \n",
    "    value = '작다'\n",
    "    \n",
    "print(value)"
   ]
  },
  {
   "cell_type": "markdown",
   "metadata": {},
   "source": [
    "#### 위의 코드를 한 줄로 하면 아래와 같음\n",
    " * if문이 참일 때 실행할 코드가 앞에 오고, 그 다음 if문 true 조건, ' : '과 '줄바꿈' 없이 바로 else 와 else 조건문이 나오면 됨"
   ]
  },
  {
   "cell_type": "code",
   "execution_count": 46,
   "metadata": {},
   "outputs": [
    {
     "name": "stdout",
     "output_type": "stream",
     "text": [
      "크다\n"
     ]
    }
   ],
   "source": [
    "value = '크다' if abc > 10 else '작다'\n",
    "print(value)"
   ]
  },
  {
   "cell_type": "code",
   "execution_count": 9,
   "metadata": {},
   "outputs": [
    {
     "name": "stdout",
     "output_type": "stream",
     "text": [
      "Yes\n",
      "는 작다\n"
     ]
    }
   ],
   "source": [
    "# 한줄 코드 연습\n",
    "\n",
    "blank = ''\n",
    "blank = 'Yes' if 4 > 0 else 'no'\n",
    "print(blank)\n",
    "\n",
    "a = 2\n",
    "print(a,'는 1보다 크다') if a > 3  else print('는 작다')\n"
   ]
  }
 ],
 "metadata": {
  "kernelspec": {
   "display_name": "Python 3",
   "language": "python",
   "name": "python3"
  },
  "language_info": {
   "codemirror_mode": {
    "name": "ipython",
    "version": 3
   },
   "file_extension": ".py",
   "mimetype": "text/x-python",
   "name": "python",
   "nbconvert_exporter": "python",
   "pygments_lexer": "ipython3",
   "version": "3.7.3"
  }
 },
 "nbformat": 4,
 "nbformat_minor": 2
}
