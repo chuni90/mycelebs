{
 "cells": [
  {
   "cell_type": "markdown",
   "metadata": {
    "collapsed": true
   },
   "source": [
    " # 정규표현식(Regular Expression)"
   ]
  },
  {
   "cell_type": "markdown",
   "metadata": {},
   "source": [
    "## 학습목표\n",
    " + 정규표현식(re) 에 대한 이해 및 숙지"
   ]
  },
  {
   "cell_type": "markdown",
   "metadata": {},
   "source": [
    "* 정규표현식 \n",
    " - regular expression\n",
    " - 특정한 패턴과 일치하는 문자열를 '검색', '치환', '제거' 하는 기능을 지원\n",
    " - 정규표현식의 도움없이 패턴을 찾는 작업(Rule 기반)은 불완전 하거나, 작업의 cost가 높음\n",
    " - e.g) 이메일 형식 판별, 전화번호 형식 판별, 숫자로만 이루어진 문자열 등"
   ]
  },
  {
   "cell_type": "markdown",
   "metadata": {},
   "source": [
    "* **re**\n",
    " - 아래의 함수로 각각의 기능을 제공\n",
    " - search\n",
    " - match\n",
    " - findall\n",
    " - sub\n",
    " - compile"
   ]
  },
  {
   "cell_type": "markdown",
   "metadata": {},
   "source": [
    "* **raw string**\n",
    " - 문자열 앞에 r이 붙으면 해당 문자열이 구성된 그대로 문자열로 변환"
   ]
  },
  {
   "cell_type": "code",
   "execution_count": 1,
   "metadata": {},
   "outputs": [
    {
     "name": "stdout",
     "output_type": "stream",
     "text": [
      "python\n",
      "\n",
      "\n",
      "python\\n\\n\n"
     ]
    }
   ],
   "source": [
    "a = 'python\\n\\n' # escape 문자열\n",
    "print(a)\n",
    "\n",
    "b = r'python\\n\\n'\n",
    "print(b)"
   ]
  },
  {
   "cell_type": "markdown",
   "metadata": {},
   "source": [
    "* **기본 패턴**\n",
    " - a, X, 9 등등 문자 하나하나의 character들은 정확히 해당 문자와 일치\n",
    "   - e.g) 패턴 test는 test 문자열과 일치\n",
    "   - 대소문자의 경우 기본적으로 구별하나, 구별하지 않도록 설정 가능\n",
    " - 몇몇 문자들에 대해서는 예외가 존재하는데, 이들은 틀별한 의미로 사용 됨\n",
    "   - . ^ $ * + ? { } [ ] \\ | ( )\n",
    " \n",
    " - . (마침표) - 어떤 한개의 character와 일치 (newline(엔터) 제외)\n",
    " \n",
    " - \\w - 문자 character와 일치 [a-zA-Z0-9_]\n",
    " - \\s - 공백문자와 일치\n",
    " - \\t, \\n, \\r - tab, newline, return\n",
    " - \\d - 숫자 character와 일치 [0-9]\n",
    " - ^ = 라인의 처음을 매칭\n",
    " - $ = 라인의 끝 문자열을 매칭\n",
    " - \\가 붙으면 스페셜한 의미가 없어짐. 예를들어 \\\\.는 .자체를 의미 \\\\\\는 \\를 의미\n",
    " - 자세한 내용은 링크 참조 https://docs.python.org/3/library/re.html"
   ]
  },
  {
   "cell_type": "markdown",
   "metadata": {},
   "source": [
    "* **search method**\n",
    " - 첫번째로 패턴을 찾으면 match 객체를 반환\n",
    " - 패턴을 찾지 못하면 None 반환"
   ]
  },
  {
   "cell_type": "code",
   "execution_count": 3,
   "metadata": {},
   "outputs": [],
   "source": [
    "import re"
   ]
  },
  {
   "cell_type": "code",
   "execution_count": 3,
   "metadata": {},
   "outputs": [
    {
     "name": "stdout",
     "output_type": "stream",
     "text": [
      "<re.Match object; span=(0, 4), match='test'>\n"
     ]
    }
   ],
   "source": [
    "print(re.search(r'test', 'test is hard'))"
   ]
  },
  {
   "cell_type": "markdown",
   "metadata": {},
   "source": [
    "* search에서 숫자를 찾을 때, 제일 먼저 나오는 걸 찾고 중지됨"
   ]
  },
  {
   "cell_type": "code",
   "execution_count": 5,
   "metadata": {},
   "outputs": [
    {
     "name": "stdout",
     "output_type": "stream",
     "text": [
      "<re.Match object; span=(9, 10), match='4'>\n",
      "<re.Match object; span=(9, 11), match='45'>\n"
     ]
    }
   ],
   "source": [
    "print(re.search(r'\\d', 'hi there 45k'))  # 45에서 4만 찾아냄\n",
    "print(re.search(r'\\d\\d', 'hi there 45k'))"
   ]
  },
  {
   "cell_type": "code",
   "execution_count": 7,
   "metadata": {},
   "outputs": [
    {
     "name": "stdout",
     "output_type": "stream",
     "text": [
      "<re.Match object; span=(0, 2), match='hi'>\n",
      "<re.Match object; span=(3, 6), match='the'>\n"
     ]
    }
   ],
   "source": [
    "print(re.search(r'\\w\\w', 'hi there'))\n",
    "print(re.search(r'\\w\\w\\w', 'hi there'))"
   ]
  },
  {
   "cell_type": "markdown",
   "metadata": {},
   "source": [
    "* **metacharacters (메타 캐릭터)**\n",
    "- **[ ]** 문자들의 범위를 나타내기 위해 사용\n",
    "   - [__] 내부의 메타 캐릭터는 각 str 캐릭터 자체를 나타냄\n",
    "   - e.g)\n",
    "   - [abck] : a or b or c or k\n",
    "   - [abc.^] : a or b or c or . or ^\n",
    "   - [a-d]  : -와 함께 사용되면 해당 문자 사이의 범위에 속하는 문자 중 하나\n",
    "   - [0-9]  : 모든 숫자\n",
    "   - [a-z]  : 모든 소문자\n",
    "   - [A-Z]  : 모든 대문자\n",
    "   - [a-zA-Z0-9] : 모든 알파벳 문자 및 숫자\n",
    "   - [^0-9] : ^가 맨 앞에 사용 되는 경우 해당 문자 패턴이 아닌 것과 매칭  \n",
    "   [^  ] 의미는 not(=!)을 의미함"
   ]
  },
  {
   "cell_type": "code",
   "execution_count": 9,
   "metadata": {},
   "outputs": [
    {
     "name": "stdout",
     "output_type": "stream",
     "text": [
      "<re.Match object; span=(0, 3), match='cat'>\n",
      "<re.Match object; span=(0, 3), match='bat'>\n",
      "None\n"
     ]
    }
   ],
   "source": [
    "print(re.search(r'[abc]at', 'cat'))\n",
    "print(re.search(r'[abc]at', 'bat'))\n",
    "print(re.search(r'[abc]at', 'zat'))  #z는 [abc] 에 속하지 않기 때문에 None 반환"
   ]
  },
  {
   "cell_type": "markdown",
   "metadata": {},
   "source": [
    "* match.start = 해당 search 결과가 시작하는 인덱스 넘버\n",
    "* match.end = search결과가 끝나는 인덱스 넘버\n",
    "* match.group = 해당 결과 문자를 그대로 가져오는 것   \n",
    "바로 위에 출련된 <re.match object;  > 사이의 결과에서 필요한 것만 가져옴"
   ]
  },
  {
   "cell_type": "code",
   "execution_count": 10,
   "metadata": {},
   "outputs": [
    {
     "name": "stdout",
     "output_type": "stream",
     "text": [
      "0\n",
      "3\n",
      "cat\n"
     ]
    }
   ],
   "source": [
    "match = re.search(r'[abc]at', 'cat')\n",
    "print(match.start())\n",
    "print(match.end())\n",
    "print(match.group())"
   ]
  },
  {
   "cell_type": "code",
   "execution_count": 11,
   "metadata": {},
   "outputs": [
    {
     "name": "stdout",
     "output_type": "stream",
     "text": [
      "<re.Match object; span=(0, 3), match='1at'>\n",
      "None\n",
      "<re.Match object; span=(0, 3), match='8at'>\n"
     ]
    }
   ],
   "source": [
    "print(re.search(r'[0-5]at', '1at'))\n",
    "print(re.search(r'[0-5]at', '8at'))\n",
    "print(re.search(r'[0-9]at', '8at'))"
   ]
  },
  {
   "cell_type": "code",
   "execution_count": 12,
   "metadata": {},
   "outputs": [
    {
     "name": "stdout",
     "output_type": "stream",
     "text": [
      "None\n",
      "None\n",
      "None\n",
      "<re.Match object; span=(0, 3), match='dat'>\n",
      "<re.Match object; span=(0, 3), match='1at'>\n"
     ]
    }
   ],
   "source": [
    "print(re.search(r'[^abc]at', 'aat'))\n",
    "print(re.search(r'[^abc]at', 'bat'))\n",
    "print(re.search(r'[^abc]at', 'cat'))\n",
    "\n",
    "print(re.search(r'[^abc]at', 'dat'))\n",
    "print(re.search(r'[^abc]at', '1at'))"
   ]
  },
  {
   "cell_type": "markdown",
   "metadata": {},
   "source": [
    "### **\\ 백슬래쉬**\n",
    "\n",
    "1. 다른 문자와 함께 사용되어 특수한 의미를 지님\n",
    "   - \\d : 숫자를          [0-9]와 동일\n",
    "   - \\D : 숫자가 아닌 문자  [^0-9]와 동일\n",
    "   - \\s : 공백 문자(띄어쓰기, 탭, 엔터 등)\n",
    "   - \\S : 공백이 아닌 문자\n",
    "   - \\w : 알파벳대소문자, 숫자 [0-9a-zA-Z]와 동일\n",
    "   - \\W : non alpha-numeric 문자 [^0-9a-zA-Z]와 동일  \n",
    "   \n",
    "   \n",
    "2. 메타 캐릭터가 캐릭터 자체를 표현하도록 할 경우 사용\n",
    "   - 엑셀에서 '~' 와 같은 의미\n",
    "   - \\\\. , \\\\\\\n"
   ]
  },
  {
   "cell_type": "code",
   "execution_count": 13,
   "metadata": {},
   "outputs": [
    {
     "name": "stdout",
     "output_type": "stream",
     "text": [
      "<re.Match object; span=(1, 4), match='124'>\n",
      "<re.Match object; span=(2, 5), match='24k'>\n"
     ]
    }
   ],
   "source": [
    "print(re.search(r'\\d\\d\\d', 'a124k'))   # 숫자가 3개 연속된 걸 찾아라\n",
    "print(re.search(r'\\d\\d\\D', 'a124k'))   # 숫자2개와 숫자가 아닌 걸 찾아라"
   ]
  },
  {
   "cell_type": "code",
   "execution_count": 14,
   "metadata": {},
   "outputs": [
    {
     "name": "stdout",
     "output_type": "stream",
     "text": [
      "<re.Match object; span=(1, 4), match='@ab'>\n"
     ]
    }
   ],
   "source": [
    "print(re.search(r'\\W\\w\\w', '@@abc123'))  #문자가 아닌 것과 문자인 걸 찾아라"
   ]
  },
  {
   "cell_type": "markdown",
   "metadata": {},
   "source": [
    "* **.** 점은 모든 문자를 의미"
   ]
  },
  {
   "cell_type": "code",
   "execution_count": 27,
   "metadata": {},
   "outputs": [
    {
     "name": "stdout",
     "output_type": "stream",
     "text": [
      "<re.Match object; span=(0, 5), match='bcda.'>\n",
      "None\n"
     ]
    }
   ],
   "source": [
    "print(re.search(r'...a\\.', 'bcda.'))  # 문자&숫자 3개 + a + Not 문자&숫자 + .(점)을 찾아라\n",
    "print(re.search(r'...a\\.', 'kl#ap'))"
   ]
  },
  {
   "cell_type": "markdown",
   "metadata": {},
   "source": [
    "* **반복패턴**\n",
    " - 패턴 뒤에 위치하는 *, +, ?는 해당 패턴이 반복적으로 존재하는지 검사 \n",
    "   - ' + ' → 1번 이상의 패턴이 발생\n",
    "   - ' * ' → 0번 이상의 패턴이 발생한 것 중에서 가장 큰 문자열\n",
    "   - ' ? ' → 0 혹은 1번의 패턴이 발생한 것 중에서 제일 처음에 나온 문자열\n",
    " - 반복을 패턴의 경우 최대한 많은 부분을 계속 검색하여 가장 많은 부분이 매칭된 결과를 반환함\n",
    "    - e.g) a[bcd]*b  패턴을 abcbdccb에서 검색하는 경우\n",
    "    - ab, abcb, abcbdccb 전부 가능 하지만 최대한 많은 부분(가장 큰 문자)이 매칭된 abcbdccb가 검색된 패턴"
   ]
  },
  {
   "cell_type": "code",
   "execution_count": 76,
   "metadata": {},
   "outputs": [
    {
     "name": "stdout",
     "output_type": "stream",
     "text": [
      "<re.Match object; span=(0, 8), match='abcbdccb'>\n"
     ]
    }
   ],
   "source": [
    "print(re.search(r'a[bcd]*b', 'abcbdccb'))  # a로 시작하고 b, c, d 중 하나가 0번 이상 반복되고 + b로 끝나는 걸 찾아라"
   ]
  },
  {
   "cell_type": "code",
   "execution_count": 23,
   "metadata": {},
   "outputs": [
    {
     "name": "stdout",
     "output_type": "stream",
     "text": [
      "<re.Match object; span=(7, 15), match='abbd kac'>\n",
      "<re.Match object; span=(7, 10), match='abb'>\n",
      "<re.Match object; span=(7, 15), match='abbd kac'>\n"
     ]
    }
   ],
   "source": [
    "print(re.search('a[bcde].*', 'akk is abbd kac'))\n",
    "print(re.search('a[bcde].?', 'akk is abbd kac'))\n",
    "print(re.search('a[bcde].+', 'akk is abbd kac'))\n"
   ]
  },
  {
   "cell_type": "code",
   "execution_count": 7,
   "metadata": {},
   "outputs": [
    {
     "name": "stdout",
     "output_type": "stream",
     "text": [
      "<re.Match object; span=(0, 2), match='ab'>\n",
      "<re.Match object; span=(0, 3), match='abb'>\n",
      "<re.Match object; span=(2, 4), match='ab'>\n"
     ]
    }
   ],
   "source": [
    "print(re.search(r'a[bcd]*b', 'ab'))\n",
    "print(re.search(r'a[bcd]+b', 'abb'))\n",
    "print(re.search(r'a[bcd]?b', 'acab'))"
   ]
  },
  {
   "cell_type": "code",
   "execution_count": 26,
   "metadata": {},
   "outputs": [
    {
     "name": "stdout",
     "output_type": "stream",
     "text": [
      "<re.Match object; span=(4, 7), match='ac2'>\n",
      "<re.Match object; span=(5, 8), match='abb'>\n",
      "None\n"
     ]
    }
   ],
   "source": [
    "print(re.search(r'a[bcd]+2', 'aw2 ac2 abcdcdcd2 adb2'))\n",
    "print(re.search(r'a[bcd]*b', 'anbbaabb')) \n",
    "print(re.search(r'a[bcd]?b', 'accb'))"
   ]
  },
  {
   "cell_type": "code",
   "execution_count": 80,
   "metadata": {},
   "outputs": [
    {
     "name": "stdout",
     "output_type": "stream",
     "text": [
      "<re.Match object; span=(0, 6), match='T ell '>\n"
     ]
    }
   ],
   "source": [
    "y = 'T ell fuck me why you T ellll her'\n",
    "print(re.search('^T ([cde]l+.)*',y))"
   ]
  },
  {
   "cell_type": "markdown",
   "metadata": {},
   "source": [
    "* **^**, **$**\n",
    " - ^  문자열의 맨 앞부터 일치하는 경우 검색\n",
    " - \\$  문자열의 맨 뒤부터 일치하는 경우 검색"
   ]
  },
  {
   "cell_type": "code",
   "execution_count": 28,
   "metadata": {},
   "outputs": [
    {
     "name": "stdout",
     "output_type": "stream",
     "text": [
      "<re.Match object; span=(2, 6), match='bana'>\n",
      "None\n",
      "<re.Match object; span=(0, 6), match='babana'>\n"
     ]
    }
   ],
   "source": [
    "print(re.search(r'b\\w+a', 'cabana'))\n",
    "print(re.search(r'^b\\w+a', 'cabana'))\n",
    "print(re.search(r'^b\\w+a', 'babana'))"
   ]
  },
  {
   "cell_type": "code",
   "execution_count": null,
   "metadata": {},
   "outputs": [],
   "source": [
    "print(re.search(r'b\\w+a$', 'cabana'))\n",
    "print(re.search(r'b\\w+a$', 'cabanap'))"
   ]
  },
  {
   "cell_type": "markdown",
   "metadata": {},
   "source": [
    " * **grouping**\n",
    "  - ()을 사용하여 그루핑\n",
    "  - 매칭 결과를 각 그룹별로 분리 가능\n",
    "  - 패턴 명시 할 때, 각 그룹을 괄호() 안에 넣어 분리하여 사용"
   ]
  },
  {
   "cell_type": "code",
   "execution_count": 5,
   "metadata": {},
   "outputs": [
    {
     "name": "stdout",
     "output_type": "stream",
     "text": [
      "<re.Match object; span=(20, 33), match='test@test.com'>\n"
     ]
    }
   ],
   "source": [
    "m = re.search(r'\\w+@.+', 'my email address is test@test.com')\n",
    "print(m)"
   ]
  },
  {
   "cell_type": "code",
   "execution_count": 6,
   "metadata": {},
   "outputs": [
    {
     "name": "stdout",
     "output_type": "stream",
     "text": [
      "<re.Match object; span=(20, 33), match='test@test.com'>\n",
      "test@test.com\n",
      "test@test.com\n",
      "test\n",
      "test.com\n"
     ]
    }
   ],
   "source": [
    "m = re.search(r'(\\w+)@(.+)', 'my email address is test@test.com')\n",
    "print(m)\n",
    "print(m.group())\n",
    "print(m.group(0))\n",
    "print(m.group(1))\n",
    "print(m.group(2))"
   ]
  },
  {
   "cell_type": "markdown",
   "metadata": {},
   "source": [
    "* (  ) : 괄호는 조건식(정규식) 내에서 괄호 안의 text만 추출해주는 명령어"
   ]
  },
  {
   "cell_type": "code",
   "execution_count": 7,
   "metadata": {},
   "outputs": [
    {
     "name": "stdout",
     "output_type": "stream",
     "text": [
      "['setp.mar@navr.com']\n",
      "['navr.com']\n"
     ]
    }
   ],
   "source": [
    "txt = 'From setp.mar@navr.com sat Jan'\n",
    "y = re.findall('\\S+@\\S+', txt)\n",
    "print(y)\n",
    "\n",
    "# @ 뒤에다가 괄호를 붙여서 도메인만 긁어오도록 코딩\n",
    "y2 = re.findall('^From \\S+@(\\S+)', txt)\n",
    "\n",
    "print(y2)"
   ]
  },
  {
   "cell_type": "markdown",
   "metadata": {},
   "source": [
    " * **{}**\n",
    "  - *, +, ?을 사용하여 반복적인 패턴을 찾는 것이 가능하나, 반복의 횟수 제한은 불가\n",
    "  - 패턴뒤에 위치하는 중괄호{}에 숫자를 명시하면 해당 숫자 만큼의 반복인 경우에만 매칭\n",
    "  - {4} - 4번 반복\n",
    "  - {3,4} - 3 ~ 4번 반복"
   ]
  },
  {
   "cell_type": "code",
   "execution_count": null,
   "metadata": {},
   "outputs": [],
   "source": [
    "print(re.search(r'010-\\d{4}-\\d{4}', '010-1111-1111'))\n",
    "print(re.search(r'010-\\d{4,5}-\\d{4}', '010-11110-1111'))\n",
    "print(re.search(r'010-\\d{4,5}-\\d{4}', '010-111-1111'))"
   ]
  },
  {
   "cell_type": "markdown",
   "metadata": {},
   "source": [
    "* **미니멈 매칭(non-greedy way)**\n",
    " - 기본적으로 *, +, ?를 사용하면 greedy(맥시멈 매칭)하게 동작함\n",
    " - *?, +?을 이용하여 해당 기능을 구현"
   ]
  },
  {
   "cell_type": "code",
   "execution_count": null,
   "metadata": {},
   "outputs": [],
   "source": [
    "# html \n",
    "# <a>\n",
    "# <img>\n",
    "# <h1></h1>\n",
    "print(re.search(r'<.+>', '<html>Title</html>'))\n",
    "print(re.search(r'<.+?>', '<html>Title</html>'))"
   ]
  },
  {
   "cell_type": "code",
   "execution_count": null,
   "metadata": {},
   "outputs": [],
   "source": []
  },
  {
   "cell_type": "markdown",
   "metadata": {},
   "source": [
    "* **{}?**\n",
    " - {m,n}의 경우 m번 에서 n번 반복하나 greedy하게 동작\n",
    " - {m,n}?로 사용하면 non-greedy하게 동작. 즉, 최소 m번만 매칭하면 만족"
   ]
  },
  {
   "cell_type": "code",
   "execution_count": null,
   "metadata": {},
   "outputs": [],
   "source": [
    "print(re.search(r'a{3,5}', 'aaaaaa'))\n",
    "print(re.search(r'a{3,5}?', 'aaaaaa'))"
   ]
  },
  {
   "cell_type": "markdown",
   "metadata": {},
   "source": [
    "* **match**\n",
    " - search와 유사하나, 주어진 문자열의 시작부터 비교하여 패턴이 있는지 확인\n",
    " - 시작부터 해당 패턴이 존재하지 않다면 None 반환"
   ]
  },
  {
   "cell_type": "code",
   "execution_count": null,
   "metadata": {},
   "outputs": [],
   "source": [
    "print(re.search(r'010\\d\\d', 'hahah 01016'))\n",
    "\n",
    "print(re.search(r'^010\\d\\d', 'hahah 01016'))\n",
    "print(re.search(r'^010\\d\\d', '01016'))\n",
    "\n",
    "print(re.match(r'010\\d\\d', 'hahah 01016'))\n",
    "print(re.match(r'010\\d\\d', '01016'))"
   ]
  },
  {
   "cell_type": "markdown",
   "metadata": {},
   "source": [
    "* **findall**\n",
    " - search가 최초로 매칭되는 패턴만 반환한다면, findall은 매칭되는 전체의 패턴을 반환\n",
    " - 매칭되는 모든 결과를 리스트 형태로 반환"
   ]
  },
  {
   "cell_type": "code",
   "execution_count": null,
   "metadata": {},
   "outputs": [],
   "source": [
    "print(re.search(r'010\\d\\d', 'hahaha 01023 01034 010 56'))\n",
    "print(re.findall(r'010\\d\\d', 'hahaha 01023 01034 010 56'))"
   ]
  },
  {
   "cell_type": "markdown",
   "metadata": {},
   "source": [
    "* **sub**\n",
    " - 주어진 문자열에서 일치하는 모든 패턴을 replace\n",
    " - 그 결과를 문자열로 다시 반환함\n",
    " - 두번째 인자는 특정 문자열이 될 수도 있고, 함수가 될 수 도 있음\n",
    " - count가 0인 경우는 전체를, 1이상이면 해당 숫자만큼 치환 됨"
   ]
  },
  {
   "cell_type": "code",
   "execution_count": null,
   "metadata": {},
   "outputs": [],
   "source": [
    "re.sub('\\d+', 'number', '010 hahah nice good great 99 112 nice good')"
   ]
  },
  {
   "cell_type": "markdown",
   "metadata": {},
   "source": [
    "* **compile**\n",
    " - 동일한 정규표현식을 매번 다시 쓰기 번거로움을 해결\n",
    " - compile로 해당표현식을 re.RegexObject 객체로 저장하여 사용가능"
   ]
  },
  {
   "cell_type": "code",
   "execution_count": null,
   "metadata": {},
   "outputs": [],
   "source": [
    "email_re = re.compile(r'\\w+@.+')\n",
    "\n",
    "print(email_re.search('test@gmail.com'))\n",
    "print(email_re.search('test2@gmail.com'))\n",
    "\n",
    "print(email_re.sub('number', 'test@gmail.com'))"
   ]
  },
  {
   "cell_type": "markdown",
   "metadata": {},
   "source": [
    "### 연습문제 \n",
    "  - 아래 뉴스에서 이메일 주소를 추출해 보세요\n",
    "  - 다음중 올바른 (http, https) 웹페이지만 찾으시오"
   ]
  },
  {
   "cell_type": "code",
   "execution_count": null,
   "metadata": {},
   "outputs": [],
   "source": [
    "import requests\n",
    "from bs4 import BeautifulSoup\n",
    "# 위의 두 모듈이 없는 경우에는 pip install requests bs4 실행\n",
    "\n",
    "def get_news_content(url):\n",
    "    response = requests.get(url)\n",
    "    content = response.text\n",
    "\n",
    "    soup = BeautifulSoup(content, 'html5lib')\n",
    "\n",
    "    div = soup.find('div', attrs = {'id' : 'harmonyContainer'})\n",
    "    \n",
    "    content = ''\n",
    "    for paragraph in div.find_all('p'):\n",
    "        content += paragraph.get_text()\n",
    "        \n",
    "    return content\n",
    "\n",
    "news1 = get_news_content('https://news.v.daum.net/v/20190617073049838')\n",
    "print(news1)\n"
   ]
  },
  {
   "cell_type": "code",
   "execution_count": null,
   "metadata": {},
   "outputs": [],
   "source": [
    "email_pattern = '\\w+@.+'\n",
    "# 아이디 : 문자, -, . 숫자도 올 수 있다.\n",
    "# 도메인: 문자 숫자, . gmail.com yahoo.co.kr\n",
    "\n",
    "email_re = re.compile(r'^\\w+[\\w.-]*@[\\w.]+\\w+$')\n",
    "print(email_re.search('test-gmail@gmial.co.kr.'))\n",
    "\n"
   ]
  },
  {
   "cell_type": "code",
   "execution_count": null,
   "metadata": {},
   "outputs": [],
   "source": [
    "webs = ['http://www.test.co.kr', \n",
    "        'https://www.test1.com', \n",
    "        'http://www.test.com', \n",
    "        'ftp://www.test.com', \n",
    "        'http:://www.test.com',\n",
    "       'htp://www.test.com',\n",
    "       'http://www.google.com', \n",
    "       'https://www.homepage.com.']"
   ]
  },
  {
   "cell_type": "code",
   "execution_count": null,
   "metadata": {},
   "outputs": [],
   "source": [
    "web_re = re.compile(r'https?://[\\w.]+\\w+$')\n",
    "for w in webs:\n",
    "    print(web_re.search(w))"
   ]
  },
  {
   "cell_type": "code",
   "execution_count": 16,
   "metadata": {},
   "outputs": [
    {
     "name": "stdout",
     "output_type": "stream",
     "text": [
      "['navr.com']\n"
     ]
    }
   ],
   "source": [
    "txt = 'From setp.mar@navr.com sat Jan'\n",
    "d_e = re.findall('^From \\S+@(\\S[^ ]*)', txt)\n",
    "print(d_e)"
   ]
  },
  {
   "cell_type": "code",
   "execution_count": 19,
   "metadata": {},
   "outputs": [
    {
     "name": "stdout",
     "output_type": "stream",
     "text": [
      "C:\\Users\\1000\\desktop\\jupyter\n"
     ]
    }
   ],
   "source": [
    "cd desktop/jupyter"
   ]
  },
  {
   "cell_type": "code",
   "execution_count": 79,
   "metadata": {},
   "outputs": [
    {
     "name": "stdout",
     "output_type": "stream",
     "text": [
      "0.9907\n",
      "0.6178\n",
      "[0.8475, 0.6178, 0.6961, 0.7565, 0.7626, 0.7556, 0.7002, 0.7615, 0.7601, 0.7605, 0.6959, 0.7606, 0.7559, 0.7605, 0.6932, 0.7558, 0.6526, 0.6948, 0.6528, 0.7002, 0.7554, 0.6956, 0.6959, 0.7556, 0.9846, 0.8509, 0.9907]\n",
      "[0.6178, 0.6526, 0.6528, 0.6932, 0.6948, 0.6956, 0.6959, 0.6959, 0.6961, 0.7002, 0.7002, 0.7554, 0.7556, 0.7556, 0.7558, 0.7559, 0.7565, 0.7601, 0.7605, 0.7605, 0.7606, 0.7615, 0.7626, 0.8475, 0.8509, 0.9846, 0.9907]\n"
     ]
    }
   ],
   "source": [
    "import re\n",
    "\n",
    "fh = open('mbox-short.txt')\n",
    "maxcount = list()\n",
    "\n",
    "\n",
    "for line in fh :\n",
    "    line = line.rstrip()\n",
    "#     s_line = line.split()\n",
    "    m_word = re.findall('X-DSPAM-Confidence: ([0-9.]*)', line)\n",
    "    \n",
    "    if len(m_word) != 1: continue \n",
    "    num = float(m_word[0])\n",
    "    maxcount.append(num)\n",
    "\n",
    "print(max(maxcount))\n",
    "print(min(maxcount))\n",
    "print(maxcount)\n",
    "maxcount.sort()\n",
    "print(maxcount)"
   ]
  },
  {
   "cell_type": "code",
   "execution_count": 62,
   "metadata": {},
   "outputs": [
    {
     "name": "stdout",
     "output_type": "stream",
     "text": [
      "['$20.0']\n"
     ]
    }
   ],
   "source": [
    "mon = 'money is the big stuff, $20.0 for you'\n",
    "print(re.findall('\\$[0-9.0-9]*', mon))"
   ]
  },
  {
   "cell_type": "code",
   "execution_count": 177,
   "metadata": {},
   "outputs": [
    {
     "name": "stdout",
     "output_type": "stream",
     "text": [
      "04 3\n",
      "06 1\n",
      "07 1\n",
      "09 2\n",
      "10 3\n",
      "11 6\n",
      "14 1\n",
      "15 2\n",
      "16 4\n",
      "17 2\n",
      "18 1\n",
      "19 1\n"
     ]
    }
   ],
   "source": [
    "fh = open('mbox-short.txt')\n",
    "hour = {}\n",
    "lst = []\n",
    "\n",
    "for line in fh :\n",
    "    line = line.rstrip()\n",
    "\n",
    "    if line.startswith('From') == True and line.find(':') > 4 :\n",
    "        hour_p = line.find(':')\n",
    "        hour_1 = line[hour_p - 2 : hour_p]\n",
    "        hour[hour_1]= hour.get(hour_1, 0) + 1 \n",
    "\n",
    "\n",
    "lst2= []\n",
    "\n",
    "for k, v in hour.items() :\n",
    "    lst2.append((k, v))\n",
    "    lst2.sort()\n",
    "\n",
    "for o1, o2 in lst2 :\n",
    "    print(o1, o2)"
   ]
  },
  {
   "cell_type": "code",
   "execution_count": 132,
   "metadata": {},
   "outputs": [
    {
     "name": "stdout",
     "output_type": "stream",
     "text": [
      "['rom', 'stephen.marquard@uct.ac.za', 'Sat', 'Jan', '5', '09:14:16', '2008']\n",
      "4\n",
      "09\n"
     ]
    }
   ],
   "source": [
    "xx = 'rom stephen.marquard@uct.ac.za Sat Jan  5 09:14:16 2008'\n",
    "xy = '5 09:14:16 2008'\n",
    "\n",
    "x2 = xx.split()\n",
    "x3 = xy.find(':')\n",
    "print(x2)\n",
    "print(x3)\n",
    "print(xy[x3-2 : x3])"
   ]
  },
  {
   "cell_type": "code",
   "execution_count": null,
   "metadata": {},
   "outputs": [],
   "source": []
  },
  {
   "cell_type": "code",
   "execution_count": null,
   "metadata": {},
   "outputs": [],
   "source": []
  },
  {
   "cell_type": "code",
   "execution_count": null,
   "metadata": {},
   "outputs": [],
   "source": []
  },
  {
   "cell_type": "code",
   "execution_count": null,
   "metadata": {},
   "outputs": [],
   "source": []
  }
 ],
 "metadata": {
  "kernelspec": {
   "display_name": "Python 3",
   "language": "python",
   "name": "python3"
  },
  "language_info": {
   "codemirror_mode": {
    "name": "ipython",
    "version": 3
   },
   "file_extension": ".py",
   "mimetype": "text/x-python",
   "name": "python",
   "nbconvert_exporter": "python",
   "pygments_lexer": "ipython3",
   "version": "3.7.3"
  }
 },
 "nbformat": 4,
 "nbformat_minor": 1
}
