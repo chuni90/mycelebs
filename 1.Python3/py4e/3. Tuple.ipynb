{
 "cells": [
  {
   "cell_type": "markdown",
   "metadata": {},
   "source": [
    "# Tuple\n",
    " * 선언 tuple() , a, b = (1, 2)  <- 괄호는 없어도 됨!!\n",
    " * 리스트와 다르게 불변타입, 제한이 많음\n",
    " * 불변이다보니까 메모리를 적게 먹음. bulid의 과정이 없음\n",
    " * 사용 가능한 메소드는 count, index 뿐\n",
    " * 리스트와 같게 순서를 가지나 sort는 불가능 (불변이다 보니 순서도 바꾸지 못함)  \n",
    " -편법으로 튜플자체를 리스트에 넣고 순서를 바꾸는 경우가 있음"
   ]
  },
  {
   "cell_type": "code",
   "execution_count": 136,
   "metadata": {},
   "outputs": [
    {
     "name": "stdout",
     "output_type": "stream",
     "text": [
      "<class 'tuple'>\n",
      "3\n",
      "2\n"
     ]
    }
   ],
   "source": [
    "a = 1, 2 ,3, 1\n",
    "print(type(a))\n",
    "\n",
    "print(a[2])\n",
    "\n",
    "print(a.count(1))"
   ]
  },
  {
   "cell_type": "code",
   "execution_count": 144,
   "metadata": {},
   "outputs": [
    {
     "name": "stdout",
     "output_type": "stream",
     "text": [
      "['count', 'index']\n"
     ]
    }
   ],
   "source": [
    "print(dir(a)[-2:])"
   ]
  },
  {
   "cell_type": "markdown",
   "metadata": {},
   "source": [
    "### 딕셔너리의 items 메소드는 key, value 값을 튜플 형태로 반환함.\n",
    " * ex) dic.items() -->> ('a',1), ('b', 2)"
   ]
  },
  {
   "cell_type": "code",
   "execution_count": 27,
   "metadata": {},
   "outputs": [
    {
     "name": "stdout",
     "output_type": "stream",
     "text": [
      "{'a': 1, 'v': 3}\n",
      "dict_items([('a', 1), ('v', 3)])\n"
     ]
    }
   ],
   "source": [
    "dic = {}\n",
    "dic['a'] = 1\n",
    "dic['v'] = 3\n",
    "\n",
    "print(dic)\n",
    "tups = dic.items()\n",
    "print(tups)"
   ]
  },
  {
   "cell_type": "markdown",
   "metadata": {},
   "source": [
    "### 딕셔너리 정렬, sorted(dict변수명.items())\n",
    "  - 실제로 딕셔너리의 순서가 변경 되지는 않음. 원래 딕셔너리엔 순서 개념이 없으므로"
   ]
  },
  {
   "cell_type": "code",
   "execution_count": 5,
   "metadata": {},
   "outputs": [
    {
     "name": "stdout",
     "output_type": "stream",
     "text": [
      "{'ef': 4, 'ab': 2, 'cd': 3}\n",
      "[('ab', 2), ('cd', 3), ('ef', 4)]\n",
      "{'ef': 4, 'ab': 2, 'cd': 3}\n"
     ]
    }
   ],
   "source": [
    "dic2 = {'ef' : 4, 'ab': 2, 'cd' : 3}\n",
    "print(dic2)\n",
    "\n",
    "#key, value를 sorted 했을 경우\n",
    "print(sorted(dic2.items()))\n",
    "\n",
    "# sorted로 실제 dic2가 변경되지 않음\n",
    "print(dic2)  "
   ]
  },
  {
   "cell_type": "code",
   "execution_count": 13,
   "metadata": {},
   "outputs": [
    {
     "name": "stdout",
     "output_type": "stream",
     "text": [
      "sorted 사용 >>  ab 2\n",
      "sorted 사용 >>  cd 3\n",
      "sorted 사용 >>  ef 4\n",
      "미사용 >>  ef 4\n",
      "미사용 >>  ab 2\n",
      "미사용 >>  cd 3\n",
      "{'ef': 4, 'ab': 2, 'cd': 3}\n"
     ]
    }
   ],
   "source": [
    "for k, v in sorted(dic2.items()) :\n",
    "    print('sorted 사용 >> ',k , v)\n",
    "\n",
    "for k, v in dic2.items() :\n",
    "    print('미사용 >> ',k , v)\n",
    "    \n",
    "# 여전히 dic의 순서는 그대로 임\n",
    "print(dic2)  "
   ]
  },
  {
   "cell_type": "markdown",
   "metadata": {},
   "source": [
    "### 딕셔너리에서 value를 기준으로 정렬하기\n",
    "1. 첫 번째는 딕셔너리에 sorted 함수를 처음부터 사용\n",
    "1. 두 번째는 리스트의 sort메소드 활용\n",
    "1. 세 번째는 리스트에 sorted 함수 사용\n",
    " \n",
    "  - 특이한 점은 sorted 함수를 실행해도 리스트 정렬되지는 않음\n",
    "  - 변수에 대입해야만 정렬된 리스트가 반환됨"
   ]
  },
  {
   "cell_type": "code",
   "execution_count": 148,
   "metadata": {},
   "outputs": [
    {
     "name": "stdout",
     "output_type": "stream",
     "text": [
      "[(2, 'ab'), (3, 'cd'), (4, 'ef')]\n",
      "2-1번 [(2, 'ab'), (3, 'cd'), (4, 'ef')]\n",
      "[(4, 'ef'), (3, 'cd'), (2, 'ab')]\n",
      "[(2, 'ab'), (3, 'cd'), (4, 'ef')]\n"
     ]
    }
   ],
   "source": [
    "# 1번\n",
    "vlist = []\n",
    "for k, v in sorted(dic2.items()) :\n",
    "    vlist.append((v, k))\n",
    "print(vlist) \n",
    "\n",
    "# 밑에서 나오지만 압축코드 해보기\n",
    "print('2-1번', sorted([(v,k) for k, v in dic2.items()]))\n",
    "\n",
    "# 2번\n",
    "vlist2 = []\n",
    "for k, v in dic2.items() :\n",
    "    vlist2.append((v,k))\n",
    "    vlist2.sort(reverse=True)\n",
    "print(vlist2)\n",
    "\n",
    "# 3번\n",
    "vlist3 = []\n",
    "for k, v in dic2.items() :\n",
    "    vlist3.append((v,k))\n",
    "    vlist3 = sorted(vlist3)  # <--  sorted 함수를 사용하여 그 정렬된 걸 저장하려면 변수에 대입해야함\n",
    "print(vlist3)"
   ]
  },
  {
   "cell_type": "markdown",
   "metadata": {},
   "source": [
    "#### 예제1) 텍스트 내에서 가장 많이 사용된 단어 10개 찾아내기"
   ]
  },
  {
   "cell_type": "code",
   "execution_count": 108,
   "metadata": {},
   "outputs": [
    {
     "name": "stdout",
     "output_type": "stream",
     "text": [
      "C:\\Users\\1000\\desktop\\jupyter\n"
     ]
    }
   ],
   "source": [
    "cd desktop/jupyter"
   ]
  },
  {
   "cell_type": "code",
   "execution_count": 80,
   "metadata": {},
   "outputs": [
    {
     "name": "stdout",
     "output_type": "stream",
     "text": [
      "[(3, 'the'), (3, 'is'), (3, 'and'), (2, 'sun'), (1, 'yonder'), (1, 'with'), (1, 'window'), (1, 'what'), (1, 'through'), (1, 'soft')]\n"
     ]
    }
   ],
   "source": [
    "fh = open('romeo.txt')\n",
    "fword = {}\n",
    "\n",
    "for line in fh :\n",
    "    line= line.rstrip()\n",
    "    word = line.split()\n",
    "               \n",
    "    for x in word :\n",
    "        fword[x] = fword.get(x, 0) + 1 \n",
    "        \n",
    "# print(fword)\n",
    "\n",
    "lst = []\n",
    "for k, v in  sorted(fword.items()) :\n",
    "    lst.append((v,k))\n",
    "    lst = sorted(lst, reverse=True)\n",
    "print(lst[:10])"
   ]
  },
  {
   "cell_type": "markdown",
   "metadata": {},
   "source": [
    "### 리스트 컴프리헨션 (List comprehension)"
   ]
  },
  {
   "cell_type": "code",
   "execution_count": 83,
   "metadata": {},
   "outputs": [
    {
     "name": "stdout",
     "output_type": "stream",
     "text": [
      "[(1, 'b'), (10, 'a'), (22, 'c')]\n"
     ]
    }
   ],
   "source": [
    "# 기존 쓰던 것\n",
    "\n",
    "c = {'a':10, 'b':1, 'c':22}\n",
    "\n",
    "#-----압 축 대 상 코 드 -----\n",
    "tmp = list()\n",
    "for k, v in c.items() :\n",
    "    tmp.append( (v, k) )\n",
    "\n",
    "tmp = sorted(tmp)\n",
    "print(tmp)\n",
    "#--------------------"
   ]
  },
  {
   "cell_type": "markdown",
   "metadata": {},
   "source": [
    "* 위에서 -----사이의 코드들을 한 줄로 압축하면 아래와 같음\n",
    "* 그런데 차이점은 tmp(=리스트)를 남기지 않고 그대로 계산하고 끝내버림  \n",
    "만약 리스트가 data가 필요하다면 이렇게 사용하면 안 됨"
   ]
  },
  {
   "cell_type": "code",
   "execution_count": 84,
   "metadata": {},
   "outputs": [
    {
     "name": "stdout",
     "output_type": "stream",
     "text": [
      "[(1, 'b'), (10, 'a'), (22, 'c')]\n"
     ]
    }
   ],
   "source": [
    "print(sorted([(v,k) for k, v in c.items()]))"
   ]
  },
  {
   "cell_type": "markdown",
   "metadata": {},
   "source": [
    "#### 예제1)을 컴프리헨션 적용하면 5줄 코드가 1줄로 변경  \n",
    " * 은근 복잡한 건 안 비밀"
   ]
  },
  {
   "cell_type": "code",
   "execution_count": 103,
   "metadata": {},
   "outputs": [
    {
     "name": "stdout",
     "output_type": "stream",
     "text": [
      "[(3, 'the'), (3, 'is'), (3, 'and'), (2, 'sun'), (1, 'yonder')]\n"
     ]
    }
   ],
   "source": [
    "fh = open('romeo.txt')\n",
    "fword = {}\n",
    "\n",
    "for line in fh :\n",
    "    line= line.rstrip()\n",
    "    word = line.split()\n",
    "               \n",
    "    for x in word :\n",
    "        fword[x] = fword.get(x, 0) + 1 \n",
    "        \n",
    "print(sorted([(v, k) for k, v in fword.items()], reverse=True)[:5])\n",
    "\n",
    "# lst = []\n",
    "# for k, v in  sorted(fword.items()) :\n",
    "#     lst.append((v,k))\n",
    "#     lst = sorted(lst, reverse=True)\n",
    "# print(lst[:10])"
   ]
  },
  {
   "cell_type": "markdown",
   "metadata": {},
   "source": [
    "### 예제2"
   ]
  },
  {
   "cell_type": "markdown",
   "metadata": {},
   "source": [
    "* 영상 대로"
   ]
  },
  {
   "cell_type": "code",
   "execution_count": 121,
   "metadata": {},
   "outputs": [
    {
     "name": "stdout",
     "output_type": "stream",
     "text": [
      "the 226\n",
      "to 204\n",
      "a 165\n",
      "and 160\n",
      "you 130\n"
     ]
    }
   ],
   "source": [
    "fh = open('intro.txt')\n",
    "di = dict()\n",
    "\n",
    "for lin in fh :\n",
    "    lin = lin.rstrip()\n",
    "    wds = lin.split()\n",
    "    \n",
    "    for w in wds :\n",
    "        di[w] = di.get(w, 0) + 1 \n",
    "        \n",
    "# print(di)\n",
    "\n",
    "tmp = list()\n",
    "for k, v in di.items() :\n",
    "#     print(k, v)\n",
    "    newt = (v, k)\n",
    "    tmp.append(newt)\n",
    "    \n",
    "# print('Fliped> ',tmp)\n",
    "\n",
    "tmp = sorted(tmp, reverse=True)\n",
    "# print('sorted', tmp[:5])\n",
    "\n",
    "for v, k in tmp[:5] :\n",
    "    print(k, v)"
   ]
  },
  {
   "cell_type": "markdown",
   "metadata": {},
   "source": [
    "* 리스트 컴프리헨션 적용"
   ]
  },
  {
   "cell_type": "code",
   "execution_count": 132,
   "metadata": {},
   "outputs": [
    {
     "name": "stdout",
     "output_type": "stream",
     "text": [
      "새로운 변수에 담기 >>  [(352, 'Jan'), (324, '2008'), (245, 'by'), (243, 'Received:'), (219, '-0500')]\n",
      "바로 뽑기>>  [(352, 'Jan'), (324, '2008'), (245, 'by'), (243, 'Received:'), (219, '-0500')]\n"
     ]
    }
   ],
   "source": [
    "fh = open('mbox-short.txt')\n",
    "di = dict()\n",
    "\n",
    "for lin in fh :\n",
    "    lin = lin.rstrip()\n",
    "    wds = lin.split()\n",
    "    \n",
    "    for w in wds :\n",
    "        di[w] = di.get(w, 0) + 1 \n",
    "        \n",
    "sort_di_in_lst = sorted([(v,k) for k, v in di.items()], reverse=True)      \n",
    "print('새로운 변수에 담기 >> ',sort_di_in_lst[:5])\n",
    "\n",
    "print('바로 뽑기>> ',sorted([(v,k) for k, v in di.items()], reverse=True)[:5])"
   ]
  },
  {
   "cell_type": "code",
   "execution_count": null,
   "metadata": {},
   "outputs": [],
   "source": []
  }
 ],
 "metadata": {
  "kernelspec": {
   "display_name": "Python 3",
   "language": "python",
   "name": "python3"
  },
  "language_info": {
   "codemirror_mode": {
    "name": "ipython",
    "version": 3
   },
   "file_extension": ".py",
   "mimetype": "text/x-python",
   "name": "python",
   "nbconvert_exporter": "python",
   "pygments_lexer": "ipython3",
   "version": "3.7.3"
  }
 },
 "nbformat": 4,
 "nbformat_minor": 2
}
