{
 "cells": [
  {
   "cell_type": "markdown",
   "metadata": {},
   "source": [
    "## XML\n",
    "\n",
    "* XML은 eXtensible Markup Language의 약자로, 다음과 같은 계층 구조로 이루어져있습니다. HTML과 비슷하지만 원하는 이름의 태그를 만들 수 있다는 특징이 있고, HTML보다 문법 오류를 더 엄격하게 다룹니다.\n",
    "\n",
    "* XML 데이터를 파이썬에 읽어오기 위해서는 xml 모듈이 필요합니다.  \n",
    "다음과 같은 함수를 활용하면 XML에 접근해 원하는 데이터를 추출할 수 있습니다"
   ]
  },
  {
   "cell_type": "code",
   "execution_count": 12,
   "metadata": {},
   "outputs": [
    {
     "name": "stdout",
     "output_type": "stream",
     "text": [
      "Name1: <Element 'name' at 0x06225750>\n",
      "Name2: Chuck\n",
      "Attr: yes\n"
     ]
    }
   ],
   "source": [
    "import xml.etree.ElementTree as ET\n",
    "\n",
    "# '''는 어떤 특정한 문자열 집합을 저장하겠다는 의미며, 마지막에 ''''를 써서 닫음\n",
    "data = '''\n",
    "<person>\n",
    "  <name>Chuck</name>\n",
    "  <phone type=\"intl\">\n",
    "    +1 734 303 4456\n",
    "  </phone>\n",
    "  <email hide=\"yes\" />\n",
    "</person>'''\n",
    "\n",
    "tree = ET.fromstring(data)   # tree 라는 객체에 xml 트리가 적용된 string 타입의 'data'를 저장함\n",
    "print('Name1:', tree.find('name')) \n",
    "print('Name2:', tree.find('name').text) # tree에서 'name'을 찾고 text로 출력(위의 name1의 출력을 보면 문자가 아님)\n",
    "print('Attr:', tree.find('email').get('hide'))  # 'eamil'을 찾고 hide의 속성을 출력\n"
   ]
  },
  {
   "cell_type": "code",
   "execution_count": 24,
   "metadata": {},
   "outputs": [
    {
     "name": "stdout",
     "output_type": "stream",
     "text": [
      "<class 'list'>\n",
      "User count: 3\n",
      "Name Chuck\n",
      "Id 001\n",
      "Attribute 2\n",
      "Attribute2 {'x': '2'}\n",
      "Name Brent\n",
      "Id 009\n",
      "Attribute 7\n",
      "Attribute2 {'x': '7'}\n",
      "Name Bund\n",
      "Id 992\n",
      "Attribute chun\n",
      "Attribute2 {'x': 'chun'}\n",
      "--------------------\n"
     ]
    }
   ],
   "source": [
    "import xml.etree.ElementTree as ET\n",
    "\n",
    "input = '''\n",
    "<stuff>\n",
    "  <users>\n",
    "    <user x=\"2\">\n",
    "      <id>001</id>\n",
    "      <name>Chuck</name>\n",
    "    </user>\n",
    "    <user x=\"7\">\n",
    "      <id>009</id>\n",
    "      <name>Brent</name>\n",
    "    </user>\n",
    "    <user x='chun'>\n",
    "      <id>992</id>\n",
    "      <name>Bund</name>\n",
    "      </user>\n",
    "  </users>\n",
    "</stuff>'''\n",
    "\n",
    "stuff = ET.fromstring(input)\n",
    "user_l = stuff.findall('users/user')  # user_l 객체(리스트타입)에 stuff 내의 users 하위트리의 user에 대한 걸 넣어라\n",
    "print(type(user_l))                  ### 근데 어떻게 바로 리스트 형식이 되는 걸까??\n",
    "print('User count:', len(user_l))  # user_l 리스트에 들어간 user 개수 출력\n",
    "\n",
    "\n",
    "for item in user_l:\n",
    "    print('Name', item.find('name').text)\n",
    "    print('Id', item.find('id').text)\n",
    "    print('Attribute', item.get('x'))\n",
    "    print('Attribute2', item.attrib)\n",
    "\n",
    "print('--'*10)"
   ]
  },
  {
   "cell_type": "code",
   "execution_count": 27,
   "metadata": {},
   "outputs": [
    {
     "name": "stdout",
     "output_type": "stream",
     "text": [
      "<class 'list'>\n",
      "User count: 3\n",
      "Name Chuck\n",
      "Id 001\n",
      "Attribute 2\n",
      "Attribute2 {'x': '2'}\n",
      "Name Brent\n",
      "Id 009\n",
      "Attribute 7\n",
      "Attribute2 {'x': '7'}\n",
      "Name Bund\n",
      "Id 992\n",
      "Attribute chun\n",
      "Attribute2 {'x': 'chun'}\n",
      "--------------------\n"
     ]
    }
   ],
   "source": [
    "import xml.etree.ElementTree as ET\n",
    "\n",
    "test1 = '''\n",
    "<cus>\n",
    "  <users>\n",
    "    <user x=\"2\">\n",
    "      <id>001</id>\n",
    "      <name>Chuck</name>\n",
    "    </user>\n",
    "    <user x=\"7\">\n",
    "      <id>009</id>\n",
    "      <name>Brent</name>\n",
    "    </user>\n",
    "    <user x='chun'>\n",
    "      <id>992</id>\n",
    "      <name>Bund</name>\n",
    "      </user>\n",
    "  </users>\n",
    "</cus>'''\n",
    "\n",
    "cus = ET.fromstring(test1)\n",
    "user_l2 = cus.findall('users/user')  # user_l 객체(리스트타입)에 stuff 내의 users 하위트리의 user에 대한 걸 넣어라\n",
    "print(type(user_l2))                  ### 근데 어떻게 바로 리스트 형식이 되는 걸까??\n",
    "print('User count:', len(user_l2))  # user_l 리스트에 들어간 user 개수 출력\n",
    "\n",
    "\n",
    "for item in user_l2:\n",
    "    print('Name', item.find('name').text)\n",
    "    print('Id', item.find('id').text)\n",
    "    print('Attribute', item.get('x'))\n",
    "    print('Attribute2', item.attrib)\n",
    "\n",
    "print('--'*10)"
   ]
  },
  {
   "cell_type": "markdown",
   "metadata": {},
   "source": [
    "## XML 스키마\n",
    "\n",
    "* 스키마라는 것은 XML을 정해진 규칙으로 서술/작성되도록 하는 가이드라인을 의미하며,  \n",
    "이를 벗어날 경우에 오류가 뜨도록 검사하는 '검사기'와 같은 것도 있음"
   ]
  },
  {
   "cell_type": "markdown",
   "metadata": {},
   "source": [
    "## JSON(JavaScript Object Notation)\n",
    "\n",
    "* JSON은 XML보다 더 자주 사용되는 데이터 포맷입니다. 이 코드는 이전 시간에 XML로 실행했던 것과 정확히 같은 내용의 코드입니다. 데이터가 XML 형식에서 JSON 형식으로 바뀐 것을 제외하면 말입니다.   \n",
    "JSON은 파이썬에서의 딕셔너리와 굉장히 비슷하기 때문에 데이터를 읽어온 후 딕셔너리로 접근할 수 있습니다."
   ]
  },
  {
   "cell_type": "markdown",
   "metadata": {},
   "source": [
    "* xml과 다르게 익숙한 딕셔너리 형태로 사용 가능하며, 키와 값을 가지고 사용 가능\n",
    "print 할 때도, 딕셔너리 형태로 호출"
   ]
  },
  {
   "cell_type": "code",
   "execution_count": 35,
   "metadata": {},
   "outputs": [
    {
     "name": "stdout",
     "output_type": "stream",
     "text": [
      "name>> chuck\n",
      "Hide>> naver.com\n"
     ]
    }
   ],
   "source": [
    "import json\n",
    "data = '''{\n",
    " \"name\" : \"chuck\",\n",
    " \"phone\" : {\n",
    "  \"type\" : \"intl\",\n",
    "  \"number\" : \"+82 10 3972\"\n",
    "  },\n",
    " \"email\" : {\n",
    "  \"hide\" : \"yes\",\n",
    "  \"domain\" : \"naver.com\"\n",
    "  }\n",
    "\n",
    " }'''\n",
    "\n",
    "info = json.loads(data)\n",
    "print('name>>', info[\"name\"])\n",
    "print('Hide>>', info[\"email\"][\"domain\"])"
   ]
  },
  {
   "cell_type": "markdown",
   "metadata": {},
   "source": [
    "* json1 이라는 [리스트] 내에서 2개의 딕셔너리를 가지는 구조"
   ]
  },
  {
   "cell_type": "code",
   "execution_count": 2,
   "metadata": {},
   "outputs": [
    {
     "name": "stdout",
     "output_type": "stream",
     "text": [
      "[{'id': '001', 'sex': 'M', 'Name': 'chun'}, {'id': '002', 'sex': 'W', 'Name': 'Jang'}]\n",
      "User count 2\n",
      "Name chun\n",
      "Gender M\n",
      "Attr 001\n",
      "Name Jang\n",
      "Gender W\n",
      "Attr 002\n"
     ]
    }
   ],
   "source": [
    "import json\n",
    "\n",
    "# 리스트를 의미하는 대괄호[]를 사용하여 json 구조를 생성\n",
    "json1 = '''[\n",
    " {\"id\" : \"001\",\n",
    " \"sex\" : \"M\",\n",
    " \"Name\" : \"chun\"\n",
    "},\n",
    " {\"id\" : \"002\",\n",
    " \"sex\" : \"W\",\n",
    " \"Name\" : \"Jang\"\n",
    " }\n",
    "\n",
    " ]'''\n",
    "\n",
    "infoma = json.loads(json1)\n",
    "print(infoma)\n",
    "print('User count', len(infoma))\n",
    "\n",
    "for item in infoma :\n",
    "    print('Name', item[\"Name\"])\n",
    "    print('Gender', item[\"sex\"])\n",
    "    print('Attr', item[\"id\"])"
   ]
  },
  {
   "cell_type": "markdown",
   "metadata": {},
   "source": [
    "## Service Oriented Approach\n",
    "\n",
    "* 서비스 지향 아키텍처(Service Oriented Architecture, 약칭 SOA 「에스오에이」혹은 「소아」로 발음)란 대규모 컴퓨터 시스템을 구축할 때의 개념으로 업무상에 일 처리에 해당하는 소프트웨어 기능을 서비스로 판단하여 그 서비스를 네트워크상에 연동하여 시스템 전체를 구축해 나가는 방법론이다. "
   ]
  },
  {
   "cell_type": "markdown",
   "metadata": {},
   "source": [
    "#### API\n",
    "* 우리는 타 서비스에서 제공중인 Open API를 받아서 사용 가능하다.\n",
    "아래 예시는 구글맵 API 중 한 개를 사용하여, 입력한 장소에 대한 위치 좌표를 얻는 코드"
   ]
  },
  {
   "cell_type": "code",
   "execution_count": null,
   "metadata": {},
   "outputs": [
    {
     "name": "stdout",
     "output_type": "stream",
     "text": [
      "Enter location: seoul, korea\n",
      "Retrieving http://py4e-data.dr-chuck.net/json?address=seoul%2C+korea&key=42\n",
      "Retrieved 1517 characters\n",
      "{\n",
      "    \"results\": [\n",
      "        {\n",
      "            \"address_components\": [\n",
      "                {\n",
      "                    \"long_name\": \"Seoul\",\n",
      "                    \"short_name\": \"Seoul\",\n",
      "                    \"types\": [\n",
      "                        \"locality\",\n",
      "                        \"political\"\n",
      "                    ]\n",
      "                },\n",
      "                {\n",
      "                    \"long_name\": \"Seoul\",\n",
      "                    \"short_name\": \"Seoul\",\n",
      "                    \"types\": [\n",
      "                        \"administrative_area_level_1\",\n",
      "                        \"political\"\n",
      "                    ]\n",
      "                },\n",
      "                {\n",
      "                    \"long_name\": \"South Korea\",\n",
      "                    \"short_name\": \"KR\",\n",
      "                    \"types\": [\n",
      "                        \"country\",\n",
      "                        \"political\"\n",
      "                    ]\n",
      "                }\n",
      "            ],\n",
      "            \"formatted_address\": \"Seoul, South Korea\",\n",
      "            \"geometry\": {\n",
      "                \"bounds\": {\n",
      "                    \"northeast\": {\n",
      "                        \"lat\": 37.7017495,\n",
      "                        \"lng\": 127.1835899\n",
      "                    },\n",
      "                    \"southwest\": {\n",
      "                        \"lat\": 37.4259627,\n",
      "                        \"lng\": 126.7645827\n",
      "                    }\n",
      "                },\n",
      "                \"location\": {\n",
      "                    \"lat\": 37.566535,\n",
      "                    \"lng\": 126.9779692\n",
      "                },\n",
      "                \"location_type\": \"APPROXIMATE\",\n",
      "                \"viewport\": {\n",
      "                    \"northeast\": {\n",
      "                        \"lat\": 37.6956,\n",
      "                        \"lng\": 127.1823\n",
      "                    },\n",
      "                    \"southwest\": {\n",
      "                        \"lat\": 37.4346,\n",
      "                        \"lng\": 126.7968\n",
      "                    }\n",
      "                }\n",
      "            },\n",
      "            \"place_id\": \"ChIJzWXFYYuifDUR64Pq5LTtioU\",\n",
      "            \"types\": [\n",
      "                \"locality\",\n",
      "                \"political\"\n",
      "            ]\n",
      "        }\n",
      "    ],\n",
      "    \"status\": \"OK\"\n",
      "}\n",
      "lat 37.566535 lng 126.9779692\n",
      "Seoul, South Korea\n"
     ]
    }
   ],
   "source": [
    "import urllib.request, urllib.parse, urllib.error\n",
    "import json\n",
    "import ssl\n",
    "\n",
    "api_key = False\n",
    "# If you have a Google Places API key, enter it here\n",
    "# api_key = 'AIzaSy___IDByT70'\n",
    "# https://developers.google.com/maps/documentation/geocoding/intro\n",
    "\n",
    "if api_key is False:\n",
    "    api_key = 42\n",
    "    serviceurl = 'http://py4e-data.dr-chuck.net/json?'\n",
    "else :\n",
    "    serviceurl = 'https://maps.googleapis.com/maps/api/geocode/json?'\n",
    "\n",
    "# Ignore SSL certificate errors\n",
    "ctx = ssl.create_default_context()\n",
    "ctx.check_hostname = False\n",
    "ctx.verify_mode = ssl.CERT_NONE\n",
    "\n",
    "while True:\n",
    "    address = input('Enter location: ')\n",
    "    if len(address) < 1: break\n",
    "\n",
    "    parms = dict()\n",
    "    parms['address'] = address\n",
    "    if api_key is not False: parms['key'] = api_key\n",
    "    url = serviceurl + urllib.parse.urlencode(parms)\n",
    "\n",
    "    print('Retrieving', url)\n",
    "    uh = urllib.request.urlopen(url, context=ctx)\n",
    "    data = uh.read().decode()\n",
    "    print('Retrieved', len(data), 'characters')\n",
    "\n",
    "    try:\n",
    "        js = json.loads(data)\n",
    "    except:\n",
    "        js = None\n",
    "\n",
    "    if not js or 'status' not in js or js['status'] != 'OK':\n",
    "        print('==== Failure To Retrieve ====')\n",
    "        print(data)\n",
    "        continue\n",
    "\n",
    "    print(json.dumps(js, indent=4))\n",
    "\n",
    "    lat = js['results'][0]['geometry']['location']['lat']\n",
    "    lng = js['results'][0]['geometry']['location']['lng']\n",
    "    print('lat', lat, 'lng', lng)\n",
    "    location = js['results'][0]['formatted_address']\n",
    "    print(location)"
   ]
  }
 ],
 "metadata": {
  "kernelspec": {
   "display_name": "Python 3",
   "language": "python",
   "name": "python3"
  },
  "language_info": {
   "codemirror_mode": {
    "name": "ipython",
    "version": 3
   },
   "file_extension": ".py",
   "mimetype": "text/x-python",
   "name": "python",
   "nbconvert_exporter": "python",
   "pygments_lexer": "ipython3",
   "version": "3.7.3"
  }
 },
 "nbformat": 4,
 "nbformat_minor": 2
}
