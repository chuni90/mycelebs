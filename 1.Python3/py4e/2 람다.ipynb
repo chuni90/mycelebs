{
 "cells": [
  {
   "cell_type": "markdown",
   "metadata": {},
   "source": [
    "### 함수를 파라미터로 받는 함수"
   ]
  },
  {
   "cell_type": "code",
   "execution_count": 7,
   "metadata": {},
   "outputs": [
    {
     "name": "stdout",
     "output_type": "stream",
     "text": [
      "[42, 52, 1, 5, 92]\n",
      "[1, 5, 42, 52, 92]\n"
     ]
    }
   ],
   "source": [
    "a = [42, 52, 1, 5, 92]\n",
    "print(a)\n",
    "\n",
    "a.sort()\n",
    "print(a)"
   ]
  },
  {
   "cell_type": "markdown",
   "metadata": {},
   "source": [
    "### 나머지의 오름차순으로 정렬하기"
   ]
  },
  {
   "cell_type": "code",
   "execution_count": 9,
   "metadata": {},
   "outputs": [
    {
     "name": "stdout",
     "output_type": "stream",
     "text": [
      "2\n",
      "4\n",
      "5\n"
     ]
    }
   ],
   "source": [
    "def digit(x) :\n",
    "    return x % 10\n",
    "\n",
    "print(digit(12))\n",
    "\n",
    "print(digit(24))\n",
    "\n",
    "print(digit(35))"
   ]
  },
  {
   "cell_type": "code",
   "execution_count": 10,
   "metadata": {},
   "outputs": [
    {
     "name": "stdout",
     "output_type": "stream",
     "text": [
      "[1, 5, 42, 52, 92]\n",
      "[1, 42, 52, 92, 5]\n"
     ]
    }
   ],
   "source": [
    "print(a)\n",
    "a.sort(key=digit)   # 정렬의 기준이 key='함수'대로 변경되는 것\n",
    "\n",
    "print(a)"
   ]
  },
  {
   "cell_type": "markdown",
   "metadata": {},
   "source": [
    "### lambda(람다) 함수"
   ]
  },
  {
   "cell_type": "code",
   "execution_count": 13,
   "metadata": {},
   "outputs": [
    {
     "name": "stdout",
     "output_type": "stream",
     "text": [
      "16\n",
      "25\n"
     ]
    }
   ],
   "source": [
    "def square(x) :\n",
    "    return x*x\n",
    "\n",
    "print(square(4))\n",
    "print(square(5))"
   ]
  },
  {
   "cell_type": "code",
   "execution_count": 15,
   "metadata": {},
   "outputs": [
    {
     "name": "stdout",
     "output_type": "stream",
     "text": [
      "16\n",
      "25\n"
     ]
    }
   ],
   "source": [
    "square2 = lambda x : x * x\n",
    "print(square2(4))\n",
    "print(square2(5))"
   ]
  },
  {
   "cell_type": "code",
   "execution_count": 28,
   "metadata": {},
   "outputs": [
    {
     "name": "stdout",
     "output_type": "stream",
     "text": [
      "[42, 52, 1, 5, 92]\n",
      "[1, 42, 52, 92, 5]\n"
     ]
    }
   ],
   "source": [
    "a = [42, 52, 1, 5, 92]\n",
    "print(a)\n",
    "\n",
    "a.sort(key=lambda x:x % 10)\n",
    "print(a)"
   ]
  },
  {
   "cell_type": "code",
   "execution_count": 29,
   "metadata": {},
   "outputs": [
    {
     "name": "stdout",
     "output_type": "stream",
     "text": [
      "[1, 5, 9]\n",
      "[9, 1, 5]\n"
     ]
    }
   ],
   "source": [
    "# range를 이용하여 함수 만들어보고, 람다와 reverse 를 사용해 정렬을 실험해본것\n",
    "\n",
    "a = list(range(1, 11, 4))\n",
    "print(a)\n",
    "\n",
    "a.sort(key=lambda x: x % 5, reverse=True)\n",
    "print(a)"
   ]
  },
  {
   "cell_type": "markdown",
   "metadata": {},
   "source": [
    "### filter\n",
    " * 리스트 원소 필터링"
   ]
  },
  {
   "cell_type": "code",
   "execution_count": 36,
   "metadata": {},
   "outputs": [
    {
     "name": "stdout",
     "output_type": "stream",
     "text": [
      "True\n",
      "False\n"
     ]
    }
   ],
   "source": [
    "def even(x) :\n",
    "    return x % 2 == 0\n",
    "\n",
    "print(even(100))\n",
    "print(even(101))\n"
   ]
  },
  {
   "cell_type": "code",
   "execution_count": 37,
   "metadata": {},
   "outputs": [
    {
     "name": "stdout",
     "output_type": "stream",
     "text": [
      "[2, 4, 10, 12]\n"
     ]
    }
   ],
   "source": [
    "a = [1, 2, 4, 7, 9, 10, 12, 17]\n",
    "b = list(filter(even, a))    # filter(조건, 대상) 조건에 부합(True) 인것만 필터링\n",
    "\n",
    "print(b)"
   ]
  },
  {
   "cell_type": "code",
   "execution_count": 39,
   "metadata": {},
   "outputs": [
    {
     "name": "stdout",
     "output_type": "stream",
     "text": [
      "[2, 4, 10, 12]\n"
     ]
    }
   ],
   "source": [
    "b = list(filter(lambda y: y % 2 ==0,a))\n",
    "print(b)"
   ]
  },
  {
   "cell_type": "code",
   "execution_count": 40,
   "metadata": {},
   "outputs": [
    {
     "name": "stdout",
     "output_type": "stream",
     "text": [
      "[12, 17]\n"
     ]
    }
   ],
   "source": [
    "b = list(filter(lambda z: z>10,a))\n",
    "print(b)"
   ]
  },
  {
   "cell_type": "markdown",
   "metadata": {},
   "source": [
    "### 연습문제\n",
    "1. 리스트를 입력받아 짝수만 반환\n",
    " * 1-1. 리스트를 입력받아 짝수만 갖는 리스트 반환\n",
    "2. 주어진 수가 소수인지 아닌지 판단\n",
    "3. 주어진 문자열에서 모음의 개수를 출력"
   ]
  },
  {
   "cell_type": "code",
   "execution_count": 97,
   "metadata": {},
   "outputs": [
    {
     "name": "stdout",
     "output_type": "stream",
     "text": [
      "[66, 1, 5, 2, 66, 24, 77]\n",
      "[66, 2, 66, 24]\n"
     ]
    }
   ],
   "source": [
    "# 문1\n",
    "\n",
    "a = [66, 1, 5, 2, 66, 24, 77]\n",
    "print(a)\n",
    "\n",
    "even_a = list(filter(lambda x : x % 2 == 0,a))\n",
    "print(even_a)"
   ]
  },
  {
   "cell_type": "code",
   "execution_count": 113,
   "metadata": {},
   "outputs": [
    {
     "name": "stdout",
     "output_type": "stream",
     "text": [
      "[2, 482]\n"
     ]
    }
   ],
   "source": [
    "# 문1-1\n",
    "b = [3, 6, 66, 2, 33, 93]\n",
    "    \n",
    "def even_filter(lst) :\n",
    "    even_lst = list()    # even_lst = []  이거랑 같은 의미\n",
    "\n",
    "    for x in lst :\n",
    "        if x % 2 == 0 :\n",
    "            even_lst.append(x)\n",
    "             \n",
    "    return even_lst\n",
    "    \n",
    "print(even_filter([1, 5, 2, 75, 737, 482, 83]))\n"
   ]
  },
  {
   "cell_type": "code",
   "execution_count": 115,
   "metadata": {},
   "outputs": [
    {
     "name": "stdout",
     "output_type": "stream",
     "text": [
      "[22, 82, 52]\n"
     ]
    }
   ],
   "source": [
    "# 문1.1 코딩 간단하게 했을 경우..멋있으..\n",
    "\n",
    "def even_filter2(lst):\n",
    "    return list(filter(lambda x: x % 2 == 0, lst))\n",
    "\n",
    "print(even_filter2([1, 55, 33, 22, 82, 52]))"
   ]
  },
  {
   "cell_type": "code",
   "execution_count": 70,
   "metadata": {},
   "outputs": [
    {
     "name": "stdout",
     "output_type": "stream",
     "text": [
      "합성수\n",
      "소수\n",
      "소수\n"
     ]
    }
   ],
   "source": [
    "#  문2\n",
    "\n",
    "def even(x) :\n",
    "    count = 0\n",
    "    num_list = range(2,x)\n",
    "    result = '소수'\n",
    "\n",
    "    for i in num_list :\n",
    "        if x % i == 0 :\n",
    "            result = '합성수'\n",
    "            break\n",
    "\n",
    "    return result \n",
    "\n",
    "print(even(25))\n",
    "print(even(13))\n",
    "print(even(241))"
   ]
  },
  {
   "cell_type": "code",
   "execution_count": 123,
   "metadata": {},
   "outputs": [
    {
     "name": "stdout",
     "output_type": "stream",
     "text": [
      "True\n"
     ]
    }
   ],
   "source": [
    "# 문2 심플 도전!!\n",
    "\n",
    "def even2(x) :\n",
    "    num_list2 = range(2, x)\n",
    "    return len(list(filter(lambda z: z % 2 == 0, num_list2))) > 1\n",
    "\n",
    "print(even2(13))\n",
    "\n"
   ]
  },
  {
   "cell_type": "markdown",
   "metadata": {},
   "source": [
    " * 문2. 모범답안"
   ]
  },
  {
   "cell_type": "code",
   "execution_count": 125,
   "metadata": {},
   "outputs": [
    {
     "name": "stdout",
     "output_type": "stream",
     "text": [
      "True\n"
     ]
    }
   ],
   "source": [
    "# 2부터 num-1 까지 반복 나누기 실행\n",
    "# 한번이라도 나눠지면, 소수가 아님 -> return False\n",
    "\n",
    "def prime(num) :\n",
    "    for x in range(2,num) :\n",
    "        if num % 2 == 0:\n",
    "            return False\n",
    "    return True\n",
    "\n",
    "print(prime(11))"
   ]
  },
  {
   "cell_type": "code",
   "execution_count": 142,
   "metadata": {},
   "outputs": [
    {
     "name": "stdout",
     "output_type": "stream",
     "text": [
      "8\n",
      "3\n"
     ]
    }
   ],
   "source": [
    "# 문3 : 주어진 문자열에서 모음의 개수를 찾아라\n",
    "\n",
    "moum = ['a', 'e', 'i', 'o', 'u']\n",
    "\n",
    "def f_moum(x) :\n",
    "    count = 0\n",
    "    for i in x :\n",
    "        if i in moum :    # if와 in 이 조합이 되는 구나!!\n",
    "            count += 1\n",
    "    return count\n",
    "\n",
    "print(f_moum(\"hi nice to meet you\"))\n",
    "\n",
    "print(f_moum(\"what the fuck\"))"
   ]
  },
  {
   "cell_type": "code",
   "execution_count": 138,
   "metadata": {},
   "outputs": [],
   "source": [
    " def count_vowel2(string):\n",
    "    count = 0\n",
    "    for ch in string :\n",
    "        if ch in 'aeiou' :  # 'aeiou' 문자 안에 있냐고 묻는 건데 이게 되네!!\n",
    "            count += 1\n",
    "    return count"
   ]
  },
  {
   "cell_type": "code",
   "execution_count": 139,
   "metadata": {},
   "outputs": [
    {
     "name": "stdout",
     "output_type": "stream",
     "text": [
      "8\n"
     ]
    }
   ],
   "source": [
    "print(count_vowel2(\"chun is best husband in the world\"))"
   ]
  },
  {
   "cell_type": "markdown",
   "metadata": {},
   "source": [
    " * 문3. 모범답안"
   ]
  },
  {
   "cell_type": "code",
   "execution_count": 132,
   "metadata": {},
   "outputs": [],
   "source": [
    " def count_vowel(string):\n",
    "    count = 0\n",
    "    for ch in string :\n",
    "        if ch == 'a' or ch ==  'e' \\   # \\ = 백슬래쉬인데 표현만 다를 뿐\n",
    "        or ch == 'i' or ch == 'o' \\\n",
    "        or ch == 'u':\n",
    "            count += 1\n",
    "    return count"
   ]
  },
  {
   "cell_type": "code",
   "execution_count": 137,
   "metadata": {},
   "outputs": [
    {
     "name": "stdout",
     "output_type": "stream",
     "text": [
      "1\n"
     ]
    }
   ],
   "source": [
    "print(count_vowel(\"Python\"))"
   ]
  }
 ],
 "metadata": {
  "kernelspec": {
   "display_name": "Python 3",
   "language": "python",
   "name": "python3"
  },
  "language_info": {
   "codemirror_mode": {
    "name": "ipython",
    "version": 3
   },
   "file_extension": ".py",
   "mimetype": "text/x-python",
   "name": "python",
   "nbconvert_exporter": "python",
   "pygments_lexer": "ipython3",
   "version": "3.7.3"
  }
 },
 "nbformat": 4,
 "nbformat_minor": 2
}
