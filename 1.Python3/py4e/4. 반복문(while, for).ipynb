{
 "cells": [
  {
   "cell_type": "markdown",
   "metadata": {},
   "source": [
    "## while keyword"
   ]
  },
  {
   "cell_type": "code",
   "execution_count": 1,
   "metadata": {},
   "outputs": [
    {
     "name": "stdout",
     "output_type": "stream",
     "text": [
      "1\n",
      "2\n",
      "3\n",
      "4\n",
      "5\n"
     ]
    }
   ],
   "source": [
    "a = [1, 2, 3, 4, 5]\n",
    "i = 0\n",
    "\n",
    "while i < 5 :\n",
    "    print(a[i])\n",
    "    \n",
    "    i += 1"
   ]
  },
  {
   "cell_type": "code",
   "execution_count": 2,
   "metadata": {},
   "outputs": [
    {
     "name": "stdout",
     "output_type": "stream",
     "text": [
      "1\n",
      "3\n"
     ]
    }
   ],
   "source": [
    "c = 1\n",
    "print(c)\n",
    "c += 2     # 처음 보는 기호인데 변수 c에다가 +2를 하라는 단축 용어인 듯, 유용!!\n",
    "print(c)"
   ]
  },
  {
   "cell_type": "markdown",
   "metadata": {},
   "source": [
    "### break, continue "
   ]
  },
  {
   "cell_type": "code",
   "execution_count": 3,
   "metadata": {},
   "outputs": [
    {
     "name": "stdout",
     "output_type": "stream",
     "text": [
      "1\n",
      "2 break 실행!\n",
      "while 종료\n"
     ]
    }
   ],
   "source": [
    "# break\n",
    "a = [1, 2, 3, 4, 5]\n",
    "i = 0\n",
    "\n",
    "while i < len(a) :\n",
    "    if a[i] % 2 == 0:\n",
    "        print(a[i],'break 실행!')\n",
    "        break          # if문이 참이여야지 break로 들어가서 while이 중지됨\n",
    "\n",
    "    print(a[i])\n",
    "    i += 1\n",
    "    \n",
    "print('while 종료')"
   ]
  },
  {
   "cell_type": "markdown",
   "metadata": {},
   "source": [
    "#### break 위치에 따른 결과 보기"
   ]
  },
  {
   "cell_type": "code",
   "execution_count": 4,
   "metadata": {},
   "outputs": [
    {
     "name": "stdout",
     "output_type": "stream",
     "text": [
      "while 종료\n"
     ]
    }
   ],
   "source": [
    "a = [1, 2, 3, 4, 5]\n",
    "i = 0\n",
    "\n",
    "while i < len(a) :\n",
    "    if a[i] % 2 == 0:\n",
    "        print(a[i],'break 실행!')\n",
    "    break          # break를 if문의 블럭에 두지 않고 한 칸 들여쓰기 하니까 if문이 1번 실행되고 바로 루프가 끝남\n",
    "\n",
    "    print(a[i])\n",
    "    i += 1\n",
    "    \n",
    "print('while 종료')"
   ]
  },
  {
   "cell_type": "markdown",
   "metadata": {},
   "source": [
    "#### continue"
   ]
  },
  {
   "cell_type": "code",
   "execution_count": 5,
   "metadata": {},
   "outputs": [
    {
     "name": "stdout",
     "output_type": "stream",
     "text": [
      "current value 5\n",
      "current value 4\n",
      "current value 2\n",
      "current value 1\n",
      "current value 0\n"
     ]
    }
   ],
   "source": [
    "a= 6\n",
    "while a > 0 :\n",
    "    a -= 1\n",
    "    if a  == 3 :\n",
    "        continue   # a==3 일때만 컨티뉴가 실행되어 아래의 print가 실행되지 않고 skip 됨\n",
    "    \n",
    "    print('current value', a)"
   ]
  },
  {
   "cell_type": "markdown",
   "metadata": {},
   "source": [
    "#### continue 위치에 따른 결과 보기"
   ]
  },
  {
   "cell_type": "code",
   "execution_count": 6,
   "metadata": {},
   "outputs": [
    {
     "name": "stdout",
     "output_type": "stream",
     "text": [
      "current value 12\n",
      "current value 11\n",
      "current value 10\n",
      "current value 9\n",
      "current value 8\n",
      "current value 7\n",
      "current value 6\n",
      "current value 5\n",
      "current value 4\n",
      "1번 째 값 3\n",
      "current value 2\n",
      "current value 1\n",
      "current value 0\n",
      "while 종료\n"
     ]
    }
   ],
   "source": [
    "aa = 13\n",
    "while aa > 0 :\n",
    "    aa -= 1\n",
    "    if aa  == 3 :\n",
    "        print('1번 째 값', aa)\n",
    "        continue   # a==3 일때만 컨티뉴가 실행되어 아래의 print가 실행되지 않고 skip 됨\n",
    "    \n",
    "    print('current value', aa)\n",
    "print('while 종료')"
   ]
  },
  {
   "cell_type": "markdown",
   "metadata": {},
   "source": [
    "## 짝수, 홀수 분리"
   ]
  },
  {
   "cell_type": "code",
   "execution_count": 7,
   "metadata": {},
   "outputs": [
    {
     "name": "stdout",
     "output_type": "stream",
     "text": [
      "[2, 4, 6, 8] 짝수\n",
      "[1, 3, 5, 7] 홀수\n"
     ]
    }
   ],
   "source": [
    "a = [1, 2, 3, 4, 5, 6, 7, 8]\n",
    "ai = 0\n",
    "a1 = []\n",
    "a2 = []\n",
    "\n",
    "\n",
    "while ai < 8 :\n",
    "    if a[ai] % 2 == 0 :\n",
    "        a2.append(a[ai])\n",
    "        #print(a,'짝수')\n",
    "        ai += 1\n",
    "        continue\n",
    "    else :\n",
    "        a1.append(a[ai])\n",
    "        #print(a1,'홀')\n",
    "        ai += 1\n",
    "\n",
    "                \n",
    "print(a2, '짝수')\n",
    "print(a1, '홀수')"
   ]
  },
  {
   "cell_type": "markdown",
   "metadata": {},
   "source": [
    "#### 위의 코드보다 좀 더 심플하게 짠 것\n",
    " * ai += 1 과 continue 를 제거함"
   ]
  },
  {
   "cell_type": "code",
   "execution_count": 8,
   "metadata": {},
   "outputs": [
    {
     "name": "stdout",
     "output_type": "stream",
     "text": [
      "[2, 4, 6, 8] 짝수\n",
      "[1, 3, 5, 7] 홀수\n"
     ]
    }
   ],
   "source": [
    "a = [1, 2, 3, 4, 5, 6, 7, 8]\n",
    "ai = 0\n",
    "a1 = []\n",
    "a2 = []\n",
    "\n",
    "\n",
    "while ai < 8 :\n",
    "    if a[ai] % 2 == 0 :\n",
    "        a2.append(a[ai])\n",
    "        \n",
    "    else :\n",
    "        a1.append(a[ai])\n",
    "        \n",
    "    ai += 1\n",
    "        \n",
    "print(a2, '짝수')\n",
    "print(a1, '홀수')\n",
    "    "
   ]
  },
  {
   "cell_type": "markdown",
   "metadata": {},
   "source": [
    "## for 구문\n",
    " * for문을 이용한 짝수만 더하기"
   ]
  },
  {
   "cell_type": "code",
   "execution_count": 9,
   "metadata": {},
   "outputs": [
    {
     "name": "stdout",
     "output_type": "stream",
     "text": [
      "end 6\n"
     ]
    }
   ],
   "source": [
    "numbers = [1, 2, 3, 4, 5]\n",
    "_sum = 0\n",
    "for odd in numbers :\n",
    "    if odd % 2 == 0 :\n",
    "        _sum += odd\n",
    "        \n",
    "print('end', _sum)"
   ]
  },
  {
   "cell_type": "markdown",
   "metadata": {},
   "source": [
    "### enumerate\n",
    " * 반목문 사용 시, 몇 번째 반복문인지 알고 싶을 때 사용\n",
    " * index와 컬렉션의 원소를 tuple 형태로 반환함"
   ]
  },
  {
   "cell_type": "code",
   "execution_count": 10,
   "metadata": {},
   "outputs": [
    {
     "name": "stdout",
     "output_type": "stream",
     "text": [
      "0 10\n",
      "index : 0, value: 10\n",
      "1 2\n",
      "index : 1, value: 2\n",
      "2 52\n",
      "index : 2, value: 52\n",
      "3 42\n",
      "index : 3, value: 42\n",
      "4 [123, 24]\n",
      "index : 4, value: [123, 24]\n"
     ]
    }
   ],
   "source": [
    "a = [10, 2, 52, 42, [123, 24]]\n",
    "\n",
    "for i, num in enumerate(a):   # i, num 은 쉼표로 이어졌기 때문에 튜플의 형식\n",
    "    print(i, num)\n",
    "    print(\"index : {}, value: {}\".format(i, num))"
   ]
  },
  {
   "cell_type": "markdown",
   "metadata": {},
   "source": [
    "* 구구단 만들기"
   ]
  },
  {
   "cell_type": "code",
   "execution_count": 11,
   "metadata": {},
   "outputs": [
    {
     "name": "stdout",
     "output_type": "stream",
     "text": [
      "2 * 1 = 2\n",
      "2 * 2 = 4\n",
      "2 * 3 = 6\n",
      "2 * 4 = 8\n",
      "2 * 5 = 10\n",
      "2 * 6 = 12\n",
      "2 * 7 = 14\n",
      "2 * 8 = 16\n",
      "2 * 9 = 18\n",
      "------------------------- 2 단 끝 -------------------------\n",
      "3 * 1 = 3\n",
      "3 * 2 = 6\n",
      "3 * 3 = 9\n",
      "3 * 4 = 12\n",
      "3 * 5 = 15\n",
      "3 * 6 = 18\n",
      "3 * 7 = 21\n",
      "3 * 8 = 24\n",
      "3 * 9 = 27\n",
      "------------------------- 3 단 끝 -------------------------\n",
      "4 * 1 = 4\n",
      "4 * 2 = 8\n",
      "4 * 3 = 12\n",
      "4 * 4 = 16\n",
      "4 * 5 = 20\n",
      "4 * 6 = 24\n",
      "4 * 7 = 28\n",
      "4 * 8 = 32\n",
      "4 * 9 = 36\n",
      "------------------------- 4 단 끝 -------------------------\n",
      "5 * 1 = 5\n",
      "5 * 2 = 10\n",
      "5 * 3 = 15\n",
      "5 * 4 = 20\n",
      "5 * 5 = 25\n",
      "5 * 6 = 30\n",
      "5 * 7 = 35\n",
      "5 * 8 = 40\n",
      "5 * 9 = 45\n",
      "------------------------- 5 단 끝 -------------------------\n",
      "6 * 1 = 6\n",
      "6 * 2 = 12\n",
      "6 * 3 = 18\n",
      "6 * 4 = 24\n",
      "6 * 5 = 30\n",
      "6 * 6 = 36\n",
      "6 * 7 = 42\n",
      "6 * 8 = 48\n",
      "6 * 9 = 54\n",
      "------------------------- 6 단 끝 -------------------------\n",
      "7 * 1 = 7\n",
      "7 * 2 = 14\n",
      "7 * 3 = 21\n",
      "7 * 4 = 28\n",
      "7 * 5 = 35\n",
      "7 * 6 = 42\n",
      "7 * 7 = 49\n",
      "7 * 8 = 56\n",
      "7 * 9 = 63\n",
      "------------------------- 7 단 끝 -------------------------\n",
      "8 * 1 = 8\n",
      "8 * 2 = 16\n",
      "8 * 3 = 24\n",
      "8 * 4 = 32\n",
      "8 * 5 = 40\n",
      "8 * 6 = 48\n",
      "8 * 7 = 56\n",
      "8 * 8 = 64\n",
      "8 * 9 = 72\n",
      "------------------------- 8 단 끝 -------------------------\n",
      "9 * 1 = 9\n",
      "9 * 2 = 18\n",
      "9 * 3 = 27\n",
      "9 * 4 = 36\n",
      "9 * 5 = 45\n",
      "9 * 6 = 54\n",
      "9 * 7 = 63\n",
      "9 * 8 = 72\n",
      "9 * 9 = 81\n",
      "------------------------- 9 단 끝 -------------------------\n",
      "$$$$$$$$$$$$$$$$$$$$$$$$$ fin $$$$$$$$$$$$$$$$$$$$$$$$$\n"
     ]
    }
   ],
   "source": [
    "a1 = [2,3,4,5,6,7,8,9]\n",
    "b1 = [1,2,3,4,5,6,7,8,9]\n",
    "zero1 = None\n",
    "zero2 = None\n",
    "\n",
    "for _dan in a1 :\n",
    "    zero1 = _dan\n",
    "    for _dan2 in b1 :\n",
    "        zero2 = _dan2\n",
    "        print(zero1,'*',zero2,'=', _dan * _dan2)\n",
    "    print('-'*25, zero1,'단 끝','-'*25)   \n",
    "\n",
    "print('$'*25, 'fin','$'*25)"
   ]
  },
  {
   "cell_type": "markdown",
   "metadata": {},
   "source": [
    "* **위와 다른 점은 빈 값의 변수(=zero)를 굳이 생성하지 않고 그대로 한 것**\n",
    "<br>그래서 더 심플함"
   ]
  },
  {
   "cell_type": "code",
   "execution_count": 12,
   "metadata": {},
   "outputs": [
    {
     "name": "stdout",
     "output_type": "stream",
     "text": [
      "2 * 1 = 2\n",
      "2 * 2 = 4\n",
      "2 * 3 = 6\n",
      "2 * 4 = 8\n",
      "2 * 5 = 10\n",
      "2 * 6 = 12\n",
      "2 * 7 = 14\n",
      "2 * 8 = 16\n",
      "2 * 9 = 18\n",
      "★★★★★★★★ 2 단 끝\n",
      "3 * 1 = 3\n",
      "3 * 2 = 6\n",
      "3 * 3 = 9\n",
      "3 * 4 = 12\n",
      "3 * 5 = 15\n",
      "3 * 6 = 18\n",
      "3 * 7 = 21\n",
      "3 * 8 = 24\n",
      "3 * 9 = 27\n",
      "★★★★★★★★ 3 단 끝\n",
      "4 * 1 = 4\n",
      "4 * 2 = 8\n",
      "4 * 3 = 12\n",
      "4 * 4 = 16\n",
      "4 * 5 = 20\n",
      "4 * 6 = 24\n",
      "4 * 7 = 28\n",
      "4 * 8 = 32\n",
      "4 * 9 = 36\n",
      "★★★★★★★★ 4 단 끝\n",
      "5 * 1 = 5\n",
      "5 * 2 = 10\n",
      "5 * 3 = 15\n",
      "5 * 4 = 20\n",
      "5 * 5 = 25\n",
      "5 * 6 = 30\n",
      "5 * 7 = 35\n",
      "5 * 8 = 40\n",
      "5 * 9 = 45\n",
      "★★★★★★★★ 5 단 끝\n",
      "6 * 1 = 6\n",
      "6 * 2 = 12\n",
      "6 * 3 = 18\n",
      "6 * 4 = 24\n",
      "6 * 5 = 30\n",
      "6 * 6 = 36\n",
      "6 * 7 = 42\n",
      "6 * 8 = 48\n",
      "6 * 9 = 54\n",
      "★★★★★★★★ 6 단 끝\n",
      "7 * 1 = 7\n",
      "7 * 2 = 14\n",
      "7 * 3 = 21\n",
      "7 * 4 = 28\n",
      "7 * 5 = 35\n",
      "7 * 6 = 42\n",
      "7 * 7 = 49\n",
      "7 * 8 = 56\n",
      "7 * 9 = 63\n",
      "★★★★★★★★ 7 단 끝\n",
      "8 * 1 = 8\n",
      "8 * 2 = 16\n",
      "8 * 3 = 24\n",
      "8 * 4 = 32\n",
      "8 * 5 = 40\n",
      "8 * 6 = 48\n",
      "8 * 7 = 56\n",
      "8 * 8 = 64\n",
      "8 * 9 = 72\n",
      "★★★★★★★★ 8 단 끝\n",
      "9 * 1 = 9\n",
      "9 * 2 = 18\n",
      "9 * 3 = 27\n",
      "9 * 4 = 36\n",
      "9 * 5 = 45\n",
      "9 * 6 = 54\n",
      "9 * 7 = 63\n",
      "9 * 8 = 72\n",
      "9 * 9 = 81\n",
      "★★★★★★★★ 9 단 끝\n",
      "구구단 종료\n"
     ]
    }
   ],
   "source": [
    "for xx in a1 :\n",
    "    for yy in b1 :\n",
    "        print(xx,'*',yy,'=',xx*yy)\n",
    "    print('★'*8, xx,'단 끝')\n",
    "print('구구단 종료')"
   ]
  },
  {
   "cell_type": "markdown",
   "metadata": {},
   "source": [
    "#### range : 정수 리스트를 생성하는 함수\n",
    " * range(a, b) : a는 시작하는 정수, b는 끝 정수에서 바로 앞\n",
    "                 a는 default 가 '0'이므로 굳이 안 써도 됨.\n",
    "                 ex) range(4) 은 0, 1, 2, 3 까지\n",
    " * range(a, b, c) : c는 간격을 의미함. 인덱싱과 동일한 포맷"
   ]
  },
  {
   "cell_type": "code",
   "execution_count": 14,
   "metadata": {},
   "outputs": [
    {
     "name": "stdout",
     "output_type": "stream",
     "text": [
      "[0, 1, 2, 3]\n"
     ]
    }
   ],
   "source": [
    "print(list(range(4)))"
   ]
  },
  {
   "cell_type": "code",
   "execution_count": 26,
   "metadata": {},
   "outputs": [
    {
     "name": "stdout",
     "output_type": "stream",
     "text": [
      "[1, 2, 3, 4, 5, 6, 7, 8, 9, 10, 11, 12, 13, 14, 15, 16, 17, 18, 19, 20, 21, 22, 23, 24, 25, 26, 27, 28, 29, 30, 31, 32, 33, 34, 35, 36, 37, 38, 39, 40, 41, 42, 43, 44, 45, 46, 47, 48, 49, 50, 51, 52, 53, 54, 55, 56, 57, 58, 59, 60, 61, 62, 63, 64, 65, 66, 67, 68, 69, 70, 71, 72, 73, 74, 75, 76, 77, 78, 79, 80, 81, 82, 83, 84, 85, 86, 87, 88, 89, 90, 91, 92, 93, 94, 95, 96, 97, 98, 99] <<<끝\n",
      "[1, 3, 5, 7, 9, 11, 13, 15, 17, 19, 21, 23, 25, 27, 29, 31, 33, 35, 37, 39, 41, 43, 45, 47, 49, 51, 53, 55, 57, 59, 61, 63, 65, 67, 69, 71, 73, 75, 77, 79, 81, 83, 85, 87, 89, 91, 93, 95, 97, 99] <<<끝2\n",
      "[1, 3, 5, 7, 9, 11, 13, 15, 17, 19, 21, 23, 25, 27, 29, 31, 33, 35, 37, 39, 41, 43, 45, 47, 49, 51, 53, 55, 57, 59, 61, 63, 65, 67, 69, 71, 73, 75, 77, 79, 81, 83, 85, 87, 89, 91, 93, 95, 97, 99] <<<끝3\n"
     ]
    }
   ],
   "source": [
    "a_list = list(range(1,100))\n",
    "print(a_list,'<<<끝')\n",
    "print(a_list[0::2],'<<<끝2')      # 이 코드와 아래 코드는 동일함\n",
    "print(list(range(1,100,2)),'<<<끝3')"
   ]
  },
  {
   "cell_type": "code",
   "execution_count": 16,
   "metadata": {},
   "outputs": [
    {
     "name": "stdout",
     "output_type": "stream",
     "text": [
      "[5, 10, 15, 20, 25, 30, 35, 40, 45, 50, 55, 60, 65, 70, 75, 80, 85, 90, 95, 100]\n"
     ]
    }
   ],
   "source": [
    "print(list(range(5,101,5)))"
   ]
  },
  {
   "cell_type": "markdown",
   "metadata": {},
   "source": [
    "### 연습문제\n",
    "1. 6277이 소수(나머지가 1과 자기자신만 있는 수)인지 아닌지 판단하시오\n",
    "2. 주어진 리스트의 평균을 구하시오\n",
    "3. 주어진 리스트에서 최대값, 최소값을 찾으시오(sort 사용하지 말고 작성)"
   ]
  },
  {
   "cell_type": "code",
   "execution_count": 17,
   "metadata": {},
   "outputs": [
    {
     "name": "stdout",
     "output_type": "stream",
     "text": [
      "2 나눠 떨어진 횟수 || 79 is 소수\n",
      "판단 끝\n"
     ]
    }
   ],
   "source": [
    "# 연습문제1 내가 직접 푼 것\n",
    "seven = 79\n",
    "j_list = range(1, seven+1)\n",
    "count = 0\n",
    "for sosu in j_list :\n",
    "    if seven % sosu == 0  :\n",
    "        count = count + 1\n",
    "                \n",
    "if count > 2 :\n",
    "    print(count, '나눠 떨어진 횟수 ||',seven,'is not 소수')\n",
    "    \n",
    "else :\n",
    "    print(count, '나눠 떨어진 횟수 ||', seven,'is 소수') \n",
    "\n",
    "print('판단 끝')\n",
    "        "
   ]
  },
  {
   "cell_type": "markdown",
   "metadata": {},
   "source": [
    "* [연습문제1]아래가 좋은 예시...개고생해서 위에 것 만들었는데 ㅠㅠ"
   ]
  },
  {
   "cell_type": "code",
   "execution_count": 18,
   "metadata": {},
   "outputs": [
    {
     "name": "stdout",
     "output_type": "stream",
     "text": [
      "소수임\n"
     ]
    }
   ],
   "source": [
    "i_6277 = 389\n",
    "k_list = range(2, i_6277)\n",
    "result1 = ''\n",
    "\n",
    "for sosuu in k_list :\n",
    "    if i_6277 % sosuu == 0 :\n",
    "        result1 =\"소수 아님\"\n",
    "        break\n",
    "    else :\n",
    "        result1 ='소수임'\n",
    "        \n",
    "print(result1)\n",
    "    "
   ]
  },
  {
   "cell_type": "markdown",
   "metadata": {},
   "source": [
    "* [연습2]리스트 내에서 합계 및 평균 구하기"
   ]
  },
  {
   "cell_type": "code",
   "execution_count": 19,
   "metadata": {},
   "outputs": [],
   "source": [
    "# 리스트 생성\n",
    "a = [6, 44, 2, 3, 1]"
   ]
  },
  {
   "cell_type": "code",
   "execution_count": 46,
   "metadata": {},
   "outputs": [
    {
     "name": "stdout",
     "output_type": "stream",
     "text": [
      "합계: 56.0 || 평균: 11.2\n",
      "56.0\n",
      "11.2\n"
     ]
    }
   ],
   "source": [
    "sum99 = 0.0\n",
    "for u in a :\n",
    "    sum99 = sum99 + u\n",
    "ave = len(list(a))\n",
    "print('합계:',sum99,'|| 평균:',sum99/ave)\n",
    "# sum 함수 사용하면 아래와 같음\n",
    "print(float(sum(a)))\n",
    "print(sum(a)/ave)"
   ]
  },
  {
   "cell_type": "markdown",
   "metadata": {},
   "source": [
    "* [연습3]리스트 내 원소에서 최대, 최소 구하기\n",
    " - 위의 a 리스트 사용"
   ]
  },
  {
   "cell_type": "code",
   "execution_count": 21,
   "metadata": {},
   "outputs": [
    {
     "name": "stdout",
     "output_type": "stream",
     "text": [
      "44 1\n"
     ]
    }
   ],
   "source": [
    "kk , ww = a[1], a[1]  # a[1] 을 하는 이유는 a[0]인 '6' 부터 돌리게 되면 아래 if 함수가 작동을 안 함\n",
    "\n",
    "for maxx in a :\n",
    "    if maxx > kk :\n",
    "        kk = maxx\n",
    "    elif maxx < ww :\n",
    "        ww = maxx\n",
    "        \n",
    "print(kk,ww)"
   ]
  }
 ],
 "metadata": {
  "kernelspec": {
   "display_name": "Python 3",
   "language": "python",
   "name": "python3"
  },
  "language_info": {
   "codemirror_mode": {
    "name": "ipython",
    "version": 3
   },
   "file_extension": ".py",
   "mimetype": "text/x-python",
   "name": "python",
   "nbconvert_exporter": "python",
   "pygments_lexer": "ipython3",
   "version": "3.7.3"
  }
 },
 "nbformat": 4,
 "nbformat_minor": 2
}
