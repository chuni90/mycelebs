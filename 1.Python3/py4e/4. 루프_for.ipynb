{
 "cells": [
  {
   "cell_type": "markdown",
   "metadata": {},
   "source": [
    "## for 구문\n",
    " * 유한 루프의 일종\n",
    " * 데이터 집합 내 원소들을 반복적으로 수행하는 함수\n",
    " * 숫자 및 문자 모두 가능함"
   ]
  },
  {
   "cell_type": "code",
   "execution_count": 28,
   "metadata": {},
   "outputs": [
    {
     "name": "stdout",
     "output_type": "stream",
     "text": [
      "99\n",
      "213\n",
      "24\n",
      "52\n"
     ]
    }
   ],
   "source": [
    "for fool in [99, 213, 24, 52] :    #fool 이라는 변수 안에 in 뒤의 [] data 집합(시퀀스)가 있다는 명령\n",
    "    print(fool)"
   ]
  },
  {
   "cell_type": "code",
   "execution_count": 6,
   "metadata": {},
   "outputs": [
    {
     "name": "stdout",
     "output_type": "stream",
     "text": [
      "oh\n",
      "my\n",
      "god\n",
      "['oh', 'my', 'god']\n"
     ]
    }
   ],
   "source": [
    "a = ['oh', 'my', 'god']\n",
    "for i in a :\n",
    "    print(i)    # a에 있는 시퀀스를 하나씩 출력해줌\n",
    "    \n",
    "print(a)"
   ]
  },
  {
   "cell_type": "markdown",
   "metadata": {},
   "source": [
    "**↓아래 코드는 임의로 제작**\n",
    " * 순차적으로 진행되는 for 루프에서 특정 조건엔 다르게 실행되도록 코딩함"
   ]
  },
  {
   "cell_type": "code",
   "execution_count": 18,
   "metadata": {},
   "outputs": [
    {
     "name": "stdout",
     "output_type": "stream",
     "text": [
      "Do you want to fire?ㅁㄴㅇ\n",
      "Okay.. Bye. Kidding we just go!! :ㅇ\n",
      "5\n",
      "4\n",
      "3 (It lefts 2 sec!)\n",
      "2 (It lefts 1 sec!)\n",
      "1\n",
      "Fire!!\n"
     ]
    }
   ],
   "source": [
    "code = input('Do you want to fire?')\n",
    "\n",
    "print('Ok, Lets do this') if code == 'yes' else print('Okay.. Bye. Kidding we just go!! :ㅇ')\n",
    "    \n",
    "\n",
    "for i in  [5, 4, 3, 2, 1] :  \n",
    "    if i > 3 :\n",
    "        print(i)\n",
    "               \n",
    "    elif i <= 3 and i > 1:\n",
    "        left_t =  i - 1 \n",
    "        print(i,'(It lefts',left_t,'sec!)')\n",
    "    \n",
    "    elif i ==  1 : \n",
    "        print(i)\n",
    "print('Fire!!')\n"
   ]
  },
  {
   "cell_type": "markdown",
   "metadata": {},
   "source": [
    "## for 예제2"
   ]
  },
  {
   "cell_type": "markdown",
   "metadata": {},
   "source": [
    " - for문을 이용해서 리스트 내 최대값 찾기"
   ]
  },
  {
   "cell_type": "code",
   "execution_count": 33,
   "metadata": {},
   "outputs": [
    {
     "name": "stdout",
     "output_type": "stream",
     "text": [
      "12\n",
      "9999\n",
      "final number is 9999\n"
     ]
    }
   ],
   "source": [
    "large = -1\n",
    "for num in [12, 9999,124, 125, 55, 57, 27, 95, 1285, 56] :\n",
    "    if num > large :\n",
    "        large = num\n",
    "        print(large)\n",
    "print('final number is',large)"
   ]
  },
  {
   "cell_type": "code",
   "execution_count": 39,
   "metadata": {},
   "outputs": [
    {
     "name": "stdout",
     "output_type": "stream",
     "text": [
      "1  1\n",
      "2  4\n",
      "3  6\n",
      "4  124\n",
      "5  42\n",
      "finish\n"
     ]
    }
   ],
   "source": [
    "turn = 0                           #for구문을 이용해서 루프가 실행된 횟수를 확인\n",
    "for C in [1, 4, 6, 124, 42] :\n",
    "    turn = turn + 1\n",
    "    print(turn,'', C)\n",
    "    \n",
    "print('finish')"
   ]
  },
  {
   "cell_type": "code",
   "execution_count": 42,
   "metadata": {},
   "outputs": [
    {
     "name": "stdout",
     "output_type": "stream",
     "text": [
      "1\n",
      "56\n",
      "98\n",
      "121\n",
      "finish\n"
     ]
    }
   ],
   "source": [
    "num_ = 0                           #데이터 시퀀스를 모두 합하는 과정\n",
    "for sumsum in [1, 55, 42, 23] :\n",
    "    num_ = num_ + sumsum\n",
    "    print(num_)\n",
    "    \n",
    "print('finish')"
   ]
  },
  {
   "cell_type": "code",
   "execution_count": 19,
   "metadata": {},
   "outputs": [
    {
     "name": "stdout",
     "output_type": "stream",
     "text": [
      "43.6\n"
     ]
    }
   ],
   "source": [
    "num1 = 0                        # 평균 구하는 과정\n",
    "num2 = 0\n",
    "for ave_num in [20, 30, 40, 66, 62] :\n",
    "    num1 += 1\n",
    "    num2 = num2 + ave_num\n",
    "\n",
    "print(num2 / num1)"
   ]
  },
  {
   "cell_type": "code",
   "execution_count": 26,
   "metadata": {},
   "outputs": [
    {
     "name": "stdout",
     "output_type": "stream",
     "text": [
      "finish [52, 52, 214]\n"
     ]
    }
   ],
   "source": [
    "big_list = list()\n",
    "\n",
    "for big_num in [2, 5, 214, 52, 52] :     #루프를 통해 10보다 큰 수를 필터링하여 새로운 리스트에 삽입\n",
    "    if big_num > 10 :\n",
    "        big_list.append(big_num)\n",
    "        big_list.sort()\n",
    "        \n",
    "print('finish', big_list)"
   ]
  },
  {
   "cell_type": "code",
   "execution_count": 63,
   "metadata": {},
   "outputs": [
    {
     "name": "stdout",
     "output_type": "stream",
     "text": [
      "True 42\n",
      "finished\n"
     ]
    }
   ],
   "source": [
    "found = False                    #boolean 변수를 통해 값 찾아내기\n",
    "    \n",
    "for figureout in [2, 51, 42, 57, 89] :\n",
    "    \n",
    "    if figureout == 42 :\n",
    "        found = True\n",
    "        print(found,figureout)\n",
    "        \n",
    "    continue\n",
    "        \n",
    "        \n",
    "        \n",
    "print('finished')"
   ]
  },
  {
   "cell_type": "code",
   "execution_count": 69,
   "metadata": {},
   "outputs": [
    {
     "name": "stdout",
     "output_type": "stream",
     "text": [
      "-23\n"
     ]
    }
   ],
   "source": [
    "zero = 0\n",
    "for mini in [49, 24, 55, 6, 0, -23] :\n",
    "    zero = mini + zero\n",
    "    if zero > mini :\n",
    "        zero = mini\n",
    "print(zero)"
   ]
  },
  {
   "cell_type": "code",
   "execution_count": 30,
   "metadata": {},
   "outputs": [
    {
     "name": "stdout",
     "output_type": "stream",
     "text": [
      "-55\n"
     ]
    }
   ],
   "source": [
    "smallest = None           # None 은 '상수'타입의 자료형임. 빈 숫자 라고 생각\n",
    "\n",
    "for value in [23, -55, 512, -34, 552, 4, -1] :\n",
    "    if smallest is None :            # is는 == 보다 더 엄밀하게 동일한 지를 체크\n",
    "        smallest = value\n",
    "    \n",
    "    elif smallest > value :\n",
    "        smallest = value\n",
    "        break  # break 를 여기다가 넣으면 첫번째로 작은 값이 나옴. 없애면 전체 시퀀스에서 가장 작은 값이 결과로 프린트\n",
    "        \n",
    "print(smallest)"
   ]
  },
  {
   "cell_type": "code",
   "execution_count": 31,
   "metadata": {},
   "outputs": [
    {
     "name": "stdout",
     "output_type": "stream",
     "text": [
      "1 True\n",
      "2 False\n",
      "2-2 False\n",
      "3 True\n",
      "4 True\n",
      "5 True\n",
      "6 True\n",
      "7 True\n",
      "8 True\n",
      "False\n",
      "False\n",
      "False\n"
     ]
    },
    {
     "ename": "TypeError",
     "evalue": "unsupported operand type(s) for +: 'NoneType' and 'int'",
     "output_type": "error",
     "traceback": [
      "\u001b[1;31m---------------------------------------------------------------------------\u001b[0m",
      "\u001b[1;31mTypeError\u001b[0m                                 Traceback (most recent call last)",
      "\u001b[1;32m<ipython-input-31-1a58874e9350>\u001b[0m in \u001b[0;36m<module>\u001b[1;34m\u001b[0m\n\u001b[0;32m     25\u001b[0m \u001b[0mprint\u001b[0m\u001b[1;33m(\u001b[0m\u001b[0mN\u001b[0m \u001b[1;33m==\u001b[0m \u001b[0mN1\u001b[0m\u001b[1;33m)\u001b[0m\u001b[1;33m\u001b[0m\u001b[1;33m\u001b[0m\u001b[0m\n\u001b[0;32m     26\u001b[0m \u001b[1;33m\u001b[0m\u001b[0m\n\u001b[1;32m---> 27\u001b[1;33m \u001b[0mprint\u001b[0m\u001b[1;33m(\u001b[0m\u001b[0mN\u001b[0m \u001b[1;33m+\u001b[0m \u001b[1;36m1\u001b[0m\u001b[1;33m)\u001b[0m            \u001b[1;31m# None 타입은 숫자 및 문자 어느 것과도 연산되지 않음\u001b[0m\u001b[1;33m\u001b[0m\u001b[1;33m\u001b[0m\u001b[0m\n\u001b[0m\u001b[0;32m     28\u001b[0m \u001b[0mprint\u001b[0m\u001b[1;33m(\u001b[0m\u001b[0mN\u001b[0m \u001b[1;33m+\u001b[0m \u001b[1;34m'asd'\u001b[0m\u001b[1;33m)\u001b[0m\u001b[1;33m\u001b[0m\u001b[1;33m\u001b[0m\u001b[0m\n",
      "\u001b[1;31mTypeError\u001b[0m: unsupported operand type(s) for +: 'NoneType' and 'int'"
     ]
    }
   ],
   "source": [
    "Q = 0\n",
    "W = 0.0\n",
    "E = 'a'\n",
    "R = 'a'\n",
    "N = None\n",
    "N1 = 'None'\n",
    "T = True\n",
    "F = False\n",
    "\n",
    "print('1', Q == W)\n",
    "print('2', Q is W)    # 결과는 False , is 거의 모든 것을 동일하게 보지 않음\n",
    "print('2-2', W is 0.0) # 결과는 False, is는 자료타입과 숫자도 같은데도 다르다고 함..\n",
    "print('3',E == R)  \n",
    "print('4',E is R)    # 그래서 is는 None / True / False 에서만 사용하는 것을 추천!!\n",
    "print('5',T is True)\n",
    "print('6',T == True)\n",
    "\n",
    "print('7', T is not False)   # is not 은 is의 반대 의미\n",
    "print('8', W is not 0.0)  # 2-2의 반대\n",
    "\n",
    "\n",
    "print(Q == N)\n",
    "print(N == N1)\n",
    "N2 = str(N1)\n",
    "print(N == N1)\n",
    "\n",
    "print(N + 1)            # None 타입은 숫자 및 문자 어느 것과도 연산되지 않음\n",
    "print(N + 'asd')\n"
   ]
  }
 ],
 "metadata": {
  "kernelspec": {
   "display_name": "Python 3",
   "language": "python",
   "name": "python3"
  },
  "language_info": {
   "codemirror_mode": {
    "name": "ipython",
    "version": 3
   },
   "file_extension": ".py",
   "mimetype": "text/x-python",
   "name": "python",
   "nbconvert_exporter": "python",
   "pygments_lexer": "ipython3",
   "version": "3.7.3"
  }
 },
 "nbformat": 4,
 "nbformat_minor": 2
}
