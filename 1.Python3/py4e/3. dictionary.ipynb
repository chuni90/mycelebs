{
 "cells": [
  {
   "cell_type": "markdown",
   "metadata": {},
   "source": [
    "## ★딕셔너리"
   ]
  },
  {
   "cell_type": "markdown",
   "metadata": {},
   "source": [
    " - list( ) : 순서를 유지하는 선형의 컬렉션\n",
    "\n",
    " 리스트(List)\n",
    "\n",
    "  데이터를 추가하면 항상 리스트의 끝에 추가되고 0부터 n-1번 위치까지 순서대로 n개의   원소가 저장되어있습니다.\n",
    "  \n",
    "  \n",
    " - dict{ } : 고유의 라벨을 갖는 컬렉션, 순서가 없음 {중괄호 사용}\n",
    "  \n",
    "  list와 다르게 dict은 배열, 인덱스가 아니라 Key와 vaule로 구성되어 정확하게 사용 가능함"
   ]
  },
  {
   "cell_type": "markdown",
   "metadata": {},
   "source": [
    " * 파이썬에서 가장 강력한 데이터 컬렉션\n",
    " * 데이터베이스에서 불러와 작업을 하는 것과 같은 기능 (안정적, 영속성)\n",
    " * 생성방법은 a = { } 또는 a = dict( )"
   ]
  },
  {
   "cell_type": "code",
   "execution_count": null,
   "metadata": {
    "scrolled": true
   },
   "outputs": [],
   "source": [
    "#  딕셔너리 생성\n",
    "\n",
    "a_dict = {}\n",
    "print(a_dict)\n",
    "b_di= dict()\n",
    "print(b_di)\n",
    "\n",
    "b_di['a' : 1]\n",
    "print(b_di)"
   ]
  },
  {
   "cell_type": "code",
   "execution_count": null,
   "metadata": {},
   "outputs": [],
   "source": [
    "purse = {}\n",
    "purse['money'] = 12\n",
    "purse['is'] = 2\n",
    "purse['not the most'] = 1\n",
    "\n",
    "print(purse)\n",
    "\n",
    "# value 변경, 'is'를 2에서 100으로 변경\n",
    "\n",
    "purse['is'] = 100\n",
    "print(purse)\n",
    "\n",
    "# value 변경, 'money'에 1000을 더함\n",
    "\n",
    "purse['money'] = purse['money'] + 1000\n",
    "print(purse)\n",
    "\n",
    "print(purse['money'])"
   ]
  },
  {
   "cell_type": "markdown",
   "metadata": {},
   "source": [
    "#### 딕셔너리를 이용한 카운팅"
   ]
  },
  {
   "cell_type": "code",
   "execution_count": 1,
   "metadata": {},
   "outputs": [
    {
     "name": "stdout",
     "output_type": "stream",
     "text": [
      "{'A': 1, 'B': 2}\n",
      "{'A': 2, 'B': 2}\n"
     ]
    }
   ],
   "source": [
    "ccc = dict()\n",
    "ccc['A'] = 1\n",
    "ccc['B'] = 2\n",
    "print(ccc)\n",
    "\n",
    "ccc['A'] = ccc['A'] + 1 \n",
    "print(ccc)"
   ]
  },
  {
   "cell_type": "markdown",
   "metadata": {},
   "source": [
    "#### 딕셔너리의 Trackback 에러\n",
    " * key 값이 없는데 호출하면 발생\n",
    " * 그래서 딕셔너리 안에 key가 있는 지를 **'in / not in'**를 통해 확인"
   ]
  },
  {
   "cell_type": "code",
   "execution_count": null,
   "metadata": {},
   "outputs": [],
   "source": [
    "'A' in ccc"
   ]
  },
  {
   "cell_type": "code",
   "execution_count": null,
   "metadata": {},
   "outputs": [],
   "source": [
    "'DDD' not in ccc"
   ]
  },
  {
   "cell_type": "markdown",
   "metadata": {},
   "source": [
    "#### 1) 카운팅을 하는데 새로운 대상이 나타났을 때"
   ]
  },
  {
   "cell_type": "code",
   "execution_count": null,
   "metadata": {},
   "outputs": [],
   "source": [
    "names = ['AA', 'BB', 'CC', 'VB', 'AA']\n",
    "counts = dict()\n",
    "\n",
    "for name in names :\n",
    "    if name in counts :     # 이미 counts 딕셔너리 안에 해당 key가 있으면 1을 추가하고 아니라면 1을 넣어라 \n",
    "        counts[name] += 1\n",
    "    else :\n",
    "        counts[name] = 1\n",
    "        \n",
    "print(counts)    "
   ]
  },
  {
   "cell_type": "markdown",
   "metadata": {},
   "source": [
    "#### 2) get 메소드를 사용하면\n",
    " * dict명.get('찾는 key', 기본값) \n",
    " \n",
    "  → 위의 구성이 기본 양식, 의미는 '딕셔너리 안에서 찾는 key값에 대한 vaule를 반환해주고, 찾는 key가 없다면 기본값으로 반환해라' 라는 의미\n",
    "  \n",
    "  \n",
    " * 기본값에는 int, float, str 가능한 듯\n",
    " * 에러를 발생 안 시켜서 좋음"
   ]
  },
  {
   "cell_type": "code",
   "execution_count": null,
   "metadata": {},
   "outputs": [],
   "source": [
    "# get 메소드의 장점은 key 값이 없어도 에러를 발생하지 않고, 없을 때 기본값을\n",
    "# 부여할 수 있음\n",
    "\n",
    "print(counts.get('AB', 'a'))  # 'AB' 라는 Key값은 없음\n",
    "print(counts)"
   ]
  },
  {
   "cell_type": "code",
   "execution_count": 14,
   "metadata": {},
   "outputs": [
    {
     "name": "stdout",
     "output_type": "stream",
     "text": [
      "{'AA': 12, 'BBD': 11, 'CC': 12, 'VB': 11}\n"
     ]
    }
   ],
   "source": [
    "names1 = ['AA', 'BBD', 'CC', 'VB', 'AA','CC']\n",
    "counts1 = dict()\n",
    "\n",
    "for name in names1 :\n",
    "    counts1[name] = counts1.get(name, 10) + 1\n",
    "    \n",
    "print(counts1)"
   ]
  },
  {
   "cell_type": "markdown",
   "metadata": {},
   "source": [
    "#### 딕셔너리 안의 키와 값을 표현하는 다양한 방법\n",
    " 1) list\n",
    " \n",
    " 2) values() 메소드\n",
    " \n",
    " 3) items() 메소드\n",
    "   \n",
    "   - Key, value 모두를 받을 수 있는 메소드, 튜플 형태로 반환됨"
   ]
  },
  {
   "cell_type": "code",
   "execution_count": 15,
   "metadata": {},
   "outputs": [
    {
     "name": "stdout",
     "output_type": "stream",
     "text": [
      "['AA', 'BBD', 'CC', 'VB']\n",
      "dict_values([12, 11, 12, 11])\n",
      "dict_items([('AA', 12), ('BBD', 11), ('CC', 12), ('VB', 11)])\n",
      "items 사용>>  AA 12\n",
      "items 사용>>  BBD 11\n",
      "items 사용>>  CC 12\n",
      "items 사용>>  VB 11\n",
      "enumerate 사용>>  0 AA\n",
      "enumerate 사용>>  1 BBD\n",
      "enumerate 사용>>  2 CC\n",
      "enumerate 사용>>  3 VB\n"
     ]
    }
   ],
   "source": [
    "print(list(counts1)) # 리스트 형태로 key 반환\n",
    "\n",
    "print(counts1.values()) # value 반환\n",
    "\n",
    "print(counts1.items())  # key, value 형태로 반환하는 메소드 itmes()\n",
    "\n",
    "for a, b in counts1.items() :  # 딕셔너리 내의 모든 key, value를 보는 방법\n",
    "    print('items 사용>> ',a, b)\n",
    "    \n",
    "for a, b in enumerate(counts1) :  # 반복문 사용 시, 실행되는 횟수를 볼 때 사용 0부터 시작\n",
    "    print('enumerate 사용>> ', a, b)    "
   ]
  },
  {
   "cell_type": "code",
   "execution_count": null,
   "metadata": {},
   "outputs": [],
   "source": [
    "dicc = {}\n",
    "dicc['천'] = 1000\n",
    "print(dicc)\n",
    "\n",
    "dicc['장'] = dicc.get('장', 1004)\n",
    "print(dicc)"
   ]
  },
  {
   "cell_type": "code",
   "execution_count": 4,
   "metadata": {},
   "outputs": [
    {
     "name": "stdout",
     "output_type": "stream",
     "text": [
      "C:\\Users\\1000\\desktop\\jupyter\n"
     ]
    }
   ],
   "source": [
    "cd desktop/jupyter"
   ]
  },
  {
   "cell_type": "code",
   "execution_count": null,
   "metadata": {},
   "outputs": [],
   "source": [
    "\n",
    "fn = input('파일명을 입력하시오 >> ')\n",
    "fh = open(fn)\n",
    "cou = {}\n",
    "\n",
    "for line in fh :\n",
    "    line = line.rstrip()\n",
    "    sline = line.split()\n",
    "        \n",
    "    for word in sline :\n",
    "        cou[word] = cou.get(word, 0) + 1\n",
    "\n",
    "print(cou)\n",
    "\n",
    "bigword = None\n",
    "bigcount = None\n",
    "\n",
    "for word, count in cou.items() :\n",
    "    if bigcount is None or count > bigcount :\n",
    "        bigword = word\n",
    "        bigcount = count\n",
    "\n",
    "print(bigword, bigcount)\n",
    "\n",
    "# 근데 가장 큰 단어와 개수를 보여주는 단점이 있음\n",
    "# 이를 아래에서 보완해보겠음\n"
   ]
  },
  {
   "cell_type": "markdown",
   "metadata": {},
   "source": [
    " * 보완해봤는데, 아래 코드의 문제점은 첫 번째에 최대값이 있으면 나타나지 않음"
   ]
  },
  {
   "cell_type": "code",
   "execution_count": 83,
   "metadata": {},
   "outputs": [
    {
     "name": "stdout",
     "output_type": "stream",
     "text": [
      "파일명을 입력하시오 >> clown.txt\n",
      "finished >>  {'chun': 7, 'chu': 7}\n"
     ]
    }
   ],
   "source": [
    "fn = input('파일명을 입력하시오 >> ')\n",
    "fh = open(fn)\n",
    "cou = {}\n",
    "\n",
    "for line in fh :\n",
    "    line = line.rstrip()\n",
    "    sline = line.split()\n",
    "        \n",
    "    for word in sline :\n",
    "        cou[word] = cou.get(word, 0) + 1\n",
    "\n",
    "# print(cou)\n",
    "\n",
    "r_cou = {}\n",
    "bigword = None\n",
    "bigcount = 0\n",
    "\n",
    "for word, count in cou.items() :\n",
    "    if bigcount == 0 :\n",
    "        bigword = word\n",
    "        bigcount = count\n",
    "        # print(bigword, bigcount)\n",
    "    elif count > 1 and count >= bigcount :\n",
    "        bigcount = count\n",
    "        r_cou[word] = count\n",
    "        # print(r_cou)\n",
    "    \n",
    "## 여기의 문제점은 첫 번째의 key, value가 최대값이면 안 나옴        \n",
    "\n",
    "print('finished >> ', r_cou)"
   ]
  },
  {
   "cell_type": "markdown",
   "metadata": {},
   "source": [
    "## 실습\n",
    " * 위의 코드에서 첫 번째 최대값이 나타나지 않는 걸, for구문을 더 사용해서 만들어봄"
   ]
  },
  {
   "cell_type": "code",
   "execution_count": 5,
   "metadata": {},
   "outputs": [
    {
     "name": "stdout",
     "output_type": "stream",
     "text": [
      "C:\\Users\\1000\\desktop\\jupyter\n"
     ]
    }
   ],
   "source": [
    "cd desktop/jupyter"
   ]
  },
  {
   "cell_type": "code",
   "execution_count": 103,
   "metadata": {},
   "outputs": [
    {
     "name": "stdout",
     "output_type": "stream",
     "text": [
      "Enter File : mbox-short.txt\n",
      "Done>>   {'Jan': 352}\n"
     ]
    }
   ],
   "source": [
    "fname = input('Enter File : ')\n",
    "if len(fname) < 1 : fname = 'clown.txt'\n",
    "    \n",
    "hand  = open(fname)\n",
    "\n",
    "di = {}\n",
    "for lin in hand :\n",
    "    lin = lin.rstrip()\n",
    "    wds = lin.split()\n",
    "    for w in wds :\n",
    "        di[w] = di.get(w, 0) + 1 \n",
    "        #print(w, di[w])\n",
    "                \n",
    "# 이제 최대값을 for 구문으로 찾을 겁니다\n",
    "theword = None\n",
    "large = -1\n",
    "re = {}\n",
    "  \n",
    "for key, value in di.items() :\n",
    "        if value > large :\n",
    "            large = value\n",
    "            #print(value)     \n",
    "            \n",
    "# ----------위에서 최대값을 찾은 후 다시 한 번 반복------------                \n",
    "for key, value in di.items() :            \n",
    "        if value >= large :\n",
    "            theword = key\n",
    "            large = value\n",
    "            re[theword] = value\n",
    "\n",
    "print('Done>>  ',re)\n",
    "\n",
    "# 현재 *마지막 최대값 1개는 가져올 수 있으나, 마찬가지로 같은 최대값들은 못가져옴\n",
    "# 앞선 최대값과 동일할 경우에도 추가하는 로직 필요\n"
   ]
  },
  {
   "cell_type": "markdown",
   "metadata": {},
   "source": [
    " * 위에 코드와 다른 점은 dict 내의 최대 value를 리스트로 반환하고 내림차순 정렬하여 최대값을 찾는 것, 위에 코드보다는 좀 더 심플해짐\n",
    " * for문을 사용하지 않기 때문에 데이터가 클 때 빨리 실행되지 않을까?"
   ]
  },
  {
   "cell_type": "code",
   "execution_count": 108,
   "metadata": {},
   "outputs": [
    {
     "name": "stdout",
     "output_type": "stream",
     "text": [
      "Enter File : \n",
      "Done>>   {'the': 7, 'chun': 7, 'chu': 7}\n"
     ]
    }
   ],
   "source": [
    "fname = input('Enter File : ')\n",
    "if len(fname) < 1 : fname = 'clown.txt'\n",
    "    \n",
    "hand  = open(fname)\n",
    "\n",
    "di = {}\n",
    "for lin in hand :#### [Exercise]\n",
    "\n",
    "텍스트 파일 내에서 'From' 이후에 등장하는 메일 계정 중, 가장 많이 등장한 메일 계정을 찾아내는 코드\n",
    "    lin = lin.rstrip()\n",
    "    wds = lin.split()\n",
    "    for w in wds :\n",
    "        di[w] = di.get(w, 0) + 1 \n",
    "        #print(w, di[w])\n",
    "                \n",
    "# 이제 최대값을 딕셔너리 내의 value들을 리스트로 반환한 후, 내림차순 정렬해서 찾을 겁니다\n",
    "aa_l = list(di.values())\n",
    "aa_l.sort(reverse=True)\n",
    "\n",
    "theword = None\n",
    "# large = -1    <---없어도 됨\n",
    "re = {}  #### [Exercise]\n",
    "\n",
    "텍스트 파일 내에서 'From' 이후에 등장하는 메일 계정 중, 가장 많이 등장한 메일 계정을 찾아내는 코드\n",
    "\n",
    "# ----------위에서 최대값을 찾은 후 다시 한 번 반복------------                \n",
    "for key, value in di.items() :            \n",
    "        if value >= aa_l[0] :\n",
    "            theword = key\n",
    "            #large = aa_l[0]  <--없어도 됨\n",
    "            re[theword] = aa_l[0]\n",
    "\n",
    "print('Done>>  ',re)\n",
    "\n",
    "# 현재 *마지막 최대값 1개는 가져올 수 있으나, 마찬가지로 같은 최대값들은 못가져옴\n",
    "# 앞선 최대값과 동일할 경우에도 추가하는 로직 필요\n"
   ]
  },
  {
   "cell_type": "markdown",
   "metadata": {},
   "source": [
    "#### [Exercise]\n",
    "\n",
    "텍스트 파일 내에서 'From' 이후에 등장하는 메일 계정 중, 가장 많이 등장한 메일 계정을 찾아내는 코드"
   ]
  },
  {
   "cell_type": "code",
   "execution_count": 109,
   "metadata": {},
   "outputs": [
    {
     "name": "stdout",
     "output_type": "stream",
     "text": [
      "Enter file:\n",
      "등장한 메일계정들 >>  {'stephen.marquard@uct.ac.za': 4, 'louis@media.berkeley.edu': 6, 'zqian@umich.edu': 8, 'rjlowe@iupui.edu': 4, 'cwen@iupui.edu': 10, 'gsilver@umich.edu': 6, 'wagnermr@iupui.edu': 2, 'antranig@caret.cam.ac.uk': 2, 'gopal.ramasammycook@gmail.com': 2, 'david.horwitz@uct.ac.za': 8, 'ray@media.berkeley.edu': 2} --------------------\n",
      "가장 많이 등장한 메일계정 >>  cwen@iupui.edu // 횟수:  10\n"
     ]
    }
   ],
   "source": [
    "name = input(\"Enter file:\")\n",
    "if len(name) < 1 : name = \"mbox-short.txt\"\n",
    "hd = open(name)\n",
    "\n",
    "lst = []\n",
    "dic = {}\n",
    "none = None\n",
    "\n",
    "for line in hd :\n",
    "    line = line.rstrip()\n",
    "    \n",
    "    if len(line) > 2 and 'From' in line :\n",
    "            s_line = line.split()\n",
    "            lst.append(s_line[1])\n",
    "            \n",
    "            if s_line[1] in lst :\n",
    "                dic[s_line[1]] = dic.get(s_line[1], 0) + 1 \n",
    "    \n",
    "print('등장한 메일계정들 >> ',dic,'--'*10)\n",
    "\n",
    "dicc = {}\n",
    "count = 0\n",
    "word = None\n",
    "                \n",
    "for x, y in dic.items() :\n",
    "    if y > 9 :\n",
    "        count = y\n",
    "        word = x\n",
    "print('가장 많이 등장한 메일계정 >> ',word, '// 횟수: ',count)"
   ]
  }
 ],
 "metadata": {
  "kernelspec": {
   "display_name": "Python 3",
   "language": "python",
   "name": "python3"
  },
  "language_info": {
   "codemirror_mode": {
    "name": "ipython",
    "version": 3
   },
   "file_extension": ".py",
   "mimetype": "text/x-python",
   "name": "python",
   "nbconvert_exporter": "python",
   "pygments_lexer": "ipython3",
   "version": "3.7.3"
  }
 },
 "nbformat": 4,
 "nbformat_minor": 2
}
