{
 "cells": [
  {
   "cell_type": "code",
   "execution_count": null,
   "metadata": {},
   "outputs": [],
   "source": [
    "cd desktop/jupyter"
   ]
  },
  {
   "cell_type": "code",
   "execution_count": null,
   "metadata": {},
   "outputs": [],
   "source": [
    "han = open('mbox-short.txt')\n",
    "\n",
    "for line in han :\n",
    "    line = line.rstrip()\n",
    "    wds = line.split()\n",
    "    #print('words', wds)\n",
    "    \n",
    "    # 바로 아래의 if문이 **가디언패턴** 으로 에러를 방지함\n",
    "    # if len(wds) < 3 : \n",
    "    # 가디언문이 진짜 조건문보다 먼저 와야지 에러가 발생하지 않음\n",
    "    \n",
    "    if len(wds) < 3 or wds[0] != 'From' :\n",
    "        continue\n",
    "    print(wds[2])"
   ]
  },
  {
   "cell_type": "code",
   "execution_count": 14,
   "metadata": {},
   "outputs": [
    {
     "name": "stdout",
     "output_type": "stream",
     "text": [
      "Enter file name: romeo.txt\n",
      "['Arise', 'But', 'It', 'Juliet', 'Who', 'already', 'and', 'breaks', 'east', 'envious', 'fair', 'grief', 'is', 'kill', 'light', 'moon', 'pale', 'sick', 'soft', 'sun', 'the', 'through', 'what', 'window', 'with', 'yonder']\n",
      "True\n"
     ]
    }
   ],
   "source": [
    "fname = input(\"Enter file name: \")\n",
    "fh = open(fname)\n",
    "lst = list()\n",
    "\n",
    "for line in fh:\n",
    "    line = line.rstrip()\n",
    "    s_line = line.split()\n",
    "    \n",
    "    for e_line in s_line :\n",
    "        if e_line in lst :\n",
    "            continue\n",
    "        else : \n",
    "            lst.append(e_line)\n",
    "        \n",
    "lst.sort()\n",
    "print(lst)\n",
    "b = ['Arise', 'But', 'It', 'Juliet', 'Who', 'already', 'and', 'breaks', 'east', 'envious', 'fair', 'grief', 'is', 'kill', 'light', 'moon', 'pale', 'sick', 'soft', 'sun', 'the', 'through', 'what', 'window', 'with', 'yonder']\n",
    "#  print(lst==b)"
   ]
  },
  {
   "cell_type": "code",
   "execution_count": 48,
   "metadata": {},
   "outputs": [
    {
     "name": "stdout",
     "output_type": "stream",
     "text": [
      "Enter file name: \n",
      "stephen.marquard@uct.ac.za\n",
      ">> 0 7 ['From', 'stephen.marquard@uct.ac.za', 'Sat', 'Jan', '5', '09:14:16', '2008']\n",
      "louis@media.berkeley.edu\n",
      ">> 1 7 ['From', 'louis@media.berkeley.edu', 'Fri', 'Jan', '4', '18:10:48', '2008']\n",
      "zqian@umich.edu\n",
      ">> 2 7 ['From', 'zqian@umich.edu', 'Fri', 'Jan', '4', '16:10:39', '2008']\n",
      "rjlowe@iupui.edu\n",
      ">> 3 7 ['From', 'rjlowe@iupui.edu', 'Fri', 'Jan', '4', '15:46:24', '2008']\n",
      "zqian@umich.edu\n",
      ">> 4 7 ['From', 'zqian@umich.edu', 'Fri', 'Jan', '4', '15:03:18', '2008']\n",
      "rjlowe@iupui.edu\n",
      ">> 5 7 ['From', 'rjlowe@iupui.edu', 'Fri', 'Jan', '4', '14:50:18', '2008']\n",
      "cwen@iupui.edu\n",
      ">> 6 7 ['From', 'cwen@iupui.edu', 'Fri', 'Jan', '4', '11:37:30', '2008']\n",
      "cwen@iupui.edu\n",
      ">> 7 7 ['From', 'cwen@iupui.edu', 'Fri', 'Jan', '4', '11:35:08', '2008']\n",
      "gsilver@umich.edu\n",
      ">> 8 7 ['From', 'gsilver@umich.edu', 'Fri', 'Jan', '4', '11:12:37', '2008']\n",
      "gsilver@umich.edu\n",
      ">> 9 7 ['From', 'gsilver@umich.edu', 'Fri', 'Jan', '4', '11:11:52', '2008']\n",
      "zqian@umich.edu\n",
      ">> 10 7 ['From', 'zqian@umich.edu', 'Fri', 'Jan', '4', '11:11:03', '2008']\n",
      "gsilver@umich.edu\n",
      ">> 11 7 ['From', 'gsilver@umich.edu', 'Fri', 'Jan', '4', '11:10:22', '2008']\n",
      "wagnermr@iupui.edu\n",
      ">> 12 7 ['From', 'wagnermr@iupui.edu', 'Fri', 'Jan', '4', '10:38:42', '2008']\n",
      "zqian@umich.edu\n",
      ">> 13 7 ['From', 'zqian@umich.edu', 'Fri', 'Jan', '4', '10:17:43', '2008']\n",
      "antranig@caret.cam.ac.uk\n",
      ">> 14 7 ['From', 'antranig@caret.cam.ac.uk', 'Fri', 'Jan', '4', '10:04:14', '2008']\n",
      "gopal.ramasammycook@gmail.com\n",
      ">> 15 7 ['From', 'gopal.ramasammycook@gmail.com', 'Fri', 'Jan', '4', '09:05:31', '2008']\n",
      "david.horwitz@uct.ac.za\n",
      ">> 16 7 ['From', 'david.horwitz@uct.ac.za', 'Fri', 'Jan', '4', '07:02:32', '2008']\n",
      "david.horwitz@uct.ac.za\n",
      ">> 17 7 ['From', 'david.horwitz@uct.ac.za', 'Fri', 'Jan', '4', '06:08:27', '2008']\n",
      "david.horwitz@uct.ac.za\n",
      ">> 18 7 ['From', 'david.horwitz@uct.ac.za', 'Fri', 'Jan', '4', '04:49:08', '2008']\n",
      "david.horwitz@uct.ac.za\n",
      ">> 19 7 ['From', 'david.horwitz@uct.ac.za', 'Fri', 'Jan', '4', '04:33:44', '2008']\n",
      "stephen.marquard@uct.ac.za\n",
      ">> 20 7 ['From', 'stephen.marquard@uct.ac.za', 'Fri', 'Jan', '4', '04:07:34', '2008']\n",
      "louis@media.berkeley.edu\n",
      ">> 21 7 ['From', 'louis@media.berkeley.edu', 'Thu', 'Jan', '3', '19:51:21', '2008']\n",
      "louis@media.berkeley.edu\n",
      ">> 22 7 ['From', 'louis@media.berkeley.edu', 'Thu', 'Jan', '3', '17:18:23', '2008']\n",
      "ray@media.berkeley.edu\n",
      ">> 23 7 ['From', 'ray@media.berkeley.edu', 'Thu', 'Jan', '3', '17:07:00', '2008']\n",
      "cwen@iupui.edu\n",
      ">> 24 7 ['From', 'cwen@iupui.edu', 'Thu', 'Jan', '3', '16:34:40', '2008']\n",
      "cwen@iupui.edu\n",
      ">> 25 7 ['From', 'cwen@iupui.edu', 'Thu', 'Jan', '3', '16:29:07', '2008']\n",
      "cwen@iupui.edu\n",
      ">> 26 7 ['From', 'cwen@iupui.edu', 'Thu', 'Jan', '3', '16:23:48', '2008']\n",
      "There were 27 lines in the file with From as the first word\n"
     ]
    }
   ],
   "source": [
    "# exercise 8.5 : Pass !! kk\n",
    "\n",
    "fname = input(\"Enter file name: \")\n",
    "if len(fname) < 1 : fname = \"mbox-short.txt\"\n",
    "\n",
    "fh = open(fname)\n",
    "count = 0\n",
    "\n",
    "for line in fh:\n",
    "    line = line.rstrip()\n",
    "    split_l = line.split()\n",
    "    \n",
    "    if len(split_l) < 3 or split_l[0] != 'From' :\n",
    "        #print(len(split_l))\n",
    "        continue\n",
    "    print(split_l[1])\n",
    "    print('>>',count, len(split_l), split_l)\n",
    "    count += 1\n",
    "    \n",
    "           \n",
    "print(\"There were\", count, \"lines in the file with From as the first word\")\n",
    "    "
   ]
  }
 ],
 "metadata": {
  "kernelspec": {
   "display_name": "Python 3",
   "language": "python",
   "name": "python3"
  },
  "language_info": {
   "codemirror_mode": {
    "name": "ipython",
    "version": 3
   },
   "file_extension": ".py",
   "mimetype": "text/x-python",
   "name": "python",
   "nbconvert_exporter": "python",
   "pygments_lexer": "ipython3",
   "version": "3.7.3"
  }
 },
 "nbformat": 4,
 "nbformat_minor": 2
}
