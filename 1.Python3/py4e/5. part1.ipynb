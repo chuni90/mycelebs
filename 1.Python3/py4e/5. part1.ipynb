{
 "cells": [
  {
   "cell_type": "markdown",
   "metadata": {},
   "source": [
    "* 문자열에서의 루프"
   ]
  },
  {
   "cell_type": "code",
   "execution_count": 4,
   "metadata": {},
   "outputs": [
    {
     "name": "stdout",
     "output_type": "stream",
     "text": [
      "0 c\n",
      "1 h\n",
      "2 u\n",
      "3 n\n",
      "4\n"
     ]
    }
   ],
   "source": [
    "# while 사용\n",
    "\n",
    "def len_str(x):\n",
    "    index = 0\n",
    "    while index < len(x) :\n",
    "        letter = x[index]\n",
    "        print(index, letter)\n",
    "        index += 1\n",
    "    return index\n",
    "        \n",
    "print(len_str('chun'))"
   ]
  },
  {
   "cell_type": "code",
   "execution_count": 9,
   "metadata": {},
   "outputs": [
    {
     "name": "stdout",
     "output_type": "stream",
     "text": [
      "1 b\n",
      "2 a\n",
      "3 n\n",
      "4 a\n",
      "5 n\n",
      "6 a\n",
      "done\n"
     ]
    }
   ],
   "source": [
    "# for 루프 사용\n",
    "\n",
    "def len_str2(x) :\n",
    "    index = 0\n",
    "    for i in x :\n",
    "        index += 1\n",
    "        print(index, i)\n",
    "        \n",
    "    return 'done'\n",
    "        \n",
    "print(len_str2('banana'))"
   ]
  },
  {
   "cell_type": "code",
   "execution_count": 11,
   "metadata": {},
   "outputs": [
    {
     "name": "stdout",
     "output_type": "stream",
     "text": [
      "2\n"
     ]
    }
   ],
   "source": [
    "word = 'onion'\n",
    "count = 0\n",
    "for letter in word :\n",
    "    if letter == 'o' :\n",
    "        count += 1\n",
    "print(count)"
   ]
  },
  {
   "cell_type": "code",
   "execution_count": 17,
   "metadata": {},
   "outputs": [
    {
     "name": "stdout",
     "output_type": "stream",
     "text": [
      "0\n"
     ]
    }
   ],
   "source": [
    "def find_x(x):\n",
    "    count = 0\n",
    "    for i in x :\n",
    "        if i == 'x' :\n",
    "            count += 1\n",
    "    return count\n",
    "\n",
    "print(find_x('there is no X'))"
   ]
  },
  {
   "cell_type": "markdown",
   "metadata": {},
   "source": [
    "### 문자열 메소드\n",
    " * 문자열 내에는 이미 파이썬이 가지고 있는 다양한 문자열 라이브러리를 사용 가능\n",
    " * 이러한 라이브러리는 기존의 문자열을 변경하지 않고 바뀐 모습만 일시적으로 출력\n",
    "   <br>(문자열은 불변타입 이기 때문인 걸로 예상됨)"
   ]
  },
  {
   "cell_type": "code",
   "execution_count": 23,
   "metadata": {},
   "outputs": [
    {
     "name": "stdout",
     "output_type": "stream",
     "text": [
      "hi\n",
      "HI\n"
     ]
    }
   ],
   "source": [
    "greet = 'HI'\n",
    "print(greet.lower())\n",
    "print(greet)"
   ]
  },
  {
   "cell_type": "code",
   "execution_count": 25,
   "metadata": {},
   "outputs": [
    {
     "name": "stdout",
     "output_type": "stream",
     "text": [
      "['__add__', '__class__', '__contains__', '__delattr__', '__dir__', '__doc__', '__eq__', '__format__', '__ge__', '__getattribute__', '__getitem__', '__getnewargs__', '__gt__', '__hash__', '__init__', '__init_subclass__', '__iter__', '__le__', '__len__', '__lt__', '__mod__', '__mul__', '__ne__', '__new__', '__reduce__', '__reduce_ex__', '__repr__', '__rmod__', '__rmul__', '__setattr__', '__sizeof__', '__str__', '__subclasshook__', 'capitalize', 'casefold', 'center', 'count', 'encode', 'endswith', 'expandtabs', 'find', 'format', 'format_map', 'index', 'isalnum', 'isalpha', 'isascii', 'isdecimal', 'isdigit', 'isidentifier', 'islower', 'isnumeric', 'isprintable', 'isspace', 'istitle', 'isupper', 'join', 'ljust', 'lower', 'lstrip', 'maketrans', 'partition', 'replace', 'rfind', 'rindex', 'rjust', 'rpartition', 'rsplit', 'rstrip', 'split', 'splitlines', 'startswith', 'strip', 'swapcase', 'title', 'translate', 'upper', 'zfill']\n"
     ]
    }
   ],
   "source": [
    "print(dir(greet))  # 문자열 메소드들.."
   ]
  },
  {
   "cell_type": "markdown",
   "metadata": {},
   "source": [
    "* find(search, start, end)"
   ]
  },
  {
   "cell_type": "code",
   "execution_count": 1,
   "metadata": {},
   "outputs": [
    {
     "name": "stdout",
     "output_type": "stream",
     "text": [
      "9\n",
      "20\n",
      "@mds.123.22\n",
      "@mds.123.22\n",
      "@\n"
     ]
    }
   ],
   "source": [
    "data = 'hi.there.@mds.123.22 ttt'\n",
    "\n",
    "print(data.find('@'))\n",
    "print(data.find(' '))\n",
    "\n",
    "print(data[9:20])\n",
    "print(data[data.find('@'):data.find(' ')])  # 인덱스 인자에도 메소드를 넣어서 실행이 가능하네!!\n",
    "print(data[9])"
   ]
  },
  {
   "cell_type": "markdown",
   "metadata": {},
   "source": [
    "### exercise 6.5\n",
    " Write code using find() and string slicing (see section 6.10) to extract the number at the end of the line below. Convert the extracted value to a floating point number and print it out."
   ]
  },
  {
   "cell_type": "markdown",
   "metadata": {},
   "source": [
    "근데 이 코드는 본질적으로 띄어쓰기가 1번 밖에 없어서 가능한 코드"
   ]
  },
  {
   "cell_type": "code",
   "execution_count": 14,
   "metadata": {},
   "outputs": [
    {
     "name": "stdout",
     "output_type": "stream",
     "text": [
      "0.8475\n"
     ]
    }
   ],
   "source": [
    "text = \"X-DSPAM-Confidence:    0.8475\"\n",
    "\n",
    "text.find(' ')\n",
    "text_st = text.replace('    ','')\n",
    "print(float(text_st[19:]))"
   ]
  },
  {
   "cell_type": "markdown",
   "metadata": {},
   "source": [
    "위에 코드에서 개선시켜서 공백이 몇 개나 있던  split 사용하여 숫자를 언제든지 쓸 수 있게 해본거"
   ]
  },
  {
   "cell_type": "code",
   "execution_count": 23,
   "metadata": {},
   "outputs": [
    {
     "name": "stdout",
     "output_type": "stream",
     "text": [
      "0.8475\n"
     ]
    }
   ],
   "source": [
    "text2 = \"X-DSPAM  -Confidence:  @asd  0.8475\"\n",
    "\n",
    "ccc = text2.split()\n",
    "print(ccc.pop())"
   ]
  },
  {
   "cell_type": "markdown",
   "metadata": {},
   "source": [
    "* (혼자하는 실습)문자열에서 @, 공백 사이에 있는 문자들을 가져오는 함수 만들어보기"
   ]
  },
  {
   "cell_type": "code",
   "execution_count": 29,
   "metadata": {},
   "outputs": [
    {
     "name": "stdout",
     "output_type": "stream",
     "text": [
      "2 7\n",
      "as23d\n",
      "7 16\n",
      "naver.com\n"
     ]
    }
   ],
   "source": [
    "def find_domain(x) :\n",
    "    a = x.find('@') + 1\n",
    "    b = x.find(' ')\n",
    "    print(a, b)\n",
    "    \n",
    "    return print(x[a : b])\n",
    "                 \n",
    "find_domain('a@as23d :dasd')\n",
    "find_domain('hi.ist@naver.com this is my e-mail')"
   ]
  },
  {
   "cell_type": "markdown",
   "metadata": {},
   "source": [
    "#### text 내에서 도메인 찾아내는 함수 (내가 만듦!)"
   ]
  },
  {
   "cell_type": "code",
   "execution_count": 53,
   "metadata": {},
   "outputs": [
    {
     "name": "stdout",
     "output_type": "stream",
     "text": [
      "['hi', 'this', '@facebok.com', 'maild.', '@nate.com', '2s', 'asd']\n",
      "No. 1 >> facebok.com\n",
      "No. 2 >> nate.com\n"
     ]
    }
   ],
   "source": [
    "text3 = 'hi this @facebok.com  maild. @nate.com 2s    asd'\n",
    "\n",
    "def find_mail(x) :\n",
    "    s_text3 = text3.split()\n",
    "    print(s_text3)\n",
    "    count = 0\n",
    "    for i in s_text3 :\n",
    "        if '@' in i :\n",
    "            count += 1\n",
    "            i = i.lstrip('@')\n",
    "            print('No.',count,'>>', i)\n",
    "            \n",
    "find_mail(text3)\n",
    "    "
   ]
  }
 ],
 "metadata": {
  "kernelspec": {
   "display_name": "Python 3",
   "language": "python",
   "name": "python3"
  },
  "language_info": {
   "codemirror_mode": {
    "name": "ipython",
    "version": 3
   },
   "file_extension": ".py",
   "mimetype": "text/x-python",
   "name": "python",
   "nbconvert_exporter": "python",
   "pygments_lexer": "ipython3",
   "version": "3.7.3"
  }
 },
 "nbformat": 4,
 "nbformat_minor": 2
}
