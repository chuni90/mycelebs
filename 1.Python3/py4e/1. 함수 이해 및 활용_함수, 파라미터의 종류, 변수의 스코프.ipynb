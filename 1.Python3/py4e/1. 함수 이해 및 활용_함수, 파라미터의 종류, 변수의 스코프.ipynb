{
 "cells": [
  {
   "cell_type": "markdown",
   "metadata": {},
   "source": [
    "### 함수의 정의"
   ]
  },
  {
   "cell_type": "code",
   "execution_count": 35,
   "metadata": {},
   "outputs": [
    {
     "name": "stdout",
     "output_type": "stream",
     "text": [
      "2\n",
      "2\n",
      "1\n",
      "4\n",
      "4\n",
      "1\n"
     ]
    }
   ],
   "source": [
    "a = [12, 2, 5, 9,55]\n",
    "b = [23, 4, 12, 542]\n",
    "\n",
    "def go_min(llist) :\n",
    "    _min = llist[0]\n",
    "    \n",
    "    for x in llist[1:] :\n",
    "        if x < _min :\n",
    "            _min = x\n",
    "            print(_min)\n",
    "    return _min\n",
    "\n",
    "getmina = go_min(a)\n",
    "print(getmina)\n",
    "\n",
    "print(_min)\n",
    "\n",
    "getminb = go_min(b)\n",
    "print(getminb)\n",
    "\n",
    "print(_min)\n",
    "    \n",
    "    "
   ]
  },
  {
   "cell_type": "code",
   "execution_count": null,
   "metadata": {},
   "outputs": [],
   "source": [
    "a = [12, 2, 5, 9,55]\n",
    "getmina = go_min(a)"
   ]
  },
  {
   "cell_type": "code",
   "execution_count": 47,
   "metadata": {},
   "outputs": [
    {
     "name": "stdout",
     "output_type": "stream",
     "text": [
      "6 7\n"
     ]
    }
   ],
   "source": [
    "six = 6\n",
    "\n",
    "def in_1(x) : \n",
    "    x = x + 1\n",
    "    \n",
    "    return x\n",
    "sixis= in_1(six)\n",
    "\n",
    "print(six, sixis)"
   ]
  },
  {
   "cell_type": "markdown",
   "metadata": {},
   "source": [
    "### 파라미터의 이해"
   ]
  },
  {
   "cell_type": "markdown",
   "metadata": {},
   "source": [
    "* default parameter"
   ]
  },
  {
   "cell_type": "code",
   "execution_count": 49,
   "metadata": {},
   "outputs": [
    {
     "ename": "TypeError",
     "evalue": "add_all() missing 1 required positional argument: 'a'",
     "output_type": "error",
     "traceback": [
      "\u001b[1;31m---------------------------------------------------------------------------\u001b[0m",
      "\u001b[1;31mTypeError\u001b[0m                                 Traceback (most recent call last)",
      "\u001b[1;32m<ipython-input-49-a5f0c0845e22>\u001b[0m in \u001b[0;36m<module>\u001b[1;34m\u001b[0m\n\u001b[0;32m      2\u001b[0m     \u001b[1;32mreturn\u001b[0m \u001b[0mx\u001b[0m \u001b[1;33m+\u001b[0m \u001b[0my\u001b[0m \u001b[1;33m+\u001b[0m \u001b[0mz\u001b[0m \u001b[1;33m+\u001b[0m \u001b[0ma\u001b[0m\u001b[1;33m\u001b[0m\u001b[1;33m\u001b[0m\u001b[0m\n\u001b[0;32m      3\u001b[0m \u001b[1;33m\u001b[0m\u001b[0m\n\u001b[1;32m----> 4\u001b[1;33m \u001b[0madd_all\u001b[0m\u001b[1;33m(\u001b[0m\u001b[1;36m1\u001b[0m\u001b[1;33m,\u001b[0m \u001b[1;36m2\u001b[0m\u001b[1;33m,\u001b[0m \u001b[1;36m3\u001b[0m\u001b[1;33m)\u001b[0m \u001b[1;31m# 위의 함수'add_all'은 파라미터가 4개 필요하므로, 4개가 입력되지 않으면 에러 발생\u001b[0m\u001b[1;33m\u001b[0m\u001b[1;33m\u001b[0m\u001b[0m\n\u001b[0m",
      "\u001b[1;31mTypeError\u001b[0m: add_all() missing 1 required positional argument: 'a'"
     ]
    }
   ],
   "source": [
    "def add_all(x, y, z ,a) :\n",
    "    return x + y + z + a\n",
    "\n",
    "add_all(1, 2, 3) # 위의 함수'add_all'은 파라미터가 4개 필요하므로, 4개가 입력되지 않으면 에러 발생"
   ]
  },
  {
   "cell_type": "code",
   "execution_count": 50,
   "metadata": {},
   "outputs": [
    {
     "data": {
      "text/plain": [
       "11"
      ]
     },
     "execution_count": 50,
     "metadata": {},
     "output_type": "execute_result"
    }
   ],
   "source": [
    "def add_all(x, y, z ,a) :\n",
    "    return x + y + z + a\n",
    "\n",
    "add_all(1, 2, 3, 5)"
   ]
  },
  {
   "cell_type": "code",
   "execution_count": 53,
   "metadata": {},
   "outputs": [
    {
     "name": "stdout",
     "output_type": "stream",
     "text": [
      "14\n"
     ]
    }
   ],
   "source": [
    "def add_all2(x, y, z ,a=8) :\n",
    "    return x + y + z + a\n",
    "\n",
    "print(add_all2(1, 2, 3))    # 이미 함수에서 4번째 파라미터를 8로 기본값을 부여 했기 때문에, 파마리터를 3개만 넣어도 4번째 파라미터는 자동으로 입력됨"
   ]
  },
  {
   "cell_type": "code",
   "execution_count": 55,
   "metadata": {},
   "outputs": [
    {
     "ename": "SyntaxError",
     "evalue": "non-default argument follows default argument (<ipython-input-55-d7c2aa24af1c>, line 1)",
     "output_type": "error",
     "traceback": [
      "\u001b[1;36m  File \u001b[1;32m\"<ipython-input-55-d7c2aa24af1c>\"\u001b[1;36m, line \u001b[1;32m1\u001b[0m\n\u001b[1;33m    def add_all2(x, y=2,  z ,a) :   # 기본값이 있는 파라미터는 뒤에서부터 채워나가야 함\u001b[0m\n\u001b[1;37m                ^\u001b[0m\n\u001b[1;31mSyntaxError\u001b[0m\u001b[1;31m:\u001b[0m non-default argument follows default argument\n"
     ]
    }
   ],
   "source": [
    "def add_all2(x, y=2,  z ,a) :   # 기본값이 있는 파라미터는 뒤에서부터 채워나가야 함\n",
    "    return x + y + z + a\n",
    "\n",
    "print(add_all2(1, 2, 3)) "
   ]
  },
  {
   "cell_type": "markdown",
   "metadata": {},
   "source": [
    "### named parameter"
   ]
  },
  {
   "cell_type": "code",
   "execution_count": 58,
   "metadata": {},
   "outputs": [
    {
     "name": "stdout",
     "output_type": "stream",
     "text": [
      "-10 10 -10\n"
     ]
    }
   ],
   "source": [
    "def sub(x, y):\n",
    "    return x - y\n",
    "\n",
    "a = sub(30, 40)      \n",
    "b = sub(y=30, x=40)      # named parameter이며, 위치에 상관없이 이름을 딱 지정했기 때문에 각 이름에 부여한 값이 대입됨 \n",
    "c = sub(x=30, y=40)         \n",
    "print(a, b, c)"
   ]
  },
  {
   "cell_type": "markdown",
   "metadata": {},
   "source": [
    "### (*)가변길이 파라미터\n",
    "  * 파라미터가 몇 개가 들어갈 지 정하지 못했다면, 파라미터가 변할 수 있도록 \"*\"표시를 앞에 달아주면 됨.\n",
    "  * 이걸로 파라미터를 달아주면 자료타입은 tuple으로 바뀐다. \n",
    "  * 즉 파라미터로 tuple을 사용하는 것\n"
   ]
  },
  {
   "cell_type": "code",
   "execution_count": 60,
   "metadata": {},
   "outputs": [
    {
     "name": "stdout",
     "output_type": "stream",
     "text": [
      "0 1 2 3 4\n"
     ]
    }
   ],
   "source": [
    "a= 0\n",
    "b= 1\n",
    "c= 2\n",
    "d= 3\n",
    "e= 4\n",
    "\n",
    "print(a, b, c, d, e)"
   ]
  },
  {
   "cell_type": "code",
   "execution_count": 73,
   "metadata": {},
   "outputs": [
    {
     "name": "stdout",
     "output_type": "stream",
     "text": [
      "<class 'tuple'>\n",
      "0\n",
      "<class 'tuple'>\n",
      "8\n",
      "<class 'tuple'>\n",
      "28\n"
     ]
    }
   ],
   "source": [
    "def add_all(*x) :    # x 앞에 '*' 를 달아서 가변파라미터로 변경\n",
    "    print(type(x))   # 클래스를 확인하니 'tuple'\n",
    "    total = 0 \n",
    "    for i in x :\n",
    "        total += i\n",
    "    return total\n",
    "    \n",
    "print(add_all())\n",
    "\n",
    "print(add_all(3, 5))  # 파라미터를 몇 개를 넣어도 함수가 잘 작동함\n",
    "print(add_all(2, 5, 21))\n"
   ]
  },
  {
   "cell_type": "markdown",
   "metadata": {},
   "source": [
    "### (**)키워드 파라미터\n",
    "   * 마찬가지로 입력개수가 정해져 있지 않고, 파라미터를 dict(딕셔너리)로 받는 방법"
   ]
  },
  {
   "cell_type": "code",
   "execution_count": 75,
   "metadata": {},
   "outputs": [],
   "source": [
    "def print_all(**kwarge) :\n",
    "    print(kwarge)\n",
    "    print(type(kwarge))"
   ]
  },
  {
   "cell_type": "code",
   "execution_count": 76,
   "metadata": {},
   "outputs": [
    {
     "name": "stdout",
     "output_type": "stream",
     "text": [
      "{'a': 1, 'b': 2, 'c': 3, 'd': 4, 'xx': 5, 'kwch': 60}\n",
      "<class 'dict'>\n"
     ]
    }
   ],
   "source": [
    "print_all(a=1, b=2, c =3, d=4, xx= 5, kwch = 60)"
   ]
  },
  {
   "cell_type": "markdown",
   "metadata": {},
   "source": [
    "### return keyword"
   ]
  },
  {
   "cell_type": "code",
   "execution_count": 82,
   "metadata": {},
   "outputs": [
    {
     "data": {
      "text/plain": [
       "70"
      ]
     },
     "execution_count": 82,
     "metadata": {},
     "output_type": "execute_result"
    }
   ],
   "source": [
    "def add2(x, y) :\n",
    "    if x == 0 :\n",
    "        return y\n",
    "    \n",
    "    return x + y\n",
    "\n",
    "add2(30, 40)"
   ]
  },
  {
   "cell_type": "code",
   "execution_count": 84,
   "metadata": {},
   "outputs": [
    {
     "name": "stdout",
     "output_type": "stream",
     "text": [
      "50\n"
     ]
    }
   ],
   "source": [
    "c = add(0, 50)\n",
    "print(c)"
   ]
  },
  {
   "cell_type": "code",
   "execution_count": 85,
   "metadata": {},
   "outputs": [],
   "source": [
    "def no_return(x):\n",
    "    if x == 0:\n",
    "        return            # return 값이 없으면 'None' 값을 반환함\n",
    "    return x + 1"
   ]
  },
  {
   "cell_type": "code",
   "execution_count": 86,
   "metadata": {},
   "outputs": [
    {
     "name": "stdout",
     "output_type": "stream",
     "text": [
      "10\n"
     ]
    }
   ],
   "source": [
    "a = no_return(9)\n",
    "print(a)"
   ]
  },
  {
   "cell_type": "code",
   "execution_count": 89,
   "metadata": {},
   "outputs": [
    {
     "name": "stdout",
     "output_type": "stream",
     "text": [
      "None\n",
      "<class 'NoneType'>\n"
     ]
    }
   ],
   "source": [
    "a = no_return(0)   \n",
    "print(a) \n",
    "print(type(a))"
   ]
  },
  {
   "cell_type": "markdown",
   "metadata": {},
   "source": [
    "### 변수의 스코프\n",
    " * 함수 안에서 실행된 변수는 함수 안에서만 사용됨"
   ]
  },
  {
   "cell_type": "code",
   "execution_count": 96,
   "metadata": {},
   "outputs": [
    {
     "name": "stdout",
     "output_type": "stream",
     "text": [
      "201\n",
      "100\n"
     ]
    }
   ],
   "source": [
    "x = 100   # 현재 x 는 글로벌변수로 어느 곳에서나 호출 가능\n",
    "def increse(x) :\n",
    "    x = x + 1\n",
    "    return x\n",
    "\n",
    "print(increse(200))\n",
    "print(x)"
   ]
  },
  {
   "cell_type": "code",
   "execution_count": 94,
   "metadata": {},
   "outputs": [
    {
     "ename": "NameError",
     "evalue": "name 'x' is not defined",
     "output_type": "error",
     "traceback": [
      "\u001b[1;31m---------------------------------------------------------------------------\u001b[0m",
      "\u001b[1;31mNameError\u001b[0m                                 Traceback (most recent call last)",
      "\u001b[1;32m<ipython-input-94-b7b972bcb247>\u001b[0m in \u001b[0;36m<module>\u001b[1;34m\u001b[0m\n\u001b[1;32m----> 1\u001b[1;33m \u001b[1;32mdel\u001b[0m \u001b[0mx\u001b[0m   \u001b[1;31m# 변수를 지우는 함수\u001b[0m\u001b[1;33m\u001b[0m\u001b[1;33m\u001b[0m\u001b[0m\n\u001b[0m\u001b[0;32m      2\u001b[0m \u001b[0mprint\u001b[0m\u001b[1;33m(\u001b[0m\u001b[0mx\u001b[0m\u001b[1;33m)\u001b[0m\u001b[1;33m\u001b[0m\u001b[1;33m\u001b[0m\u001b[0m\n",
      "\u001b[1;31mNameError\u001b[0m: name 'x' is not defined"
     ]
    }
   ],
   "source": [
    "del x   # 변수를 지우는 함수\n",
    "print(x) "
   ]
  },
  {
   "cell_type": "code",
   "execution_count": null,
   "metadata": {},
   "outputs": [],
   "source": []
  }
 ],
 "metadata": {
  "kernelspec": {
   "display_name": "Python 3",
   "language": "python",
   "name": "python3"
  },
  "language_info": {
   "codemirror_mode": {
    "name": "ipython",
    "version": 3
   },
   "file_extension": ".py",
   "mimetype": "text/x-python",
   "name": "python",
   "nbconvert_exporter": "python",
   "pygments_lexer": "ipython3",
   "version": "3.7.3"
  }
 },
 "nbformat": 4,
 "nbformat_minor": 2
}
