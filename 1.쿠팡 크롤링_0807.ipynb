{
 "cells": [
  {
   "cell_type": "markdown",
   "metadata": {},
   "source": [
    "#### 쿠팡 상품 검색 후, 상품별 가격 크롤링, 페이지 넘기기 가능\n",
    "- https://selenium-python.readthedocs.io/installation.html(selenium 공식문서)"
   ]
  },
  {
   "cell_type": "code",
   "execution_count": null,
   "metadata": {},
   "outputs": [],
   "source": [
    "# 불러올 라이브러리\n",
    "\n",
    "import requests, time, csv, openpyxl\n",
    "from datetime import datetime\n",
    "import pandas as pd\n",
    "from bs4 import BeautifulSoup\n",
    "from selenium import webdriver\n",
    "from selenium.webdriver.common.keys import Keys\n",
    "from selenium.webdriver.support.ui import WebDriverWait\n",
    "from selenium.webdriver.support import expected_conditions as EC\n",
    "from selenium.webdriver.common.by import By"
   ]
  },
  {
   "cell_type": "code",
   "execution_count": null,
   "metadata": {},
   "outputs": [],
   "source": [
    "start = time.time()\n",
    "#-----------------파일 저장하기 -------------------------------\n",
    "wb = openpyxl.Workbook()\n",
    "sheet1 = wb['Sheet']\n",
    "sheet1.title = 'data'\n",
    "sheet1.append([\"name\", \"price\"])\n",
    "              \n",
    "def crawling_product():\n",
    "#----------------- 계정, 검색 상품, 검색할 페이지 지정-------------------------\n",
    "    myid = input(\"ID를 적어주세요 >>\")\n",
    "    pwd = input(\"비밀번호를 적어주세요 >>\")\n",
    "    product = input(\"검색할 상품은 무엇인가요? >>\")\n",
    "    page_count = input(\"\\n몇 페이지 정도 검색하실래요? >>\")\n",
    "    page_count = int(page_count)\n",
    "\n",
    "#----------------- 쿠팡 로그인 ---------------------------\n",
    "    chrome_driver = '/Users/1000/Downloads/chromedriver'\n",
    "    driver = webdriver.Chrome(chrome_driver)\n",
    "\n",
    "    driver.get('https://www.coupang.com/')\n",
    "    search = driver.find_element_by_class_name('login').click()\n",
    "\n",
    "\n",
    "    search_id = driver.find_element_by_id('login-email-input')\n",
    "    search_id.send_keys(myid)\n",
    "\n",
    "    search_pw = driver.find_element_by_id('login-password-input')\n",
    "    search_pw.send_keys(pwd)\n",
    "    search_pw.send_keys(Keys.RETURN)\n",
    "        \n",
    "    WebDriverWait(driver, 5).until(EC.presence_of_element_located((By.ID,'headerSearchKeyword')))\n",
    "\n",
    "#----------------- 상품명과 page 별로 이동하면서 긁어오기-------------------------    \n",
    "    page = 'https://www.coupang.com/np/search?q={}&brand=&offerCondition=&filter=&availableDeliveryFilter=&filterType=&isPriceRange=false&priceRange=&minPrice=&maxPrice=&page={}&trcid=&traid=&filterSetByUser=true&channel=user&backgroundColor=&component=&rating=0&sorter=scoreDesc&listSize=36'\n",
    "    \n",
    "    for i in range(1,page_count+1) :\n",
    "        driver.get(page.format(product,i))\n",
    "        \n",
    "        src = driver.page_source\n",
    "        soup = BeautifulSoup(src, 'html.parser')\n",
    "        \n",
    "        for b in soup.find_all('div', class_='descriptions-inner'):\n",
    "            name = b.find('div', class_='name').get_text().strip()\n",
    "            price = b.find('strong', class_='price-value').get_text().strip()\n",
    "            \n",
    "            sheet1.append([name, int(price.replace(',',''))])\n",
    "\n",
    "        WebDriverWait(driver, 10)\n",
    "        \n",
    "    wb.save('{}_result.xlsx'.format(product))    \n",
    "    \n",
    "    return \n",
    "crawling_product()\n",
    "print(\"\\nWorkingTime: {} sec\".format(time.time()-start))"
   ]
  }
 ],
 "metadata": {
  "kernelspec": {
   "display_name": "Python 3",
   "language": "python",
   "name": "python3"
  },
  "language_info": {
   "codemirror_mode": {
    "name": "ipython",
    "version": 3
   },
   "file_extension": ".py",
   "mimetype": "text/x-python",
   "name": "python",
   "nbconvert_exporter": "python",
   "pygments_lexer": "ipython3",
   "version": "3.7.3"
  }
 },
 "nbformat": 4,
 "nbformat_minor": 2
}
